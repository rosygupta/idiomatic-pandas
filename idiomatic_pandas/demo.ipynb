{
 "cells": [
  {
   "cell_type": "markdown",
   "metadata": {},
   "source": [
    "# Why pandas?\n",
    "\n",
    "The `🐼.DataFrame` and `🐼.Series` `object`s provide [fluent interfaces](https://en.wikipedia.org/wiki/Fluent_interface) to compose complex actions that transform, visualize, and model data by [chaining](https://tomaugspurger.github.io/method-chaining).  \n",
    "\n",
    "[![image](https://user-images.githubusercontent.com/4236275/46419595-3bac3580-c6fc-11e8-85c9-3ffe212c0021.png)](https://trestletech.com/wp-content/uploads/2015/07/dplyr.pdf#page=6)\n",
    "\n",
    "\n",
    "To me, and some others, fluent interfaces are more readable than nested operations. \n",
    "\n",
    "[![image](https://user-images.githubusercontent.com/4236275/46419770-980f5500-c6fc-11e8-9cbd-a4ca0b830b6e.png)](https://tomaugspurger.github.io/method-chaining)"
   ]
  },
  {
   "cell_type": "markdown",
   "metadata": {},
   "source": [
    "# ✋✋✋✋✋✋✋✋\n",
    "\n",
    "I'm [Tony Fast]().ipynb_checkpoints/  I organize [PyData Atlanta]() and the [Jupyter User Group]().  I am currently interested in composing human readable programs\n",
    "using notebooks.\n",
    "\n",
    "I'm going to tell you a little bit about myself in data.  Then we will dissect my approach."
   ]
  },
  {
   "cell_type": "code",
   "execution_count": 3,
   "metadata": {},
   "outputs": [
    {
     "data": {
      "text/markdown": [
       "    from .statements import get as request\n",
       "    import typing as t\n",
       "    import pandas, asyncio, ibis.sql.sqlite\n",
       "    from toolz.curried import *\n",
       "    %matplotlib inline\n",
       "    import datetime"
      ],
      "text/plain": [
       "<IPython.core.display.Markdown object>"
      ]
     },
     "metadata": {},
     "output_type": "display_data"
    },
    {
     "name": "stderr",
     "output_type": "stream",
     "text": [
      "C:\\Anaconda3\\lib\\site-packages\\ibis\\sql\\postgres\\compiler.py:223: UserWarning: locale specific date formats (%c, %x, %X) are not yet implemented for Windows\n",
      "  'for %s' % platform.system()\n"
     ]
    }
   ],
   "source": [
    "    from .statements import get as request\n",
    "    import typing as t\n",
    "    import pandas, asyncio, ibis.sql.sqlite\n",
    "    from toolz.curried import *\n",
    "    %matplotlib inline\n",
    "    import datetime"
   ]
  },
  {
   "cell_type": "markdown",
   "metadata": {},
   "source": [
    "# Accessing data.\n",
    "\n",
    "Pandas has a bunch of read methods that you should fully take advantage of."
   ]
  },
  {
   "cell_type": "code",
   "execution_count": 4,
   "metadata": {},
   "outputs": [
    {
     "data": {
      "text/markdown": [
       "    pipe(pandas, dir, filter(flip(str.startswith)('read_')), list, pandas.DataFrame).T"
      ],
      "text/plain": [
       "<IPython.core.display.Markdown object>"
      ]
     },
     "metadata": {},
     "output_type": "display_data"
    },
    {
     "data": {
      "text/html": [
       "<div>\n",
       "<style scoped>\n",
       "    .dataframe tbody tr th:only-of-type {\n",
       "        vertical-align: middle;\n",
       "    }\n",
       "\n",
       "    .dataframe tbody tr th {\n",
       "        vertical-align: top;\n",
       "    }\n",
       "\n",
       "    .dataframe thead th {\n",
       "        text-align: right;\n",
       "    }\n",
       "</style>\n",
       "<table border=\"1\" class=\"dataframe\">\n",
       "  <thead>\n",
       "    <tr style=\"text-align: right;\">\n",
       "      <th></th>\n",
       "      <th>0</th>\n",
       "      <th>1</th>\n",
       "      <th>2</th>\n",
       "      <th>3</th>\n",
       "      <th>4</th>\n",
       "      <th>5</th>\n",
       "      <th>6</th>\n",
       "      <th>7</th>\n",
       "      <th>8</th>\n",
       "      <th>9</th>\n",
       "      <th>10</th>\n",
       "      <th>11</th>\n",
       "      <th>12</th>\n",
       "      <th>13</th>\n",
       "      <th>14</th>\n",
       "      <th>15</th>\n",
       "      <th>16</th>\n",
       "      <th>17</th>\n",
       "    </tr>\n",
       "  </thead>\n",
       "  <tbody>\n",
       "    <tr>\n",
       "      <th>0</th>\n",
       "      <td>read_clipboard</td>\n",
       "      <td>read_csv</td>\n",
       "      <td>read_excel</td>\n",
       "      <td>read_feather</td>\n",
       "      <td>read_fwf</td>\n",
       "      <td>read_gbq</td>\n",
       "      <td>read_hdf</td>\n",
       "      <td>read_html</td>\n",
       "      <td>read_json</td>\n",
       "      <td>read_msgpack</td>\n",
       "      <td>read_parquet</td>\n",
       "      <td>read_pickle</td>\n",
       "      <td>read_sas</td>\n",
       "      <td>read_sql</td>\n",
       "      <td>read_sql_query</td>\n",
       "      <td>read_sql_table</td>\n",
       "      <td>read_stata</td>\n",
       "      <td>read_table</td>\n",
       "    </tr>\n",
       "  </tbody>\n",
       "</table>\n",
       "</div>"
      ],
      "text/plain": [
       "               0         1           2             3         4         5   \\\n",
       "0  read_clipboard  read_csv  read_excel  read_feather  read_fwf  read_gbq   \n",
       "\n",
       "         6          7          8             9             10           11  \\\n",
       "0  read_hdf  read_html  read_json  read_msgpack  read_parquet  read_pickle   \n",
       "\n",
       "         12        13              14              15          16          17  \n",
       "0  read_sas  read_sql  read_sql_query  read_sql_table  read_stata  read_table  "
      ]
     },
     "execution_count": 4,
     "metadata": {},
     "output_type": "execute_result"
    }
   ],
   "source": [
    "    pipe(pandas, dir, filter(flip(str.startswith)('read_')), list, pandas.DataFrame).T"
   ]
  },
  {
   "cell_type": "code",
   "execution_count": null,
   "metadata": {},
   "outputs": [],
   "source": [
    "    frames = pandas.read_html(\"https://en.wikipedia.org/wiki/List_of_physical_quantities\")\n",
    "    f\"There are __{len(frames)}__ tables in this webpage.\""
   ]
  },
  {
   "cell_type": "code",
   "execution_count": null,
   "metadata": {},
   "outputs": [],
   "source": [
    "    https://chrisalbon.com/python/data_wrangling/pandas_list_comprehension/"
   ]
  },
  {
   "cell_type": "markdown",
   "metadata": {},
   "source": [
    "## Caching requests\n",
    "\n",
    "Caching our requests assures that our data remains local and we can work with out the internet."
   ]
  },
  {
   "cell_type": "code",
   "execution_count": null,
   "metadata": {},
   "outputs": [],
   "source": [
    "    import requests_cache; requests_cache.install_cache('idiomatic_pandas')"
   ]
  },
  {
   "cell_type": "code",
   "execution_count": null,
   "metadata": {},
   "outputs": [],
   "source": [
    "    request??"
   ]
  },
  {
   "cell_type": "markdown",
   "metadata": {},
   "source": [
    "> Sometimes I use Python type annotations to indicate the input and output values of the functions."
   ]
  },
  {
   "cell_type": "code",
   "execution_count": null,
   "metadata": {},
   "outputs": [],
   "source": [
    "    username = 'tonyfast'"
   ]
  },
  {
   "cell_type": "code",
   "execution_count": null,
   "metadata": {},
   "outputs": [],
   "source": [
    "    info = await request(f\"https://api.github.com/users/%s\"%username); info.to_frame()"
   ]
  },
  {
   "cell_type": "code",
   "execution_count": null,
   "metadata": {},
   "outputs": [],
   "source": [
    "    f\"![]({info.avatar_url})\""
   ]
  },
  {
   "cell_type": "markdown",
   "metadata": {},
   "source": [
    "## Some utitlity statements."
   ]
  },
  {
   "cell_type": "markdown",
   "metadata": {},
   "source": [
    "Accessing historical data in github requires pagination. https://developer.github.com/v3/guides/traversing-with-pagination/"
   ]
  },
  {
   "cell_type": "markdown",
   "metadata": {},
   "source": [
    "`paginate` appends `\"?page=%i\"` to the end of our Github API requests."
   ]
  },
  {
   "cell_type": "code",
   "execution_count": null,
   "metadata": {},
   "outputs": [],
   "source": [
    "    def paginate(url: str, slice: slice=slice(1,3)) -> t.Generator:\n",
    "        return (f\"{url}?page={page}\" for page in range(slice.start, slice.stop+1))"
   ]
  },
  {
   "cell_type": "markdown",
   "metadata": {},
   "source": [
    "I don't have `datetime` for composing timestamps so I use `pandas.to_datetime`"
   ]
  },
  {
   "cell_type": "code",
   "execution_count": null,
   "metadata": {},
   "outputs": [],
   "source": [
    "    def timify(df):\n",
    "        at = [str for str in df.columns if str.endswith('_at')]\n",
    "        df[at] = df[at].apply(pandas.to_datetime)        \n",
    "        return df"
   ]
  },
  {
   "cell_type": "markdown",
   "metadata": {},
   "source": [
    "`pandas.to_timedelta` helps with Δt."
   ]
  },
  {
   "cell_type": "code",
   "execution_count": null,
   "metadata": {},
   "outputs": [],
   "source": [
    "    pandas.to_timedelta('1 days 10 seconds')"
   ]
  },
  {
   "cell_type": "markdown",
   "metadata": {},
   "source": [
    "and the difference between timestamps returns a time delta."
   ]
  },
  {
   "cell_type": "code",
   "execution_count": null,
   "metadata": {},
   "outputs": [],
   "source": [
    "    Δt = pandas.Series([info.created_at, info.updated_at]).pipe(pandas.to_datetime).diff().dropna(); Δt"
   ]
  },
  {
   "cell_type": "markdown",
   "metadata": {},
   "source": [
    "## Let's talk about me"
   ]
  },
  {
   "cell_type": "code",
   "execution_count": null,
   "metadata": {},
   "outputs": [],
   "source": [
    "    repos = pandas.concat(\n",
    "        await asyncio.gather(*map(\n",
    "            request, paginate(info.repos_url, slice(1, info.public_repos//30+1))))\n",
    "    ).set_index('id').pipe(timify)\n",
    "    f\"\"\"There have __{len(repos)}__ repositories associated with [__@{info.login}'s__]({info.html_url}) account after __>{Δt[1].days//365}__ years.\"\"\""
   ]
  },
  {
   "cell_type": "code",
   "execution_count": null,
   "metadata": {},
   "outputs": [],
   "source": [
    "    events = pandas.concat(\n",
    "        await asyncio.gather(*map(\n",
    "            request, paginate(info.events_url.format(**{'/privacy': ''}), slice(1, 10))))\n",
    "    ).set_index('id').pipe(timify)"
   ]
  },
  {
   "cell_type": "markdown",
   "metadata": {},
   "source": [
    ">  __🐼 + `async` + Caching = 💪__"
   ]
  },
  {
   "cell_type": "code",
   "execution_count": null,
   "metadata": {},
   "outputs": [],
   "source": [
    "    gists = pandas.concat(\n",
    "        await asyncio.gather(*map(\n",
    "            request, paginate(info.gists_url.format(**{'/gist_id': ''}), slice(1, info.public_gists//30+1))\n",
    "        ))\n",
    "    ).set_index('id').pipe(timify)\n",
    "    f\"\"\"I've made __{len(gists)}__ gists during that time.\"\"\""
   ]
  },
  {
   "cell_type": "code",
   "execution_count": null,
   "metadata": {},
   "outputs": [],
   "source": [
    "    stars = pandas.concat(\n",
    "        await asyncio.gather(*map(\n",
    "            partial(request, headers={\n",
    "                'Accept': \"application/vnd.github.v3.star+json\"\n",
    "            }), paginate(\n",
    "                info.starred_url.format(**{'/owner': '', '/repo': ''}), slice(1, 700//30+1))\n",
    "        ))\n",
    "    ).pipe(\n",
    "        lambda df: pandas.concat([df.repo.apply(pandas.Series), df.starred_at], axis=1)\n",
    "    ).pipe(timify).set_index('id')\n",
    "    f\"\"\"I've starred __{len(stars)}__ repositories, too.\"\"\""
   ]
  },
  {
   "cell_type": "code",
   "execution_count": null,
   "metadata": {},
   "outputs": [],
   "source": [
    "    pandas.Index.to_series, pandas.Index.to_frame, pandas.Index.to_native_types"
   ]
  },
  {
   "cell_type": "code",
   "execution_count": null,
   "metadata": {},
   "outputs": [],
   "source": [
    "    events.type.value_counts().plot.pie()\n",
    "    f\"\"\"A look at __{username}'s__ last __300__ events.'\"\"\""
   ]
  },
  {
   "cell_type": "code",
   "execution_count": null,
   "metadata": {},
   "outputs": [],
   "source": [
    "    from matplotlib_venn import *; from toolz.curried.operator import *"
   ]
  },
  {
   "cell_type": "code",
   "execution_count": null,
   "metadata": {},
   "outputs": [],
   "source": [
    "    pipe((repos, gists, stars), map(attrgetter('columns')), map(set), list, \n",
    "         partial(venn3_unweighted, set_labels=('repos', 'gists', 'stars')))\n",
    "\n",
    "    intersections = set(repos.columns).intersection(gists.columns).intersection(stars.columns)\n",
    "    f\"The __{len(intersections)}__ overlapping columns are: __{', '.join(intersections)}__\""
   ]
  },
  {
   "cell_type": "markdown",
   "metadata": {},
   "source": [
    "## Aggregations\n",
    "\n",
    "`pandas.DataFrame.groupby` & `pandas.DataFrame.rolling` aggreations"
   ]
  },
  {
   "cell_type": "code",
   "execution_count": null,
   "metadata": {},
   "outputs": [],
   "source": [
    "    monthly_actions = repos.set_index('created_at')[[]].join(\n",
    "        gists.set_index('created_at')[[]]\n",
    "    ).join(\n",
    "        stars.set_index('created_at')[[]]\n",
    "    ).sort_index().index.to_frame().groupby(\n",
    "        pandas.Grouper(freq='M')\n",
    "    ).count()['created_at'].rename('created')"
   ]
  },
  {
   "cell_type": "code",
   "execution_count": null,
   "metadata": {},
   "outputs": [],
   "source": [
    "    ax = monthly_actions.plot(title='Events per month', legend=True)\n",
    "    monthly_actions.rolling(3, center=True).mean().rename('rolling average').fillna(0).plot(ax=ax, legend=True, grid=True)"
   ]
  },
  {
   "cell_type": "code",
   "execution_count": null,
   "metadata": {},
   "outputs": [],
   "source": [
    "    this_years_actions = monthly_actions[monthly_actions.index > pandas.to_datetime('2018-04-01')]\n",
    "    ax = this_years_actions.plot(title='Events per month', legend=True, figsize=(24, 8), grid=True)\n",
    "    this_years_actions.rolling(3, center=True).mean().rename('rolling average').fillna(0).plot(ax=ax, legend=True)\n",
    "    events.set_index('created_at').index.to_frame().groupby(\n",
    "        pandas.Grouper(freq='1D')\n",
    "    ).count()['created_at'].rename('minor events').plot(ax=ax, legend=True, grid=True)"
   ]
  },
  {
   "cell_type": "code",
   "execution_count": null,
   "metadata": {},
   "outputs": [],
   "source": [
    "    gist = gists.files.apply(pandas.Series).stack(level=0).apply(pandas.Series).join(gists).reset_index(-1, drop=True)"
   ]
  },
  {
   "cell_type": "code",
   "execution_count": null,
   "metadata": {},
   "outputs": [],
   "source": [
    "    import matplotlib"
   ]
  },
  {
   "cell_type": "markdown",
   "metadata": {},
   "source": [
    "Method chaingm"
   ]
  },
  {
   "cell_type": "code",
   "execution_count": null,
   "metadata": {},
   "outputs": [],
   "source": [
    "    languages = gist.set_index('created_at').language.groupby(pandas.Grouper(freq='1Y')).value_counts().unstack().pipe(\n",
    "        lambda df: languages.set_index(df.index.year))\n",
    "    subplots = pandas.Series(matplotlib.pyplot.subplots(1, len(languages), figsize=(24, 5))[1], languages.index)\n",
    "    \n",
    "    languages.apply(\n",
    "        lambda s: s.dropna().plot.bar(title=s.name, ax=subplots.loc[s.name], grid=True), axis=1)\n",
    "    matplotlib.pyplot.show()\n",
    "    gist.language.value_counts().plot.bar(title='total', grid=True, figsize=(24, 5));"
   ]
  },
  {
   "cell_type": "markdown",
   "metadata": {},
   "source": [
    "    from . import readme as ˣ"
   ]
  },
  {
   "cell_type": "code",
   "execution_count": null,
   "metadata": {},
   "outputs": [],
   "source": [
    "    import pandas; \"Explicit is better than implicit.\";"
   ]
  },
  {
   "cell_type": "code",
   "execution_count": null,
   "metadata": {},
   "outputs": [],
   "source": [
    "    import os; os.environ.get('gh'); params = {'access_token': os.environ.get('gh')}"
   ]
  },
  {
   "cell_type": "code",
   "execution_count": null,
   "metadata": {},
   "outputs": [],
   "source": [
    "    gh = f\"https://api.github.com/users/%s\""
   ]
  },
  {
   "cell_type": "code",
   "execution_count": null,
   "metadata": {},
   "outputs": [],
   "source": [
    "    info = pandas.read_json(gh%'tonyfast', typ=pandas.Series)"
   ]
  },
  {
   "cell_type": "code",
   "execution_count": null,
   "metadata": {},
   "outputs": [],
   "source": [
    "    import ast\n",
    "    import nbconvert"
   ]
  },
  {
   "cell_type": "code",
   "execution_count": null,
   "metadata": {},
   "outputs": [],
   "source": [
    "    attributes = pandas.Series()\n",
    "    class FindAttributes(ast.NodeVisitor):\n",
    "        def visit_Attribute(self, node):   self.attributes[-1].append(node.attr) or super().generic_visit(node)\n",
    "                        \n",
    "        def visit_Name(self, node):  \n",
    "            value = globals().get(node.id, None)\n",
    "            self.attributes[-1].append(\n",
    "                type(value).__name__ if isinstance(value, (pandas.DataFrame, pandas.Series)) else node.id\n",
    "            ) or super().generic_visit(node)\n",
    "\n",
    "        def __call__(self, str):\n",
    "            self.attributes = list()\n",
    "            for body in ast.parse(str).body:\n",
    "                self.attributes.append([])\n",
    "                self.visit(body)\n",
    "                self.attributes[-1] = ', '.join(reversed(self.attributes[-1]))\n",
    "            return pandas.Series(self.attributes).pipe(lambda s: s[s.apply(bool)])\n",
    "    actions = FindAttributes()(nbconvert.get_exporter('python')().from_filename(filename='intro.ipynb')[0].replace('await ', ''))"
   ]
  },
  {
   "cell_type": "markdown",
   "metadata": {},
   "source": [
    "A back of the envelope use of attributes."
   ]
  },
  {
   "cell_type": "code",
   "execution_count": null,
   "metadata": {},
   "outputs": [],
   "source": [
    "    actions.str.split(\n",
    "        ',', expand=True\n",
    "    ).stack().str.strip().value_counts().T"
   ]
  },
  {
   "cell_type": "code",
   "execution_count": null,
   "metadata": {},
   "outputs": [],
   "source": [
    "    pandas.DataFrame.applymap, pandas.DataFrame.apply, pandas.DataFrame.pipe\n",
    "    pandas.Series.apply, pandas.Series.pipe\n",
    "    pandas.Index.map, pandas.Index.to_series, pandas.Index.to_frame"
   ]
  },
  {
   "cell_type": "code",
   "execution_count": null,
   "metadata": {},
   "outputs": [],
   "source": [
    "    df = pandas.DataFrame({'A': {0: 'a', 1: 'b', 2: 'c'},\n",
    "                        'B': {0: 1, 1: 3, 2: 5},\n",
    "                        'C': {0: 2, 1: 4, 2: 6}})\n",
    "    pandas.melt(df, id_vars=['A'], value_vars=['B'])"
   ]
  },
  {
   "cell_type": "code",
   "execution_count": 371,
   "metadata": {},
   "outputs": [
    {
     "data": {
      "text/markdown": [
       "    df.set_index('A').unstack()"
      ],
      "text/plain": [
       "<IPython.core.display.Markdown object>"
      ]
     },
     "metadata": {},
     "output_type": "display_data"
    },
    {
     "data": {
      "text/plain": [
       "   A\n",
       "B  a    1\n",
       "   b    3\n",
       "   c    5\n",
       "C  a    2\n",
       "   b    4\n",
       "   c    6\n",
       "dtype: int64"
      ]
     },
     "execution_count": 371,
     "metadata": {},
     "output_type": "execute_result"
    }
   ],
   "source": [
    "    df.set_index('A').unstack()"
   ]
  },
  {
   "cell_type": "code",
   "execution_count": null,
   "metadata": {},
   "outputs": [],
   "source": []
  }
 ],
 "metadata": {
  "kernelspec": {
   "display_name": "pidgin",
   "language": "",
   "name": "pidgin"
  },
  "language_info": {
   "argv": [
    "python",
    "-m",
    "pidgin.kernel",
    "-f",
    "{connection_file}"
   ],
   "codemirror_mode": {
    "name": "ipython",
    "version": 3
   },
   "display_name": "pidgin",
   "file_extension": ".md.ipynb",
   "mimetype": "text/x-python",
   "name": "pidgin",
   "nbconvert_exporter": "python",
   "pygments_lexer": "ipython3",
   "version": "3.6.6"
  }
 },
 "nbformat": 4,
 "nbformat_minor": 2
}
