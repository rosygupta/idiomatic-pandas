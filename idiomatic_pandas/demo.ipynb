{
 "cells": [
  {
   "cell_type": "markdown",
   "metadata": {},
   "source": [
    "# Why pandas?\n",
    "\n",
    "The `🐼.DataFrame` and `🐼.Series` `object`s provide [fluent interfaces](https://en.wikipedia.org/wiki/Fluent_interface) to compose complex actions that transform, visualize, and model data by [chaining](https://tomaugspurger.github.io/method-chaining).  \n",
    "\n",
    "[![image](https://user-images.githubusercontent.com/4236275/46419595-3bac3580-c6fc-11e8-85c9-3ffe212c0021.png)](https://trestletech.com/wp-content/uploads/2015/07/dplyr.pdf#page=6)\n",
    "\n",
    "\n",
    "To me, and some others, fluent interfaces are more readable than nested operations. \n",
    "\n",
    "[![image](https://user-images.githubusercontent.com/4236275/46419770-980f5500-c6fc-11e8-9cbd-a4ca0b830b6e.png)](https://tomaugspurger.github.io/method-chaining)"
   ]
  },
  {
   "cell_type": "markdown",
   "metadata": {},
   "source": [
    "# About this demonstration\n",
    "\n",
    "I believe one of the best ways to practice data analysis is to work with data you know.  Resources like your Facebook or Linkedin archives are great ways to explore your self as data.\n",
    "\n",
    "Github is my favorite social platform so I thought that we could explore the Github API."
   ]
  },
  {
   "cell_type": "markdown",
   "metadata": {},
   "source": [
    "> [Let's look at an awesome notebook about Marta.](http://nbviewer.jupyter.org/github/amorrissette/Marta_ATL/blob/master/PyData_082018/PyData_MARTA_083018.ipynb)"
   ]
  },
  {
   "cell_type": "code",
   "execution_count": 1,
   "metadata": {},
   "outputs": [],
   "source": [
    "    import pandas, asyncio, os, requests, datetime, typing as t, IPython\n",
    "    from toolz.curried import *\n",
    "    %matplotlib inline\n",
    "    params = os.environ.get('gh') and {\n",
    "        'access_token': os.environ.get('gh')\n",
    "    } or {}"
   ]
  },
  {
   "cell_type": "markdown",
   "metadata": {},
   "source": [
    "# Accessing data.\n",
    "\n",
    "Pandas has a bunch of read methods that you should fully take advantage of."
   ]
  },
  {
   "cell_type": "code",
   "execution_count": 2,
   "metadata": {},
   "outputs": [
    {
     "data": {
      "text/html": [
       "<div>\n",
       "<style scoped>\n",
       "    .dataframe tbody tr th:only-of-type {\n",
       "        vertical-align: middle;\n",
       "    }\n",
       "\n",
       "    .dataframe tbody tr th {\n",
       "        vertical-align: top;\n",
       "    }\n",
       "\n",
       "    .dataframe thead th {\n",
       "        text-align: right;\n",
       "    }\n",
       "</style>\n",
       "<table border=\"1\" class=\"dataframe\">\n",
       "  <thead>\n",
       "    <tr style=\"text-align: right;\">\n",
       "      <th></th>\n",
       "      <th>0</th>\n",
       "      <th>1</th>\n",
       "      <th>2</th>\n",
       "      <th>3</th>\n",
       "      <th>4</th>\n",
       "      <th>5</th>\n",
       "      <th>6</th>\n",
       "      <th>7</th>\n",
       "      <th>8</th>\n",
       "      <th>9</th>\n",
       "      <th>10</th>\n",
       "      <th>11</th>\n",
       "      <th>12</th>\n",
       "      <th>13</th>\n",
       "      <th>14</th>\n",
       "      <th>15</th>\n",
       "      <th>16</th>\n",
       "      <th>17</th>\n",
       "    </tr>\n",
       "  </thead>\n",
       "  <tbody>\n",
       "    <tr>\n",
       "      <th>0</th>\n",
       "      <td>read_clipboard</td>\n",
       "      <td>read_csv</td>\n",
       "      <td>read_excel</td>\n",
       "      <td>read_feather</td>\n",
       "      <td>read_fwf</td>\n",
       "      <td>read_gbq</td>\n",
       "      <td>read_hdf</td>\n",
       "      <td>read_html</td>\n",
       "      <td>read_json</td>\n",
       "      <td>read_msgpack</td>\n",
       "      <td>read_parquet</td>\n",
       "      <td>read_pickle</td>\n",
       "      <td>read_sas</td>\n",
       "      <td>read_sql</td>\n",
       "      <td>read_sql_query</td>\n",
       "      <td>read_sql_table</td>\n",
       "      <td>read_stata</td>\n",
       "      <td>read_table</td>\n",
       "    </tr>\n",
       "  </tbody>\n",
       "</table>\n",
       "</div>"
      ],
      "text/plain": [
       "               0         1           2             3         4         5   \\\n",
       "0  read_clipboard  read_csv  read_excel  read_feather  read_fwf  read_gbq   \n",
       "\n",
       "         6          7          8             9             10           11  \\\n",
       "0  read_hdf  read_html  read_json  read_msgpack  read_parquet  read_pickle   \n",
       "\n",
       "         12        13              14              15          16          17  \n",
       "0  read_sas  read_sql  read_sql_query  read_sql_table  read_stata  read_table  "
      ]
     },
     "execution_count": 2,
     "metadata": {},
     "output_type": "execute_result"
    }
   ],
   "source": [
    "    pipe(pandas, dir, filter(flip(str.startswith)('read_')), list, pandas.DataFrame).T"
   ]
  },
  {
   "cell_type": "code",
   "execution_count": 3,
   "metadata": {},
   "outputs": [
    {
     "data": {
      "text/plain": [
       "'There are __2__ tables in this webpage.'"
      ]
     },
     "execution_count": 3,
     "metadata": {},
     "output_type": "execute_result"
    }
   ],
   "source": [
    "    frames = pandas.read_html(\"https://en.wikipedia.org/wiki/List_of_physical_quantities\")\n",
    "    f\"There are __{len(frames)}__ tables in this webpage.\""
   ]
  },
  {
   "cell_type": "markdown",
   "metadata": {},
   "source": [
    "> [Using list comprehensions to create dataframes.](https://chrisalbon.com/python/data_wrangling/pandas_list_comprehension/)"
   ]
  },
  {
   "cell_type": "markdown",
   "metadata": {},
   "source": [
    "## Caching requests\n",
    "\n",
    "Caching our requests assures that our data remains local and we can work with out the internet.  Simply install [`requests_cache`](https://github.com/reclosedev/requests-cache) and use `requests` naturally."
   ]
  },
  {
   "cell_type": "code",
   "execution_count": 4,
   "metadata": {},
   "outputs": [],
   "source": [
    "    import requests_cache; requests_cache.install_cache('idiomatic_pandas')"
   ]
  },
  {
   "cell_type": "markdown",
   "metadata": {},
   "source": [
    "> Sometimes I use Python type annotations to indicate the input and output values of the functions."
   ]
  },
  {
   "cell_type": "code",
   "execution_count": 5,
   "metadata": {},
   "outputs": [],
   "source": [
    "    username = 'tonyfast'"
   ]
  },
  {
   "cell_type": "markdown",
   "metadata": {},
   "source": [
    "> We could make this request with `pandas.read_json`, but we would not be using `requests_cache`.  "
   ]
  },
  {
   "cell_type": "markdown",
   "metadata": {},
   "source": [
    "The code below returns information about a specific `username`.  This data includes urls to other endpoints and objects."
   ]
  },
  {
   "cell_type": "code",
   "execution_count": 6,
   "metadata": {},
   "outputs": [
    {
     "data": {
      "text/html": [
       "<div>\n",
       "<style scoped>\n",
       "    .dataframe tbody tr th:only-of-type {\n",
       "        vertical-align: middle;\n",
       "    }\n",
       "\n",
       "    .dataframe tbody tr th {\n",
       "        vertical-align: top;\n",
       "    }\n",
       "\n",
       "    .dataframe thead th {\n",
       "        text-align: right;\n",
       "    }\n",
       "</style>\n",
       "<table border=\"1\" class=\"dataframe\">\n",
       "  <thead>\n",
       "    <tr style=\"text-align: right;\">\n",
       "      <th></th>\n",
       "      <th>0</th>\n",
       "    </tr>\n",
       "  </thead>\n",
       "  <tbody>\n",
       "    <tr>\n",
       "      <th>login</th>\n",
       "      <td>tonyfast</td>\n",
       "    </tr>\n",
       "    <tr>\n",
       "      <th>id</th>\n",
       "      <td>4236275</td>\n",
       "    </tr>\n",
       "    <tr>\n",
       "      <th>node_id</th>\n",
       "      <td>MDQ6VXNlcjQyMzYyNzU=</td>\n",
       "    </tr>\n",
       "    <tr>\n",
       "      <th>avatar_url</th>\n",
       "      <td>https://avatars3.githubusercontent.com/u/42362...</td>\n",
       "    </tr>\n",
       "    <tr>\n",
       "      <th>gravatar_id</th>\n",
       "      <td></td>\n",
       "    </tr>\n",
       "    <tr>\n",
       "      <th>url</th>\n",
       "      <td>https://api.github.com/users/tonyfast</td>\n",
       "    </tr>\n",
       "    <tr>\n",
       "      <th>html_url</th>\n",
       "      <td>https://github.com/tonyfast</td>\n",
       "    </tr>\n",
       "    <tr>\n",
       "      <th>followers_url</th>\n",
       "      <td>https://api.github.com/users/tonyfast/followers</td>\n",
       "    </tr>\n",
       "    <tr>\n",
       "      <th>following_url</th>\n",
       "      <td>https://api.github.com/users/tonyfast/followin...</td>\n",
       "    </tr>\n",
       "    <tr>\n",
       "      <th>gists_url</th>\n",
       "      <td>https://api.github.com/users/tonyfast/gists{/g...</td>\n",
       "    </tr>\n",
       "    <tr>\n",
       "      <th>starred_url</th>\n",
       "      <td>https://api.github.com/users/tonyfast/starred{...</td>\n",
       "    </tr>\n",
       "    <tr>\n",
       "      <th>subscriptions_url</th>\n",
       "      <td>https://api.github.com/users/tonyfast/subscrip...</td>\n",
       "    </tr>\n",
       "    <tr>\n",
       "      <th>organizations_url</th>\n",
       "      <td>https://api.github.com/users/tonyfast/orgs</td>\n",
       "    </tr>\n",
       "    <tr>\n",
       "      <th>repos_url</th>\n",
       "      <td>https://api.github.com/users/tonyfast/repos</td>\n",
       "    </tr>\n",
       "    <tr>\n",
       "      <th>events_url</th>\n",
       "      <td>https://api.github.com/users/tonyfast/events{/...</td>\n",
       "    </tr>\n",
       "    <tr>\n",
       "      <th>received_events_url</th>\n",
       "      <td>https://api.github.com/users/tonyfast/received...</td>\n",
       "    </tr>\n",
       "    <tr>\n",
       "      <th>type</th>\n",
       "      <td>User</td>\n",
       "    </tr>\n",
       "    <tr>\n",
       "      <th>site_admin</th>\n",
       "      <td>False</td>\n",
       "    </tr>\n",
       "    <tr>\n",
       "      <th>name</th>\n",
       "      <td>Tony Fast</td>\n",
       "    </tr>\n",
       "    <tr>\n",
       "      <th>company</th>\n",
       "      <td>...</td>\n",
       "    </tr>\n",
       "    <tr>\n",
       "      <th>blog</th>\n",
       "      <td>http://deathbeds.github.io</td>\n",
       "    </tr>\n",
       "    <tr>\n",
       "      <th>location</th>\n",
       "      <td>Atlanta</td>\n",
       "    </tr>\n",
       "    <tr>\n",
       "      <th>email</th>\n",
       "      <td>tony.fast@gmail.com</td>\n",
       "    </tr>\n",
       "    <tr>\n",
       "      <th>hireable</th>\n",
       "      <td>True</td>\n",
       "    </tr>\n",
       "    <tr>\n",
       "      <th>bio</th>\n",
       "      <td>None</td>\n",
       "    </tr>\n",
       "    <tr>\n",
       "      <th>public_repos</th>\n",
       "      <td>156</td>\n",
       "    </tr>\n",
       "    <tr>\n",
       "      <th>public_gists</th>\n",
       "      <td>513</td>\n",
       "    </tr>\n",
       "    <tr>\n",
       "      <th>followers</th>\n",
       "      <td>78</td>\n",
       "    </tr>\n",
       "    <tr>\n",
       "      <th>following</th>\n",
       "      <td>20</td>\n",
       "    </tr>\n",
       "    <tr>\n",
       "      <th>created_at</th>\n",
       "      <td>2013-04-23T15:17:05Z</td>\n",
       "    </tr>\n",
       "    <tr>\n",
       "      <th>updated_at</th>\n",
       "      <td>2018-10-01T17:36:42Z</td>\n",
       "    </tr>\n",
       "  </tbody>\n",
       "</table>\n",
       "</div>"
      ],
      "text/plain": [
       "                                                                     0\n",
       "login                                                         tonyfast\n",
       "id                                                             4236275\n",
       "node_id                                           MDQ6VXNlcjQyMzYyNzU=\n",
       "avatar_url           https://avatars3.githubusercontent.com/u/42362...\n",
       "gravatar_id                                                           \n",
       "url                              https://api.github.com/users/tonyfast\n",
       "html_url                                   https://github.com/tonyfast\n",
       "followers_url          https://api.github.com/users/tonyfast/followers\n",
       "following_url        https://api.github.com/users/tonyfast/followin...\n",
       "gists_url            https://api.github.com/users/tonyfast/gists{/g...\n",
       "starred_url          https://api.github.com/users/tonyfast/starred{...\n",
       "subscriptions_url    https://api.github.com/users/tonyfast/subscrip...\n",
       "organizations_url           https://api.github.com/users/tonyfast/orgs\n",
       "repos_url                  https://api.github.com/users/tonyfast/repos\n",
       "events_url           https://api.github.com/users/tonyfast/events{/...\n",
       "received_events_url  https://api.github.com/users/tonyfast/received...\n",
       "type                                                              User\n",
       "site_admin                                                       False\n",
       "name                                                         Tony Fast\n",
       "company                                                            ...\n",
       "blog                                        http://deathbeds.github.io\n",
       "location                                                       Atlanta\n",
       "email                                              tony.fast@gmail.com\n",
       "hireable                                                          True\n",
       "bio                                                               None\n",
       "public_repos                                                       156\n",
       "public_gists                                                       513\n",
       "followers                                                           78\n",
       "following                                                           20\n",
       "created_at                                        2013-04-23T15:17:05Z\n",
       "updated_at                                        2018-10-01T17:36:42Z"
      ]
     },
     "execution_count": 6,
     "metadata": {},
     "output_type": "execute_result"
    }
   ],
   "source": [
    "    info = pandas.read_json(\n",
    "        requests.get(f\"https://api.github.com/users/%s\"%username, params=params).content,\n",
    "        typ='Series'); info.to_frame()"
   ]
  },
  {
   "cell_type": "code",
   "execution_count": 8,
   "metadata": {},
   "outputs": [
    {
     "data": {
      "text/markdown": [
       "![](https://avatars3.githubusercontent.com/u/4236275?v=4)"
      ],
      "text/plain": [
       "<IPython.core.display.Markdown object>"
      ]
     },
     "execution_count": 8,
     "metadata": {},
     "output_type": "execute_result"
    }
   ],
   "source": [
    "    IPython.display.Markdown(f\"![]({info.avatar_url})\")"
   ]
  },
  {
   "cell_type": "markdown",
   "metadata": {},
   "source": [
    "## Some utitlity statements."
   ]
  },
  {
   "cell_type": "markdown",
   "metadata": {},
   "source": [
    "Accessing historical data in github requires pagination. https://developer.github.com/v3/guides/traversing-with-pagination/"
   ]
  },
  {
   "cell_type": "markdown",
   "metadata": {},
   "source": [
    "`paginate` appends `\"?page=%i\"` to the end of our Github API requests.  The prefered approach in `requests` would use the params keyword, but then our URLs are non-unique."
   ]
  },
  {
   "cell_type": "code",
   "execution_count": 9,
   "metadata": {},
   "outputs": [],
   "source": [
    "    def paginate(url: str, slice: slice=slice(1,3)) -> t.Generator:\n",
    "        return (f\"{url}?page={page}\" for page in range(slice.start, slice.stop+1))"
   ]
  },
  {
   "cell_type": "markdown",
   "metadata": {},
   "source": [
    "I don't have `datetime` for composing timestamps so I use `pandas.to_datetime`.  From the Github API, columns ending in \"**_at**\" are timestamps."
   ]
  },
  {
   "cell_type": "code",
   "execution_count": 10,
   "metadata": {},
   "outputs": [],
   "source": [
    "    def timify(df):\n",
    "        at = [str for str in df.columns if str.endswith('_at')]\n",
    "        df[at] = df[at].apply(pandas.to_datetime)        \n",
    "        return df"
   ]
  },
  {
   "cell_type": "markdown",
   "metadata": {},
   "source": [
    "🐼 can deal with changes in time; `pandas.to_timedelta` helps with Δt."
   ]
  },
  {
   "cell_type": "code",
   "execution_count": 11,
   "metadata": {},
   "outputs": [
    {
     "data": {
      "text/plain": [
       "Timedelta('1 days 00:00:10')"
      ]
     },
     "execution_count": 11,
     "metadata": {},
     "output_type": "execute_result"
    }
   ],
   "source": [
    "    pandas.to_timedelta('1 days 10 seconds')"
   ]
  },
  {
   "cell_type": "markdown",
   "metadata": {},
   "source": [
    "and the difference between timestamps returns a time delta."
   ]
  },
  {
   "cell_type": "code",
   "execution_count": 12,
   "metadata": {},
   "outputs": [
    {
     "data": {
      "text/plain": [
       "1   1987 days 02:19:37\n",
       "dtype: timedelta64[ns]"
      ]
     },
     "execution_count": 12,
     "metadata": {},
     "output_type": "execute_result"
    }
   ],
   "source": [
    "    Δt = pandas.Series([info.created_at, info.updated_at]).pipe(pandas.to_datetime).diff().dropna(); Δt"
   ]
  },
  {
   "cell_type": "markdown",
   "metadata": {},
   "source": [
    "`get` asynchronously makes web requests; these requests can occur concurrently and save time during development."
   ]
  },
  {
   "cell_type": "code",
   "execution_count": 13,
   "metadata": {},
   "outputs": [],
   "source": [
    "    async def request(url, params={}, headers={}) -> t.Union[pandas.Series, pandas.DataFrame]: \n",
    "        result = requests.get(url, params={\n",
    "            **params, 'access_token': os.environ.get('gh')\n",
    "        }, headers=headers).content\n",
    "        try: return pandas.read_json(result)\n",
    "        except ValueError: return pandas.read_json(result, typ=pandas.Series)"
   ]
  },
  {
   "cell_type": "markdown",
   "metadata": {},
   "source": [
    "## Let's talk about me\n",
    "\n",
    "We will use the contents of `info` to access information about the projects repositories, gists, stars, and events for the use of interest."
   ]
  },
  {
   "cell_type": "code",
   "execution_count": 14,
   "metadata": {},
   "outputs": [
    {
     "data": {
      "text/plain": [
       "\"There have __157__ repositories associated with [__@tonyfast's__](https://github.com/tonyfast) account after __>5__ years.\""
      ]
     },
     "execution_count": 14,
     "metadata": {},
     "output_type": "execute_result"
    }
   ],
   "source": [
    "    repos = pandas.concat(\n",
    "        await asyncio.gather(*map(\n",
    "            request, paginate(info.repos_url, slice(1, info.public_repos//30+1))))\n",
    "    ).set_index('id').pipe(timify)\n",
    "    f\"\"\"There have __{len(repos)}__ repositories associated with [__@{info.login}'s__]({info.html_url}) account after __>{Δt[1].days//365}__ years.\"\"\""
   ]
  },
  {
   "cell_type": "code",
   "execution_count": 15,
   "metadata": {},
   "outputs": [],
   "source": [
    "    events = pandas.concat(\n",
    "        await asyncio.gather(*map(\n",
    "            request, paginate(info.events_url.format(**{'/privacy': ''}), slice(1, 10))))\n",
    "    ).set_index('id').pipe(timify)"
   ]
  },
  {
   "cell_type": "markdown",
   "metadata": {},
   "source": [
    ">  __🐼 + `async` + Caching = 💪__"
   ]
  },
  {
   "cell_type": "markdown",
   "metadata": {},
   "source": [
    "[Github gists](https://developer.github.com/v3/gists/)"
   ]
  },
  {
   "cell_type": "code",
   "execution_count": 22,
   "metadata": {},
   "outputs": [
    {
     "data": {
      "text/plain": [
       "'tonyfast made __514__ gists during that time.'"
      ]
     },
     "execution_count": 22,
     "metadata": {},
     "output_type": "execute_result"
    }
   ],
   "source": [
    "    gists = pandas.concat(\n",
    "        await asyncio.gather(*map(\n",
    "            request, \n",
    "            paginate(info.gists_url.format(**{'/gist_id': ''}), slice(1, info.public_gists//30+1))\n",
    "        ))\n",
    "    ).set_index('id').pipe(timify)\n",
    "    f\"\"\"{username} made __{len(gists)}__ gists during that time.\"\"\""
   ]
  },
  {
   "cell_type": "markdown",
   "metadata": {},
   "source": [
    "[Starred repositories](https://developer.github.com/v3/activity/starring/)"
   ]
  },
  {
   "cell_type": "code",
   "execution_count": 23,
   "metadata": {},
   "outputs": [
    {
     "data": {
      "text/plain": [
       "'tonyfast starred __702__ repositories, too.'"
      ]
     },
     "execution_count": 23,
     "metadata": {},
     "output_type": "execute_result"
    }
   ],
   "source": [
    "    stars = pandas.concat(\n",
    "        await asyncio.gather(*map(\n",
    "            partial(request, headers={\n",
    "                'Accept': \"application/vnd.github.v3.star+json\"\n",
    "            }), paginate(\n",
    "                info.starred_url.format(**{'/owner': '', '/repo': ''}), slice(1, 700//30+1))\n",
    "        ))\n",
    "    ).pipe(\n",
    "        lambda df: pandas.concat([df.repo.apply(pandas.Series), df.starred_at], axis=1)\n",
    "    ).pipe(timify).set_index('id')\n",
    "    f\"\"\"{username} starred __{len(stars)}__ repositories, too.\"\"\""
   ]
  },
  {
   "cell_type": "code",
   "execution_count": 24,
   "metadata": {},
   "outputs": [
    {
     "data": {
      "text/plain": [
       "\"A look at __tonyfast's__ last __300__ events.'\""
      ]
     },
     "execution_count": 24,
     "metadata": {},
     "output_type": "execute_result"
    },
    {
     "data": {
      "image/png": "[encoded data removed]",
      "text/plain": [
       "<Figure size 432x288 with 1 Axes>"
      ]
     },
     "metadata": {},
     "output_type": "display_data"
    }
   ],
   "source": [
    "    events.type.value_counts().plot.pie()\n",
    "    f\"\"\"A look at __{username}'s__ last __300__ events.'\"\"\""
   ]
  },
  {
   "cell_type": "code",
   "execution_count": 25,
   "metadata": {},
   "outputs": [],
   "source": [
    "    from matplotlib_venn import *; from toolz.curried.operator import *"
   ]
  },
  {
   "cell_type": "markdown",
   "metadata": {},
   "source": [
    "How do the columns in the repos and stars compare."
   ]
  },
  {
   "cell_type": "code",
   "execution_count": 26,
   "metadata": {},
   "outputs": [
    {
     "data": {
      "text/plain": [
       "'The __10__ overlapping columns are: __commits_url, node_id, created_at, html_url, updated_at, comments_url, forks_url, description, owner, url__'"
      ]
     },
     "execution_count": 26,
     "metadata": {},
     "output_type": "execute_result"
    },
    {
     "data": {
      "image/png": "[encoded data removed]",
      "text/plain": [
       "<Figure size 432x288 with 1 Axes>"
      ]
     },
     "metadata": {},
     "output_type": "display_data"
    }
   ],
   "source": [
    "    pipe((repos, gists, stars), map(attrgetter('columns')), map(set), list, \n",
    "         partial(venn3_unweighted, set_labels=('repos', 'gists', 'stars')))\n",
    "\n",
    "    intersections = set(repos.columns).intersection(gists.columns).intersection(stars.columns)\n",
    "    f\"The __{len(intersections)}__ overlapping columns are: __{', '.join(intersections)}__\""
   ]
  },
  {
   "cell_type": "markdown",
   "metadata": {},
   "source": [
    "## Aggregations\n",
    "\n",
    "`pandas.DataFrame.groupby` & `pandas.DataFrame.rolling` aggregations\n",
    "\n",
    "> [Apply Functions By Group In Pandas\n",
    "](https://chrisalbon.com/python/data_wrangling/pandas_apply_function_by_group/)"
   ]
  },
  {
   "cell_type": "markdown",
   "metadata": {},
   "source": [
    "Lets join the `gists` and `repo` frames into `monthly_actions`."
   ]
  },
  {
   "cell_type": "code",
   "execution_count": 35,
   "metadata": {},
   "outputs": [],
   "source": [
    "    monthly_actions = repos.set_index('created_at')[[]].join(\n",
    "        gists.set_index('created_at')[[]]\n",
    "    ).join(\n",
    "        stars.set_index('created_at')[[]]\n",
    "    ).sort_index().index.to_frame().groupby(\n",
    "        pandas.Grouper(freq='M')\n",
    "    ).count()['created_at'].rename('created')"
   ]
  },
  {
   "cell_type": "markdown",
   "metadata": {},
   "source": [
    "A look at the keys on the index of `monthly_actions`"
   ]
  },
  {
   "cell_type": "code",
   "execution_count": 36,
   "metadata": {},
   "outputs": [
    {
     "data": {
      "text/html": [
       "<div>\n",
       "<style scoped>\n",
       "    .dataframe tbody tr th:only-of-type {\n",
       "        vertical-align: middle;\n",
       "    }\n",
       "\n",
       "    .dataframe tbody tr th {\n",
       "        vertical-align: top;\n",
       "    }\n",
       "\n",
       "    .dataframe thead th {\n",
       "        text-align: right;\n",
       "    }\n",
       "</style>\n",
       "<table border=\"1\" class=\"dataframe\">\n",
       "  <thead>\n",
       "    <tr style=\"text-align: right;\">\n",
       "      <th></th>\n",
       "      <th>390</th>\n",
       "      <th>389</th>\n",
       "      <th>388</th>\n",
       "      <th>387</th>\n",
       "      <th>386</th>\n",
       "      <th>385</th>\n",
       "      <th>384</th>\n",
       "      <th>383</th>\n",
       "      <th>382</th>\n",
       "      <th>381</th>\n",
       "      <th>...</th>\n",
       "      <th>9</th>\n",
       "      <th>8</th>\n",
       "      <th>7</th>\n",
       "      <th>6</th>\n",
       "      <th>5</th>\n",
       "      <th>4</th>\n",
       "      <th>3</th>\n",
       "      <th>2</th>\n",
       "      <th>1</th>\n",
       "      <th>0</th>\n",
       "    </tr>\n",
       "  </thead>\n",
       "  <tbody>\n",
       "    <tr>\n",
       "      <th>0</th>\n",
       "      <td>year</td>\n",
       "      <td>where</td>\n",
       "      <td>weekofyear</td>\n",
       "      <td>weekday_name</td>\n",
       "      <td>weekday</td>\n",
       "      <td>week</td>\n",
       "      <td>view</td>\n",
       "      <td>values</td>\n",
       "      <td>value_counts</td>\n",
       "      <td>unique</td>\n",
       "      <td>...</td>\n",
       "      <td>__class__</td>\n",
       "      <td>__bytes__</td>\n",
       "      <td>__bool__</td>\n",
       "      <td>__array_wrap__</td>\n",
       "      <td>__array_priority__</td>\n",
       "      <td>__array__</td>\n",
       "      <td>__and__</td>\n",
       "      <td>__add__</td>\n",
       "      <td>__abs__</td>\n",
       "      <td>T</td>\n",
       "    </tr>\n",
       "  </tbody>\n",
       "</table>\n",
       "<p>1 rows × 391 columns</p>\n",
       "</div>"
      ],
      "text/plain": [
       "    390    389         388           387      386   385   384     383  \\\n",
       "0  year  where  weekofyear  weekday_name  weekday  week  view  values   \n",
       "\n",
       "            382     381 ...        9          8         7               6    \\\n",
       "0  value_counts  unique ...  __class__  __bytes__  __bool__  __array_wrap__   \n",
       "\n",
       "                  5          4        3        2        1   0    \n",
       "0  __array_priority__  __array__  __and__  __add__  __abs__   T  \n",
       "\n",
       "[1 rows x 391 columns]"
      ]
     },
     "execution_count": 36,
     "metadata": {},
     "output_type": "execute_result"
    }
   ],
   "source": [
    "    pandas.Series(dir(monthly_actions.index))[::-1].to_frame().T"
   ]
  },
  {
   "cell_type": "markdown",
   "metadata": {},
   "source": [
    "Plotting the `monthly_events`"
   ]
  },
  {
   "cell_type": "code",
   "execution_count": 37,
   "metadata": {},
   "outputs": [
    {
     "data": {
      "text/plain": [
       "<matplotlib.axes._subplots.AxesSubplot at 0x2c78095c438>"
      ]
     },
     "execution_count": 37,
     "metadata": {},
     "output_type": "execute_result"
    },
    {
     "data": {
      "image/png": "[encoded data removed]",
      "text/plain": [
       "<Figure size 432x288 with 1 Axes>"
      ]
     },
     "metadata": {
      "needs_background": "light"
     },
     "output_type": "display_data"
    }
   ],
   "source": [
    "    ax = monthly_actions.plot(title='Events per month', legend=True)\n",
    "    monthly_actions.rolling(3, center=True).mean().rename('rolling average').fillna(0).plot(ax=ax, legend=True, grid=True)"
   ]
  },
  {
   "cell_type": "code",
   "execution_count": 38,
   "metadata": {},
   "outputs": [
    {
     "data": {
      "text/plain": [
       "(<function pandas.core.indexes.base.Index.to_series(self, index=None, name=None)>,\n",
       " <function pandas.core.indexes.base.Index.to_frame(self, index=True)>,\n",
       " <function pandas.core.indexes.base.Index.to_native_types(self, slicer=None, **kwargs)>)"
      ]
     },
     "execution_count": 38,
     "metadata": {},
     "output_type": "execute_result"
    }
   ],
   "source": [
    "        pandas.Index.to_series, pandas.Index.to_frame, pandas.Index.to_native_types"
   ]
  },
  {
   "cell_type": "code",
   "execution_count": 39,
   "metadata": {},
   "outputs": [
    {
     "data": {
      "text/plain": [
       "<matplotlib.axes._subplots.AxesSubplot at 0x2c781e06240>"
      ]
     },
     "execution_count": 39,
     "metadata": {},
     "output_type": "execute_result"
    },
    {
     "data": {
      "image/png": "[encoded data removed]",
      "text/plain": [
       "<Figure size 1728x576 with 1 Axes>"
      ]
     },
     "metadata": {
      "needs_background": "light"
     },
     "output_type": "display_data"
    }
   ],
   "source": [
    "    this_years_actions = monthly_actions[\n",
    "        monthly_actions.index > pandas.to_datetime('2018-04-01')]\n",
    "    ax = this_years_actions.plot(title='Events per month', legend=True, figsize=(24, 8), grid=True)\n",
    "    this_years_actions.rolling(3, center=True).mean().rename('rolling average').fillna(0).plot(ax=ax, legend=True)\n",
    "    events.set_index('created_at').index.to_frame().groupby(\n",
    "        pandas.Grouper(freq='1D')\n",
    "    ).count()['created_at'].rename('minor events').plot(ax=ax, legend=True, grid=True)"
   ]
  },
  {
   "cell_type": "markdown",
   "metadata": {},
   "source": [
    "Let's go back to our gist and explore the languages each of them use."
   ]
  },
  {
   "cell_type": "code",
   "execution_count": 43,
   "metadata": {},
   "outputs": [
    {
     "data": {
      "text/html": [
       "<div>\n",
       "<style scoped>\n",
       "    .dataframe tbody tr th:only-of-type {\n",
       "        vertical-align: middle;\n",
       "    }\n",
       "\n",
       "    .dataframe tbody tr th {\n",
       "        vertical-align: top;\n",
       "    }\n",
       "\n",
       "    .dataframe thead th {\n",
       "        text-align: right;\n",
       "    }\n",
       "</style>\n",
       "<table border=\"1\" class=\"dataframe\">\n",
       "  <thead>\n",
       "    <tr style=\"text-align: right;\">\n",
       "      <th></th>\n",
       "      <th>comments</th>\n",
       "      <th>comments_url</th>\n",
       "      <th>commits_url</th>\n",
       "      <th>created_at</th>\n",
       "      <th>description</th>\n",
       "      <th>files</th>\n",
       "      <th>forks_url</th>\n",
       "      <th>git_pull_url</th>\n",
       "      <th>git_push_url</th>\n",
       "      <th>html_url</th>\n",
       "      <th>node_id</th>\n",
       "      <th>owner</th>\n",
       "      <th>public</th>\n",
       "      <th>truncated</th>\n",
       "      <th>updated_at</th>\n",
       "      <th>url</th>\n",
       "      <th>user</th>\n",
       "    </tr>\n",
       "    <tr>\n",
       "      <th>id</th>\n",
       "      <th></th>\n",
       "      <th></th>\n",
       "      <th></th>\n",
       "      <th></th>\n",
       "      <th></th>\n",
       "      <th></th>\n",
       "      <th></th>\n",
       "      <th></th>\n",
       "      <th></th>\n",
       "      <th></th>\n",
       "      <th></th>\n",
       "      <th></th>\n",
       "      <th></th>\n",
       "      <th></th>\n",
       "      <th></th>\n",
       "      <th></th>\n",
       "      <th></th>\n",
       "    </tr>\n",
       "  </thead>\n",
       "  <tbody>\n",
       "    <tr>\n",
       "      <th>eccef54d264405987dee3e14bf5b5178</th>\n",
       "      <td>0</td>\n",
       "      <td>https://api.github.com/gists/eccef54d264405987...</td>\n",
       "      <td>https://api.github.com/gists/eccef54d264405987...</td>\n",
       "      <td>2017-09-13 18:13:37</td>\n",
       "      <td>A pathlib index</td>\n",
       "      <td>{'Untitled2.ipynb': {'filename': 'Untitled2.ip...</td>\n",
       "      <td>https://api.github.com/gists/eccef54d264405987...</td>\n",
       "      <td>https://gist.github.com/eccef54d264405987dee3e...</td>\n",
       "      <td>https://gist.github.com/eccef54d264405987dee3e...</td>\n",
       "      <td>https://gist.github.com/eccef54d264405987dee3e...</td>\n",
       "      <td>MDQ6R2lzdGVjY2VmNTRkMjY0NDA1OTg3ZGVlM2UxNGJmNW...</td>\n",
       "      <td>{'login': 'tonyfast', 'id': 4236275, 'node_id'...</td>\n",
       "      <td>True</td>\n",
       "      <td>False</td>\n",
       "      <td>2017-09-13 18:57:11</td>\n",
       "      <td>https://api.github.com/gists/eccef54d264405987...</td>\n",
       "      <td>NaN</td>\n",
       "    </tr>\n",
       "    <tr>\n",
       "      <th>8aa8a14500c50344efba</th>\n",
       "      <td>0</td>\n",
       "      <td>https://api.github.com/gists/8aa8a14500c50344e...</td>\n",
       "      <td>https://api.github.com/gists/8aa8a14500c50344e...</td>\n",
       "      <td>2016-02-18 04:57:37</td>\n",
       "      <td></td>\n",
       "      <td>{'travis-api.ipynb': {'filename': 'travis-api....</td>\n",
       "      <td>https://api.github.com/gists/8aa8a14500c50344e...</td>\n",
       "      <td>https://gist.github.com/8aa8a14500c50344efba.git</td>\n",
       "      <td>https://gist.github.com/8aa8a14500c50344efba.git</td>\n",
       "      <td>https://gist.github.com/8aa8a14500c50344efba</td>\n",
       "      <td>MDQ6R2lzdDhhYThhMTQ1MDBjNTAzNDRlZmJh</td>\n",
       "      <td>{'login': 'tonyfast', 'id': 4236275, 'node_id'...</td>\n",
       "      <td>True</td>\n",
       "      <td>False</td>\n",
       "      <td>2016-02-18 04:58:28</td>\n",
       "      <td>https://api.github.com/gists/8aa8a14500c50344efba</td>\n",
       "      <td>NaN</td>\n",
       "    </tr>\n",
       "  </tbody>\n",
       "</table>\n",
       "</div>"
      ],
      "text/plain": [
       "                                  comments  \\\n",
       "id                                           \n",
       "eccef54d264405987dee3e14bf5b5178         0   \n",
       "8aa8a14500c50344efba                     0   \n",
       "\n",
       "                                                                       comments_url  \\\n",
       "id                                                                                    \n",
       "eccef54d264405987dee3e14bf5b5178  https://api.github.com/gists/eccef54d264405987...   \n",
       "8aa8a14500c50344efba              https://api.github.com/gists/8aa8a14500c50344e...   \n",
       "\n",
       "                                                                        commits_url  \\\n",
       "id                                                                                    \n",
       "eccef54d264405987dee3e14bf5b5178  https://api.github.com/gists/eccef54d264405987...   \n",
       "8aa8a14500c50344efba              https://api.github.com/gists/8aa8a14500c50344e...   \n",
       "\n",
       "                                          created_at      description  \\\n",
       "id                                                                      \n",
       "eccef54d264405987dee3e14bf5b5178 2017-09-13 18:13:37  A pathlib index   \n",
       "8aa8a14500c50344efba             2016-02-18 04:57:37                    \n",
       "\n",
       "                                                                              files  \\\n",
       "id                                                                                    \n",
       "eccef54d264405987dee3e14bf5b5178  {'Untitled2.ipynb': {'filename': 'Untitled2.ip...   \n",
       "8aa8a14500c50344efba              {'travis-api.ipynb': {'filename': 'travis-api....   \n",
       "\n",
       "                                                                          forks_url  \\\n",
       "id                                                                                    \n",
       "eccef54d264405987dee3e14bf5b5178  https://api.github.com/gists/eccef54d264405987...   \n",
       "8aa8a14500c50344efba              https://api.github.com/gists/8aa8a14500c50344e...   \n",
       "\n",
       "                                                                       git_pull_url  \\\n",
       "id                                                                                    \n",
       "eccef54d264405987dee3e14bf5b5178  https://gist.github.com/eccef54d264405987dee3e...   \n",
       "8aa8a14500c50344efba               https://gist.github.com/8aa8a14500c50344efba.git   \n",
       "\n",
       "                                                                       git_push_url  \\\n",
       "id                                                                                    \n",
       "eccef54d264405987dee3e14bf5b5178  https://gist.github.com/eccef54d264405987dee3e...   \n",
       "8aa8a14500c50344efba               https://gist.github.com/8aa8a14500c50344efba.git   \n",
       "\n",
       "                                                                           html_url  \\\n",
       "id                                                                                    \n",
       "eccef54d264405987dee3e14bf5b5178  https://gist.github.com/eccef54d264405987dee3e...   \n",
       "8aa8a14500c50344efba                   https://gist.github.com/8aa8a14500c50344efba   \n",
       "\n",
       "                                                                            node_id  \\\n",
       "id                                                                                    \n",
       "eccef54d264405987dee3e14bf5b5178  MDQ6R2lzdGVjY2VmNTRkMjY0NDA1OTg3ZGVlM2UxNGJmNW...   \n",
       "8aa8a14500c50344efba                           MDQ6R2lzdDhhYThhMTQ1MDBjNTAzNDRlZmJh   \n",
       "\n",
       "                                                                              owner  \\\n",
       "id                                                                                    \n",
       "eccef54d264405987dee3e14bf5b5178  {'login': 'tonyfast', 'id': 4236275, 'node_id'...   \n",
       "8aa8a14500c50344efba              {'login': 'tonyfast', 'id': 4236275, 'node_id'...   \n",
       "\n",
       "                                  public  truncated          updated_at  \\\n",
       "id                                                                        \n",
       "eccef54d264405987dee3e14bf5b5178    True      False 2017-09-13 18:57:11   \n",
       "8aa8a14500c50344efba                True      False 2016-02-18 04:58:28   \n",
       "\n",
       "                                                                                url  \\\n",
       "id                                                                                    \n",
       "eccef54d264405987dee3e14bf5b5178  https://api.github.com/gists/eccef54d264405987...   \n",
       "8aa8a14500c50344efba              https://api.github.com/gists/8aa8a14500c50344efba   \n",
       "\n",
       "                                  user  \n",
       "id                                      \n",
       "eccef54d264405987dee3e14bf5b5178   NaN  \n",
       "8aa8a14500c50344efba               NaN  "
      ]
     },
     "execution_count": 43,
     "metadata": {},
     "output_type": "execute_result"
    }
   ],
   "source": [
    "    gists.sample(2)"
   ]
  },
  {
   "cell_type": "markdown",
   "metadata": {},
   "source": [
    "Expanding `pandas.Series` with the apply method."
   ]
  },
  {
   "cell_type": "code",
   "execution_count": 48,
   "metadata": {},
   "outputs": [
    {
     "data": {
      "text/html": [
       "<div>\n",
       "<style scoped>\n",
       "    .dataframe tbody tr th:only-of-type {\n",
       "        vertical-align: middle;\n",
       "    }\n",
       "\n",
       "    .dataframe tbody tr th {\n",
       "        vertical-align: top;\n",
       "    }\n",
       "\n",
       "    .dataframe thead th {\n",
       "        text-align: right;\n",
       "    }\n",
       "</style>\n",
       "<table border=\"1\" class=\"dataframe\">\n",
       "  <thead>\n",
       "    <tr style=\"text-align: right;\">\n",
       "      <th></th>\n",
       "      <th>filename</th>\n",
       "      <th>type</th>\n",
       "      <th>language</th>\n",
       "      <th>raw_url</th>\n",
       "      <th>size</th>\n",
       "      <th>comments</th>\n",
       "      <th>comments_url</th>\n",
       "      <th>commits_url</th>\n",
       "      <th>created_at</th>\n",
       "      <th>description</th>\n",
       "      <th>...</th>\n",
       "      <th>git_pull_url</th>\n",
       "      <th>git_push_url</th>\n",
       "      <th>html_url</th>\n",
       "      <th>node_id</th>\n",
       "      <th>owner</th>\n",
       "      <th>public</th>\n",
       "      <th>truncated</th>\n",
       "      <th>updated_at</th>\n",
       "      <th>url</th>\n",
       "      <th>user</th>\n",
       "    </tr>\n",
       "    <tr>\n",
       "      <th>id</th>\n",
       "      <th></th>\n",
       "      <th></th>\n",
       "      <th></th>\n",
       "      <th></th>\n",
       "      <th></th>\n",
       "      <th></th>\n",
       "      <th></th>\n",
       "      <th></th>\n",
       "      <th></th>\n",
       "      <th></th>\n",
       "      <th></th>\n",
       "      <th></th>\n",
       "      <th></th>\n",
       "      <th></th>\n",
       "      <th></th>\n",
       "      <th></th>\n",
       "      <th></th>\n",
       "      <th></th>\n",
       "      <th></th>\n",
       "      <th></th>\n",
       "      <th></th>\n",
       "    </tr>\n",
       "  </thead>\n",
       "  <tbody>\n",
       "    <tr>\n",
       "      <th>59f1bf0cdf3a3808b7e9ca0db1a923bb</th>\n",
       "      <td>tricks.yaml</td>\n",
       "      <td>text/x-yaml</td>\n",
       "      <td>YAML</td>\n",
       "      <td>https://gist.githubusercontent.com/tonyfast/59...</td>\n",
       "      <td>382</td>\n",
       "      <td>0</td>\n",
       "      <td>https://api.github.com/gists/59f1bf0cdf3a3808b...</td>\n",
       "      <td>https://api.github.com/gists/59f1bf0cdf3a3808b...</td>\n",
       "      <td>2017-04-05 13:40:25</td>\n",
       "      <td></td>\n",
       "      <td>...</td>\n",
       "      <td>https://gist.github.com/59f1bf0cdf3a3808b7e9ca...</td>\n",
       "      <td>https://gist.github.com/59f1bf0cdf3a3808b7e9ca...</td>\n",
       "      <td>https://gist.github.com/59f1bf0cdf3a3808b7e9ca...</td>\n",
       "      <td>MDQ6R2lzdDU5ZjFiZjBjZGYzYTM4MDhiN2U5Y2EwZGIxYT...</td>\n",
       "      <td>{'login': 'tonyfast', 'id': 4236275, 'node_id'...</td>\n",
       "      <td>True</td>\n",
       "      <td>False</td>\n",
       "      <td>2017-04-05 13:40:25</td>\n",
       "      <td>https://api.github.com/gists/59f1bf0cdf3a3808b...</td>\n",
       "      <td>NaN</td>\n",
       "    </tr>\n",
       "    <tr>\n",
       "      <th>787068bcafc5865fbf46</th>\n",
       "      <td>Yahoo-Finanace.ipynb</td>\n",
       "      <td>text/plain</td>\n",
       "      <td>Jupyter Notebook</td>\n",
       "      <td>https://gist.githubusercontent.com/tonyfast/78...</td>\n",
       "      <td>4075</td>\n",
       "      <td>0</td>\n",
       "      <td>https://api.github.com/gists/787068bcafc5865fb...</td>\n",
       "      <td>https://api.github.com/gists/787068bcafc5865fb...</td>\n",
       "      <td>2015-06-10 23:22:25</td>\n",
       "      <td>Yahoo Finance Notebook</td>\n",
       "      <td>...</td>\n",
       "      <td>https://gist.github.com/787068bcafc5865fbf46.git</td>\n",
       "      <td>https://gist.github.com/787068bcafc5865fbf46.git</td>\n",
       "      <td>https://gist.github.com/787068bcafc5865fbf46</td>\n",
       "      <td>MDQ6R2lzdDc4NzA2OGJjYWZjNTg2NWZiZjQ2</td>\n",
       "      <td>{'login': 'tonyfast', 'id': 4236275, 'node_id'...</td>\n",
       "      <td>True</td>\n",
       "      <td>False</td>\n",
       "      <td>2015-08-29 14:22:53</td>\n",
       "      <td>https://api.github.com/gists/787068bcafc5865fbf46</td>\n",
       "      <td>NaN</td>\n",
       "    </tr>\n",
       "  </tbody>\n",
       "</table>\n",
       "<p>2 rows × 22 columns</p>\n",
       "</div>"
      ],
      "text/plain": [
       "                                              filename         type  \\\n",
       "id                                                                    \n",
       "59f1bf0cdf3a3808b7e9ca0db1a923bb           tricks.yaml  text/x-yaml   \n",
       "787068bcafc5865fbf46              Yahoo-Finanace.ipynb   text/plain   \n",
       "\n",
       "                                          language  \\\n",
       "id                                                   \n",
       "59f1bf0cdf3a3808b7e9ca0db1a923bb              YAML   \n",
       "787068bcafc5865fbf46              Jupyter Notebook   \n",
       "\n",
       "                                                                            raw_url  \\\n",
       "id                                                                                    \n",
       "59f1bf0cdf3a3808b7e9ca0db1a923bb  https://gist.githubusercontent.com/tonyfast/59...   \n",
       "787068bcafc5865fbf46              https://gist.githubusercontent.com/tonyfast/78...   \n",
       "\n",
       "                                  size  comments  \\\n",
       "id                                                 \n",
       "59f1bf0cdf3a3808b7e9ca0db1a923bb   382         0   \n",
       "787068bcafc5865fbf46              4075         0   \n",
       "\n",
       "                                                                       comments_url  \\\n",
       "id                                                                                    \n",
       "59f1bf0cdf3a3808b7e9ca0db1a923bb  https://api.github.com/gists/59f1bf0cdf3a3808b...   \n",
       "787068bcafc5865fbf46              https://api.github.com/gists/787068bcafc5865fb...   \n",
       "\n",
       "                                                                        commits_url  \\\n",
       "id                                                                                    \n",
       "59f1bf0cdf3a3808b7e9ca0db1a923bb  https://api.github.com/gists/59f1bf0cdf3a3808b...   \n",
       "787068bcafc5865fbf46              https://api.github.com/gists/787068bcafc5865fb...   \n",
       "\n",
       "                                          created_at             description  \\\n",
       "id                                                                             \n",
       "59f1bf0cdf3a3808b7e9ca0db1a923bb 2017-04-05 13:40:25                           \n",
       "787068bcafc5865fbf46             2015-06-10 23:22:25  Yahoo Finance Notebook   \n",
       "\n",
       "                                 ...   \\\n",
       "id                               ...    \n",
       "59f1bf0cdf3a3808b7e9ca0db1a923bb ...    \n",
       "787068bcafc5865fbf46             ...    \n",
       "\n",
       "                                                                       git_pull_url  \\\n",
       "id                                                                                    \n",
       "59f1bf0cdf3a3808b7e9ca0db1a923bb  https://gist.github.com/59f1bf0cdf3a3808b7e9ca...   \n",
       "787068bcafc5865fbf46               https://gist.github.com/787068bcafc5865fbf46.git   \n",
       "\n",
       "                                                                       git_push_url  \\\n",
       "id                                                                                    \n",
       "59f1bf0cdf3a3808b7e9ca0db1a923bb  https://gist.github.com/59f1bf0cdf3a3808b7e9ca...   \n",
       "787068bcafc5865fbf46               https://gist.github.com/787068bcafc5865fbf46.git   \n",
       "\n",
       "                                                                           html_url  \\\n",
       "id                                                                                    \n",
       "59f1bf0cdf3a3808b7e9ca0db1a923bb  https://gist.github.com/59f1bf0cdf3a3808b7e9ca...   \n",
       "787068bcafc5865fbf46                   https://gist.github.com/787068bcafc5865fbf46   \n",
       "\n",
       "                                                                            node_id  \\\n",
       "id                                                                                    \n",
       "59f1bf0cdf3a3808b7e9ca0db1a923bb  MDQ6R2lzdDU5ZjFiZjBjZGYzYTM4MDhiN2U5Y2EwZGIxYT...   \n",
       "787068bcafc5865fbf46                           MDQ6R2lzdDc4NzA2OGJjYWZjNTg2NWZiZjQ2   \n",
       "\n",
       "                                                                              owner  \\\n",
       "id                                                                                    \n",
       "59f1bf0cdf3a3808b7e9ca0db1a923bb  {'login': 'tonyfast', 'id': 4236275, 'node_id'...   \n",
       "787068bcafc5865fbf46              {'login': 'tonyfast', 'id': 4236275, 'node_id'...   \n",
       "\n",
       "                                 public truncated          updated_at  \\\n",
       "id                                                                      \n",
       "59f1bf0cdf3a3808b7e9ca0db1a923bb   True     False 2017-04-05 13:40:25   \n",
       "787068bcafc5865fbf46               True     False 2015-08-29 14:22:53   \n",
       "\n",
       "                                                                                url  \\\n",
       "id                                                                                    \n",
       "59f1bf0cdf3a3808b7e9ca0db1a923bb  https://api.github.com/gists/59f1bf0cdf3a3808b...   \n",
       "787068bcafc5865fbf46              https://api.github.com/gists/787068bcafc5865fbf46   \n",
       "\n",
       "                                 user  \n",
       "id                                     \n",
       "59f1bf0cdf3a3808b7e9ca0db1a923bb  NaN  \n",
       "787068bcafc5865fbf46              NaN  \n",
       "\n",
       "[2 rows x 22 columns]"
      ]
     },
     "execution_count": 48,
     "metadata": {},
     "output_type": "execute_result"
    }
   ],
   "source": [
    "    gist = (\n",
    "        gists.files\n",
    "        .apply(pandas.Series)\n",
    "        .stack(level=0)\n",
    "        .apply(pandas.Series)\n",
    "        .join(gists)\n",
    "        .reset_index(-1, drop=True))\n",
    "\n",
    "    gist.sample(2)"
   ]
  },
  {
   "cell_type": "code",
   "execution_count": 52,
   "metadata": {},
   "outputs": [
    {
     "data": {
      "text/html": [
       "<div>\n",
       "<style scoped>\n",
       "    .dataframe tbody tr th:only-of-type {\n",
       "        vertical-align: middle;\n",
       "    }\n",
       "\n",
       "    .dataframe tbody tr th {\n",
       "        vertical-align: top;\n",
       "    }\n",
       "\n",
       "    .dataframe thead th {\n",
       "        text-align: right;\n",
       "    }\n",
       "</style>\n",
       "<table border=\"1\" class=\"dataframe\">\n",
       "  <thead>\n",
       "    <tr style=\"text-align: right;\">\n",
       "      <th>language</th>\n",
       "      <th>CSS</th>\n",
       "      <th>CSV</th>\n",
       "      <th>CoffeeScript</th>\n",
       "      <th>Graphviz (DOT)</th>\n",
       "      <th>HTML</th>\n",
       "      <th>JSON</th>\n",
       "      <th>JavaScript</th>\n",
       "      <th>Jupyter Notebook</th>\n",
       "      <th>Limbo</th>\n",
       "      <th>Markdown</th>\n",
       "      <th>Matlab</th>\n",
       "      <th>Python</th>\n",
       "      <th>SVG</th>\n",
       "      <th>Smarty</th>\n",
       "      <th>Text</th>\n",
       "      <th>TypeScript</th>\n",
       "      <th>XML</th>\n",
       "      <th>YAML</th>\n",
       "    </tr>\n",
       "    <tr>\n",
       "      <th>created_at</th>\n",
       "      <th></th>\n",
       "      <th></th>\n",
       "      <th></th>\n",
       "      <th></th>\n",
       "      <th></th>\n",
       "      <th></th>\n",
       "      <th></th>\n",
       "      <th></th>\n",
       "      <th></th>\n",
       "      <th></th>\n",
       "      <th></th>\n",
       "      <th></th>\n",
       "      <th></th>\n",
       "      <th></th>\n",
       "      <th></th>\n",
       "      <th></th>\n",
       "      <th></th>\n",
       "      <th></th>\n",
       "    </tr>\n",
       "  </thead>\n",
       "  <tbody>\n",
       "    <tr>\n",
       "      <th>2016</th>\n",
       "      <td>NaN</td>\n",
       "      <td>3.0</td>\n",
       "      <td>2.0</td>\n",
       "      <td>NaN</td>\n",
       "      <td>5.0</td>\n",
       "      <td>2.0</td>\n",
       "      <td>2.0</td>\n",
       "      <td>89.0</td>\n",
       "      <td>NaN</td>\n",
       "      <td>5.0</td>\n",
       "      <td>NaN</td>\n",
       "      <td>19.0</td>\n",
       "      <td>1.0</td>\n",
       "      <td>NaN</td>\n",
       "      <td>5.0</td>\n",
       "      <td>NaN</td>\n",
       "      <td>NaN</td>\n",
       "      <td>3.0</td>\n",
       "    </tr>\n",
       "    <tr>\n",
       "      <th>2017</th>\n",
       "      <td>2.0</td>\n",
       "      <td>NaN</td>\n",
       "      <td>NaN</td>\n",
       "      <td>NaN</td>\n",
       "      <td>2.0</td>\n",
       "      <td>1.0</td>\n",
       "      <td>2.0</td>\n",
       "      <td>87.0</td>\n",
       "      <td>NaN</td>\n",
       "      <td>2.0</td>\n",
       "      <td>NaN</td>\n",
       "      <td>15.0</td>\n",
       "      <td>NaN</td>\n",
       "      <td>1.0</td>\n",
       "      <td>8.0</td>\n",
       "      <td>2.0</td>\n",
       "      <td>NaN</td>\n",
       "      <td>2.0</td>\n",
       "    </tr>\n",
       "  </tbody>\n",
       "</table>\n",
       "</div>"
      ],
      "text/plain": [
       "language    CSS  CSV  CoffeeScript  Graphviz (DOT)  HTML  JSON  JavaScript  \\\n",
       "created_at                                                                   \n",
       "2016        NaN  3.0           2.0             NaN   5.0   2.0         2.0   \n",
       "2017        2.0  NaN           NaN             NaN   2.0   1.0         2.0   \n",
       "\n",
       "language    Jupyter Notebook  Limbo  Markdown  Matlab  Python  SVG  Smarty  \\\n",
       "created_at                                                                   \n",
       "2016                    89.0    NaN       5.0     NaN    19.0  1.0     NaN   \n",
       "2017                    87.0    NaN       2.0     NaN    15.0  NaN     1.0   \n",
       "\n",
       "language    Text  TypeScript  XML  YAML  \n",
       "created_at                               \n",
       "2016         5.0         NaN  NaN   3.0  \n",
       "2017         8.0         2.0  NaN   2.0  "
      ]
     },
     "execution_count": 52,
     "metadata": {},
     "output_type": "execute_result"
    }
   ],
   "source": [
    "    languages = (\n",
    "        gist.set_index('created_at')\n",
    "        .language\n",
    "        .groupby(pandas.Grouper(freq='1Y'))\n",
    "        .value_counts()\n",
    "        .unstack()\n",
    "        .pipe(lambda df: df.set_index(df.index.year))\n",
    "    )\n",
    "    languages.sample(2)"
   ]
  },
  {
   "cell_type": "markdown",
   "metadata": {},
   "source": [
    "# Groupby describe"
   ]
  },
  {
   "cell_type": "code",
   "execution_count": 68,
   "metadata": {},
   "outputs": [
    {
     "data": {
      "text/html": [
       "<div>\n",
       "<style scoped>\n",
       "    .dataframe tbody tr th:only-of-type {\n",
       "        vertical-align: middle;\n",
       "    }\n",
       "\n",
       "    .dataframe tbody tr th {\n",
       "        vertical-align: top;\n",
       "    }\n",
       "\n",
       "    .dataframe thead th {\n",
       "        text-align: right;\n",
       "    }\n",
       "</style>\n",
       "<table border=\"1\" class=\"dataframe\">\n",
       "  <thead>\n",
       "    <tr style=\"text-align: right;\">\n",
       "      <th></th>\n",
       "      <th>count</th>\n",
       "      <th>mean</th>\n",
       "      <th>std</th>\n",
       "      <th>min</th>\n",
       "      <th>25%</th>\n",
       "      <th>50%</th>\n",
       "      <th>75%</th>\n",
       "      <th>max</th>\n",
       "    </tr>\n",
       "    <tr>\n",
       "      <th>id</th>\n",
       "      <th></th>\n",
       "      <th></th>\n",
       "      <th></th>\n",
       "      <th></th>\n",
       "      <th></th>\n",
       "      <th></th>\n",
       "      <th></th>\n",
       "      <th></th>\n",
       "    </tr>\n",
       "  </thead>\n",
       "  <tbody>\n",
       "    <tr>\n",
       "      <th>caa23350a09d0dac24295a399970bca2</th>\n",
       "      <td>1.0</td>\n",
       "      <td>4208.0</td>\n",
       "      <td>NaN</td>\n",
       "      <td>4208.0</td>\n",
       "      <td>4208.0</td>\n",
       "      <td>4208.0</td>\n",
       "      <td>4208.0</td>\n",
       "      <td>4208.0</td>\n",
       "    </tr>\n",
       "    <tr>\n",
       "      <th>e10c38d14b332d174c9088504aabf0a3</th>\n",
       "      <td>1.0</td>\n",
       "      <td>61868.0</td>\n",
       "      <td>NaN</td>\n",
       "      <td>61868.0</td>\n",
       "      <td>61868.0</td>\n",
       "      <td>61868.0</td>\n",
       "      <td>61868.0</td>\n",
       "      <td>61868.0</td>\n",
       "    </tr>\n",
       "  </tbody>\n",
       "</table>\n",
       "</div>"
      ],
      "text/plain": [
       "                                  count     mean  std      min      25%  \\\n",
       "id                                                                        \n",
       "caa23350a09d0dac24295a399970bca2    1.0   4208.0  NaN   4208.0   4208.0   \n",
       "e10c38d14b332d174c9088504aabf0a3    1.0  61868.0  NaN  61868.0  61868.0   \n",
       "\n",
       "                                      50%      75%      max  \n",
       "id                                                           \n",
       "caa23350a09d0dac24295a399970bca2   4208.0   4208.0   4208.0  \n",
       "e10c38d14b332d174c9088504aabf0a3  61868.0  61868.0  61868.0  "
      ]
     },
     "execution_count": 68,
     "metadata": {},
     "output_type": "execute_result"
    }
   ],
   "source": [
    "    gist['size'].groupby(gist.index).describe().sample(2)"
   ]
  },
  {
   "cell_type": "markdown",
   "metadata": {},
   "source": [
    "> `gist.groupby(gist.index).agg` is another powerful way to do aggregations."
   ]
  },
  {
   "cell_type": "code",
   "execution_count": 69,
   "metadata": {},
   "outputs": [
    {
     "data": {
      "image/png": "[encoded data removed]",
      "text/plain": [
       "<Figure size 1728x360 with 5 Axes>"
      ]
     },
     "metadata": {
      "needs_background": "light"
     },
     "output_type": "display_data"
    },
    {
     "data": {
      "text/plain": [
       "<matplotlib.axes._subplots.AxesSubplot at 0x2c7837ce208>"
      ]
     },
     "execution_count": 69,
     "metadata": {},
     "output_type": "execute_result"
    },
    {
     "data": {
      "image/png": "[encoded data removed]",
      "text/plain": [
       "<Figure size 1728x360 with 1 Axes>"
      ]
     },
     "metadata": {
      "needs_background": "light"
     },
     "output_type": "display_data"
    }
   ],
   "source": [
    "    subplots = pandas.Series(matplotlib.pyplot.subplots(1, len(languages), figsize=(24, 5))[1], languages.index)\n",
    "    \n",
    "    languages.apply(\n",
    "        lambda s: s.dropna().plot.bar(title=s.name, ax=subplots.loc[s.name], grid=True), axis=1)\n",
    "    matplotlib.pyplot.show()\n",
    "    (gist.language\n",
    "     .value_counts()\n",
    "     .plot.bar(title='total', grid=True, figsize=(24, 5)))"
   ]
  },
  {
   "cell_type": "markdown",
   "metadata": {},
   "source": [
    "# What the hell just happened?"
   ]
  },
  {
   "cell_type": "code",
   "execution_count": 70,
   "metadata": {},
   "outputs": [],
   "source": [
    "    import ast, nbconvert"
   ]
  },
  {
   "cell_type": "code",
   "execution_count": 71,
   "metadata": {},
   "outputs": [],
   "source": [
    "    attributes = pandas.Series()\n",
    "    class FindAttributes(ast.NodeVisitor):\n",
    "        def visit_Attribute(self, node):   self.attributes[-1].append(node.attr) or super().generic_visit(node)\n",
    "                        \n",
    "        def visit_Name(self, node):  \n",
    "            value = globals().get(node.id, None)\n",
    "            self.attributes[-1].append(\n",
    "                type(value).__name__ if isinstance(value, (pandas.DataFrame, pandas.Series)) else node.id\n",
    "            ) or super().generic_visit(node)\n",
    "\n",
    "        def __call__(self, str):\n",
    "            self.attributes = list()\n",
    "            for body in ast.parse(str).body:\n",
    "                self.attributes.append([])\n",
    "                self.visit(body)\n",
    "                self.attributes[-1] = ', '.join(reversed(self.attributes[-1]))\n",
    "            return pandas.Series(self.attributes).pipe(lambda s: s[s.apply(bool)])\n",
    "    actions = FindAttributes()(nbconvert.get_exporter('python')().from_filename(filename='demo.ipynb')[0].replace('await ', ''))"
   ]
  },
  {
   "cell_type": "markdown",
   "metadata": {},
   "source": [
    "A back of the envelope use of attributes in this demonstation."
   ]
  },
  {
   "cell_type": "code",
   "execution_count": 74,
   "metadata": {},
   "outputs": [
    {
     "data": {
      "text/html": [
       "<div>\n",
       "<style scoped>\n",
       "    .dataframe tbody tr th:only-of-type {\n",
       "        vertical-align: middle;\n",
       "    }\n",
       "\n",
       "    .dataframe tbody tr th {\n",
       "        vertical-align: top;\n",
       "    }\n",
       "\n",
       "    .dataframe thead th {\n",
       "        text-align: right;\n",
       "    }\n",
       "</style>\n",
       "<table border=\"1\" class=\"dataframe\">\n",
       "  <thead>\n",
       "    <tr style=\"text-align: right;\">\n",
       "      <th></th>\n",
       "      <th>series</th>\n",
       "      <th>dataframe</th>\n",
       "      <th>pandas</th>\n",
       "      <th>set_index</th>\n",
       "      <th>pipe</th>\n",
       "      <th>index</th>\n",
       "      <th>str</th>\n",
       "      <th>df</th>\n",
       "      <th>plot</th>\n",
       "      <th>self</th>\n",
       "      <th>...</th>\n",
       "      <th>globals</th>\n",
       "      <th>events_url</th>\n",
       "      <th>loc</th>\n",
       "      <th>valueerror</th>\n",
       "      <th>venn3_unweighted</th>\n",
       "      <th>public_repos</th>\n",
       "      <th>filter</th>\n",
       "      <th>endswith</th>\n",
       "      <th>to_series</th>\n",
       "      <th>nodevisitor</th>\n",
       "    </tr>\n",
       "  </thead>\n",
       "  <tbody>\n",
       "    <tr>\n",
       "      <th>0</th>\n",
       "      <td>41</td>\n",
       "      <td>35</td>\n",
       "      <td>34</td>\n",
       "      <td>10</td>\n",
       "      <td>10</td>\n",
       "      <td>10</td>\n",
       "      <td>9</td>\n",
       "      <td>8</td>\n",
       "      <td>8</td>\n",
       "      <td>8</td>\n",
       "      <td>...</td>\n",
       "      <td>1</td>\n",
       "      <td>1</td>\n",
       "      <td>1</td>\n",
       "      <td>1</td>\n",
       "      <td>1</td>\n",
       "      <td>1</td>\n",
       "      <td>1</td>\n",
       "      <td>1</td>\n",
       "      <td>1</td>\n",
       "      <td>1</td>\n",
       "    </tr>\n",
       "  </tbody>\n",
       "</table>\n",
       "<p>1 rows × 139 columns</p>\n",
       "</div>"
      ],
      "text/plain": [
       "   series  dataframe  pandas  set_index  pipe  index  str  df  plot  self  \\\n",
       "0      41         35      34         10    10     10    9   8     8     8   \n",
       "\n",
       "      ...       globals  events_url  loc  valueerror  venn3_unweighted  \\\n",
       "0     ...             1           1    1           1                 1   \n",
       "\n",
       "   public_repos  filter  endswith  to_series  nodevisitor  \n",
       "0             1       1         1          1            1  \n",
       "\n",
       "[1 rows x 139 columns]"
      ]
     },
     "execution_count": 74,
     "metadata": {},
     "output_type": "execute_result"
    }
   ],
   "source": [
    "    actions.str.split(\n",
    "        ',', expand=True\n",
    "    ).stack().str.strip().str.lower().value_counts().to_frame().T"
   ]
  },
  {
   "cell_type": "markdown",
   "metadata": {},
   "source": [
    "# A summary"
   ]
  },
  {
   "cell_type": "markdown",
   "metadata": {},
   "source": [
    "* `pandas.DataFrame.applymap` apply a function to every value.\n",
    "* `pandas.DataFrame.apply` apply a function to series along an axis.\n",
    "* `pandas.DataFrame.pipe` apply a function to an entire dataframe.\n",
    "* `pandas.Series.apply` apply a function to each value in a series.\n",
    "* `pandas.Series.pipe` apply a function to an entire series.\n",
    "* `pandas.Index.map` apply a function to each value in an index.\n",
    "* `pandas.Index.to_series` convert an index to a series.\n",
    "* `pandas.Index.to_frame` convert an index to a dataframe."
   ]
  },
  {
   "cell_type": "markdown",
   "metadata": {},
   "source": [
    "👉 [Extending pandas](extending.ipynb)\n"
   ]
  }
 ],
 "metadata": {
  "kernelspec": {
   "display_name": "Python 3",
   "language": "python",
   "name": "python3"
  },
  "language_info": {
   "codemirror_mode": {
    "name": "ipython",
    "version": 3
   },
   "file_extension": ".py",
   "mimetype": "text/x-python",
   "name": "python",
   "nbconvert_exporter": "python",
   "pygments_lexer": "ipython3",
   "version": "3.6.6"
  }
 },
 "nbformat": 4,
 "nbformat_minor": 2
}
