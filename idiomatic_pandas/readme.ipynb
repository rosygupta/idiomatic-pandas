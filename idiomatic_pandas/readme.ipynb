{
 "cells": [
  {
   "cell_type": "markdown",
   "metadata": {},
   "source": [
    "# References"
   ]
  },
  {
   "cell_type": "markdown",
   "metadata": {},
   "source": [
    "## Referenced"
   ]
  },
  {
   "cell_type": "markdown",
   "metadata": {},
   "source": [
    "## To be referenced"
   ]
  },
  {
   "cell_type": "code",
   "execution_count": 12,
   "metadata": {},
   "outputs": [
    {
     "data": {
      "text/markdown": [
       "    ip= get_ipython()"
      ],
      "text/plain": [
       "<IPython.core.display.Markdown object>"
      ]
     },
     "metadata": {},
     "output_type": "display_data"
    }
   ],
   "source": [
    "    ip= get_ipython()"
   ]
  },
  {
   "cell_type": "code",
   "execution_count": 13,
   "metadata": {},
   "outputs": [
    {
     "data": {
      "text/markdown": [
       "    ip.kernel"
      ],
      "text/plain": [
       "<IPython.core.display.Markdown object>"
      ]
     },
     "metadata": {},
     "output_type": "display_data"
    },
    {
     "data": {
      "text/plain": [
       "<pidgin.kernel.PidginKernel at 0x1ddc7ae0eb8>"
      ]
     },
     "execution_count": 13,
     "metadata": {},
     "output_type": "execute_result"
    }
   ],
   "source": [
    "    ip.kernel."
   ]
  },
  {
   "cell_type": "code",
   "execution_count": 2,
   "metadata": {},
   "outputs": [
    {
     "data": {
      "text/markdown": [
       "    literate_computing = \"http://blog.fperez.org/2013/04/literate-computing-and-computational.html\"\n",
       "    pydata_atl = \"https://meetup.com/PyData-Atlanta/\"\n",
       "    tidy_data_pdf = \"https://vita.had.co.nz/papers/tidy-data.pdf\"\n",
       "    tidy_data = \"https://en.wikipedia.org/wiki/Tidy_data\"\n",
       "    pandas_tidy = \"https://tomaugspurger.github.io/modern-5-tidy\"\n",
       "    pandas_viz = \"https://tomaugspurger.github.io/modern-6-visualization\"\n",
       "    deathbeds = \"https://github.com/deathbeds\"\n",
       "    deathbeds_blog = \"http://deathbeds.github.io\"    \n",
       "    modern_pandas = \"https://tomaugspurger.github.io/modern-1-intro.html\"\n",
       "    chaining_pandas = \"https://tomaugspurger.github.io/method-chaining\"\n",
       "    perlisisms = \"http://www.cs.yale.edu/homes/perlis-alan/quotes.html\"\n",
       "    notebook_war = \"https://yihui.name/en/2018/09/notebook-war/\"\n",
       "    indexing = \"https://pandas.pydata.org/pandas-docs/stable/indexing.html\"\n",
       "    seaborn = \"https://seaborn.pydata.org\"\n",
       "    dask = \"https://dask.pydata.org\"\n",
       "    blaze = \"https://blaze.readthedocs.io/en/latest/rosetta-pandas.html\"\n",
       "    nx =\"https://networkx.github.io/\"\n",
       "    gists = \"http://gist.github.com\"\n",
       "    widgets = \"https://ipywidgets.readthedocs.io/en/stable/examples/Using%20Interact.html\"\n",
       "    dplyr = \"https://trestletech.com/wp-content/uploads/2015/07/dplyr.pdf\"\n",
       "    blaze = \"https://blaze.readthedocs.io/en/latest/rosetta-pandas.html\"\n",
       "    marta = \"http://nbviewer.jupyter.org/github/amorrissette/Marta_ATL/blob/master/PyData_082018/PyData_MARTA_083018.ipynb\"\n",
       "    feather = \"\""
      ],
      "text/plain": [
       "<IPython.core.display.Markdown object>"
      ]
     },
     "metadata": {},
     "output_type": "display_data"
    }
   ],
   "source": [
    "    literate_computing = \"http://blog.fperez.org/2013/04/literate-computing-and-computational.html\"\n",
    "    pydata_atl = \"https://meetup.com/PyData-Atlanta/\"\n",
    "    tidy_data_pdf = \"https://vita.had.co.nz/papers/tidy-data.pdf\"\n",
    "    tidy_data = \"https://en.wikipedia.org/wiki/Tidy_data\"\n",
    "    pandas_tidy = \"https://tomaugspurger.github.io/modern-5-tidy\"\n",
    "    pandas_viz = \"https://tomaugspurger.github.io/modern-6-visualization\"\n",
    "    deathbeds = \"https://github.com/deathbeds\"\n",
    "    deathbeds_blog = \"http://deathbeds.github.io\"    \n",
    "    modern_pandas = \"https://tomaugspurger.github.io/modern-1-intro.html\"\n",
    "    chaining_pandas = \"https://tomaugspurger.github.io/method-chaining\"\n",
    "    perlisisms = \"http://www.cs.yale.edu/homes/perlis-alan/quotes.html\"\n",
    "    notebook_war = \"https://yihui.name/en/2018/09/notebook-war/\"\n",
    "    indexing = \"https://pandas.pydata.org/pandas-docs/stable/indexing.html\"\n",
    "    seaborn = \"https://seaborn.pydata.org\"\n",
    "    dask = \"https://dask.pydata.org\"\n",
    "    blaze = \"https://blaze.readthedocs.io/en/latest/rosetta-pandas.html\"\n",
    "    nx =\"https://networkx.github.io/\"\n",
    "    gists = \"http://gist.github.com\"\n",
    "    widgets = \"https://ipywidgets.readthedocs.io/en/stable/examples/Using%20Interact.html\"\n",
    "    dplyr = \"https://trestletech.com/wp-content/uploads/2015/07/dplyr.pdf\"\n",
    "    blaze = \"https://blaze.readthedocs.io/en/latest/rosetta-pandas.html\"\n",
    "    marta = \"http://nbviewer.jupyter.org/github/amorrissette/Marta_ATL/blob/master/PyData_082018/PyData_MARTA_083018.ipynb\"\n",
    "    feather = \"\""
   ]
  },
  {
   "cell_type": "code",
   "execution_count": 3,
   "metadata": {},
   "outputs": [
    {
     "data": {
      "text/markdown": [
       "     rdf = \"https://pandas.pydata.org/pandas-docs/stable/comparison_with_r.html\" "
      ],
      "text/plain": [
       "<IPython.core.display.Markdown object>"
      ]
     },
     "metadata": {},
     "output_type": "display_data"
    }
   ],
   "source": [
    "     rdf = \"https://pandas.pydata.org/pandas-docs/stable/comparison_with_r.html\" "
   ]
  },
  {
   "cell_type": "code",
   "execution_count": 2,
   "metadata": {},
   "outputs": [
    {
     "data": {
      "text/markdown": [
       "toolz = "
      ],
      "text/plain": [
       "'toolz = '"
      ]
     },
     "execution_count": 3,
     "metadata": {},
     "output_type": "execute_result"
    }
   ],
   "source": [
    "toolz = \"\""
   ]
  },
  {
   "cell_type": "code",
   "execution_count": null,
   "metadata": {},
   "outputs": [],
   "source": [
    "fluent_api = \"https://en.wikipedia.org/wiki/Fluent_interface\"\n"
   ]
  },
  {
   "cell_type": "code",
   "execution_count": null,
   "metadata": {},
   "outputs": [],
   "source": []
  }
 ],
 "metadata": {
  "kernelspec": {
   "display_name": "pidgin",
   "language": "",
   "name": "pidgin"
  },
  "language_info": {
   "argv": [
    "python",
    "-m",
    "pidgin.kernel",
    "-f",
    "{connection_file}"
   ],
   "codemirror_mode": {
    "name": "ipython",
    "version": 3
   },
   "display_name": "pidgin",
   "file_extension": ".md.ipynb",
   "mimetype": "text/x-python",
   "name": "pidgin",
   "nbconvert_exporter": "python",
   "pygments_lexer": "ipython3",
   "version": "3.6.6"
  }
 },
 "nbformat": 4,
 "nbformat_minor": 2
}
