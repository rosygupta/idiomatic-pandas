{
 "cells": [
  {
   "cell_type": "code",
   "execution_count": null,
   "metadata": {},
   "outputs": [
    {
     "data": {
      "text/markdown": [
       "The ubiquity of data means that combining datasets must scale better."
      ],
      "text/plain": [
       "'The ubiquity of data means that combining datasets must scale better.'"
      ]
     },
     "execution_count": 1,
     "metadata": {},
     "output_type": "execute_result"
    }
   ],
   "source": [
    "The ubiquity of data means that combining datasets must scale better."
   ]
  },
  {
   "cell_type": "code",
   "execution_count": 12,
   "metadata": {},
   "outputs": [
    {
     "data": {
      "text/markdown": [
       "    from .statements import get as request\n",
       "    import typing as t\n",
       "    import pandas, asyncio, ibis.sql.sqlite\n",
       "    from toolz.curried import *\n",
       "\n",
       "    import datetime"
      ],
      "text/plain": [
       "<IPython.core.display.Markdown object>"
      ]
     },
     "metadata": {},
     "output_type": "display_data"
    }
   ],
   "source": [
    "    from .statements import get as request\n",
    "    import typing as t\n",
    "    import pandas, asyncio, ibis.sql.sqlite\n",
    "    from toolz.curried import *\n",
    "\n",
    "    import datetime"
   ]
  },
  {
   "cell_type": "markdown",
   "metadata": {},
   "source": [
    "# Accessing data.\n",
    "\n",
    "Pandas has a bunch of read methods that you should fully take advantage of."
   ]
  },
  {
   "cell_type": "code",
   "execution_count": 13,
   "metadata": {},
   "outputs": [
    {
     "data": {
      "text/markdown": [
       "    pipe(pandas, dir, filter(flip(str.startswith)('read_')), list, pandas.DataFrame).T"
      ],
      "text/plain": [
       "<IPython.core.display.Markdown object>"
      ]
     },
     "metadata": {},
     "output_type": "display_data"
    },
    {
     "data": {
      "text/html": [
       "<div>\n",
       "<style scoped>\n",
       "    .dataframe tbody tr th:only-of-type {\n",
       "        vertical-align: middle;\n",
       "    }\n",
       "\n",
       "    .dataframe tbody tr th {\n",
       "        vertical-align: top;\n",
       "    }\n",
       "\n",
       "    .dataframe thead th {\n",
       "        text-align: right;\n",
       "    }\n",
       "</style>\n",
       "<table border=\"1\" class=\"dataframe\">\n",
       "  <thead>\n",
       "    <tr style=\"text-align: right;\">\n",
       "      <th></th>\n",
       "      <th>0</th>\n",
       "      <th>1</th>\n",
       "      <th>2</th>\n",
       "      <th>3</th>\n",
       "      <th>4</th>\n",
       "      <th>5</th>\n",
       "      <th>6</th>\n",
       "      <th>7</th>\n",
       "      <th>8</th>\n",
       "      <th>9</th>\n",
       "      <th>10</th>\n",
       "      <th>11</th>\n",
       "      <th>12</th>\n",
       "      <th>13</th>\n",
       "      <th>14</th>\n",
       "      <th>15</th>\n",
       "      <th>16</th>\n",
       "      <th>17</th>\n",
       "    </tr>\n",
       "  </thead>\n",
       "  <tbody>\n",
       "    <tr>\n",
       "      <th>0</th>\n",
       "      <td>read_clipboard</td>\n",
       "      <td>read_csv</td>\n",
       "      <td>read_excel</td>\n",
       "      <td>read_feather</td>\n",
       "      <td>read_fwf</td>\n",
       "      <td>read_gbq</td>\n",
       "      <td>read_hdf</td>\n",
       "      <td>read_html</td>\n",
       "      <td>read_json</td>\n",
       "      <td>read_msgpack</td>\n",
       "      <td>read_parquet</td>\n",
       "      <td>read_pickle</td>\n",
       "      <td>read_sas</td>\n",
       "      <td>read_sql</td>\n",
       "      <td>read_sql_query</td>\n",
       "      <td>read_sql_table</td>\n",
       "      <td>read_stata</td>\n",
       "      <td>read_table</td>\n",
       "    </tr>\n",
       "  </tbody>\n",
       "</table>\n",
       "</div>"
      ],
      "text/plain": [
       "               0         1           2             3         4         5   \\\n",
       "0  read_clipboard  read_csv  read_excel  read_feather  read_fwf  read_gbq   \n",
       "\n",
       "         6          7          8             9             10           11  \\\n",
       "0  read_hdf  read_html  read_json  read_msgpack  read_parquet  read_pickle   \n",
       "\n",
       "         12        13              14              15          16          17  \n",
       "0  read_sas  read_sql  read_sql_query  read_sql_table  read_stata  read_table  "
      ]
     },
     "execution_count": 13,
     "metadata": {},
     "output_type": "execute_result"
    }
   ],
   "source": [
    "    pipe(pandas, dir, filter(flip(str.startswith)('read_')), list, pandas.DataFrame).T"
   ]
  },
  {
   "cell_type": "code",
   "execution_count": 14,
   "metadata": {},
   "outputs": [
    {
     "data": {
      "text/markdown": [
       "    frames = pandas.read_html(\"https://en.wikipedia.org/wiki/List_of_physical_quantities\")\n",
       "    f\"There are __{len(frames)}__ tables in this webpage.\""
      ],
      "text/plain": [
       "<IPython.core.display.Markdown object>"
      ]
     },
     "metadata": {},
     "output_type": "display_data"
    },
    {
     "data": {
      "text/markdown": [
       "There are __2__ tables in this webpage."
      ],
      "text/plain": [
       "'There are __2__ tables in this webpage.'"
      ]
     },
     "execution_count": 14,
     "metadata": {},
     "output_type": "execute_result"
    }
   ],
   "source": [
    "    frames = pandas.read_html(\"https://en.wikipedia.org/wiki/List_of_physical_quantities\")\n",
    "    f\"There are __{len(frames)}__ tables in this webpage.\""
   ]
  },
  {
   "cell_type": "markdown",
   "metadata": {},
   "source": [
    "## Caching requests\n",
    "\n",
    "Caching our requests assures that our data remains local and we can work with out the internet."
   ]
  },
  {
   "cell_type": "code",
   "execution_count": 15,
   "metadata": {},
   "outputs": [
    {
     "data": {
      "text/markdown": [
       "    import requests_cache; requests_cache.install_cache('idiomatic_pandas')"
      ],
      "text/plain": [
       "<IPython.core.display.Markdown object>"
      ]
     },
     "metadata": {},
     "output_type": "display_data"
    }
   ],
   "source": [
    "    import requests_cache; requests_cache.install_cache('idiomatic_pandas')"
   ]
  },
  {
   "cell_type": "code",
   "execution_count": 16,
   "metadata": {},
   "outputs": [
    {
     "data": {
      "text/markdown": [
       "    request??"
      ],
      "text/plain": [
       "<IPython.core.display.Markdown object>"
      ]
     },
     "metadata": {},
     "output_type": "display_data"
    },
    {
     "data": {
      "text/plain": [
       "\u001b[1;31mSignature:\u001b[0m \u001b[0mrequest\u001b[0m\u001b[1;33m(\u001b[0m\u001b[0murl\u001b[0m\u001b[1;33m,\u001b[0m \u001b[0mparams\u001b[0m\u001b[1;33m=\u001b[0m\u001b[1;33m{\u001b[0m\u001b[1;33m}\u001b[0m\u001b[1;33m,\u001b[0m \u001b[0mheaders\u001b[0m\u001b[1;33m=\u001b[0m\u001b[1;33m{\u001b[0m\u001b[1;33m}\u001b[0m\u001b[1;33m)\u001b[0m \u001b[1;33m->\u001b[0m \u001b[0mUnion\u001b[0m\u001b[1;33m[\u001b[0m\u001b[0mpandas\u001b[0m\u001b[1;33m.\u001b[0m\u001b[0mcore\u001b[0m\u001b[1;33m.\u001b[0m\u001b[0mseries\u001b[0m\u001b[1;33m.\u001b[0m\u001b[0mSeries\u001b[0m\u001b[1;33m,\u001b[0m \u001b[0mpandas\u001b[0m\u001b[1;33m.\u001b[0m\u001b[0mcore\u001b[0m\u001b[1;33m.\u001b[0m\u001b[0mframe\u001b[0m\u001b[1;33m.\u001b[0m\u001b[0mDataFrame\u001b[0m\u001b[1;33m]\u001b[0m\u001b[1;33m\u001b[0m\u001b[0m\n",
       "\u001b[1;31mDocstring:\u001b[0m `get` is asynchronous allowing data to be downloaded concurrently.\n",
       "\u001b[1;31mSource:\u001b[0m   \n",
       "\u001b[1;33masync\u001b[0m \u001b[1;32mdef\u001b[0m \u001b[0mget\u001b[0m\u001b[1;33m(\u001b[0m\u001b[0murl\u001b[0m\u001b[1;33m,\u001b[0m \u001b[0mparams\u001b[0m\u001b[1;33m=\u001b[0m\u001b[1;33m{\u001b[0m\u001b[1;33m}\u001b[0m\u001b[1;33m,\u001b[0m \u001b[0mheaders\u001b[0m\u001b[1;33m=\u001b[0m\u001b[1;33m{\u001b[0m\u001b[1;33m}\u001b[0m\u001b[1;33m)\u001b[0m \u001b[1;33m->\u001b[0m \u001b[0mUnion\u001b[0m\u001b[1;33m[\u001b[0m\u001b[0mpandas\u001b[0m\u001b[1;33m.\u001b[0m\u001b[0mSeries\u001b[0m\u001b[1;33m,\u001b[0m \u001b[0mpandas\u001b[0m\u001b[1;33m.\u001b[0m\u001b[0mDataFrame\u001b[0m\u001b[1;33m]\u001b[0m\u001b[1;33m:\u001b[0m \u001b[1;33m\n",
       "\u001b[0m    \u001b[0mresult\u001b[0m \u001b[1;33m=\u001b[0m \u001b[0mrequests\u001b[0m\u001b[1;33m.\u001b[0m\u001b[0mget\u001b[0m\u001b[1;33m(\u001b[0m\u001b[0murl\u001b[0m\u001b[1;33m,\u001b[0m \u001b[0mparams\u001b[0m\u001b[1;33m=\u001b[0m\u001b[1;33m{\u001b[0m\u001b[1;33m\n",
       "\u001b[0m        \u001b[1;33m**\u001b[0m\u001b[0mparams\u001b[0m\u001b[1;33m,\u001b[0m \u001b[1;34m'access_token'\u001b[0m\u001b[1;33m:\u001b[0m \u001b[0mos\u001b[0m\u001b[1;33m.\u001b[0m\u001b[0menviron\u001b[0m\u001b[1;33m.\u001b[0m\u001b[0mget\u001b[0m\u001b[1;33m(\u001b[0m\u001b[1;34m'gh'\u001b[0m\u001b[1;33m)\u001b[0m\u001b[1;33m\n",
       "\u001b[0m    \u001b[1;33m}\u001b[0m\u001b[1;33m,\u001b[0m \u001b[0mheaders\u001b[0m\u001b[1;33m=\u001b[0m\u001b[0mheaders\u001b[0m\u001b[1;33m)\u001b[0m\u001b[1;33m.\u001b[0m\u001b[0mcontent\u001b[0m\u001b[1;33m\n",
       "\u001b[0m    \u001b[1;32mtry\u001b[0m\u001b[1;33m:\u001b[0m\u001b[1;33m\n",
       "\u001b[0m        \u001b[1;32mreturn\u001b[0m \u001b[0mpandas\u001b[0m\u001b[1;33m.\u001b[0m\u001b[0mread_json\u001b[0m\u001b[1;33m(\u001b[0m\u001b[0mresult\u001b[0m\u001b[1;33m)\u001b[0m\u001b[1;33m\n",
       "\u001b[0m    \u001b[1;32mexcept\u001b[0m \u001b[0mValueError\u001b[0m\u001b[1;33m:\u001b[0m \u001b[1;33m\n",
       "\u001b[0m        \u001b[1;32mreturn\u001b[0m \u001b[0mpandas\u001b[0m\u001b[1;33m.\u001b[0m\u001b[0mread_json\u001b[0m\u001b[1;33m(\u001b[0m\u001b[0mresult\u001b[0m\u001b[1;33m,\u001b[0m \u001b[0mtyp\u001b[0m\u001b[1;33m=\u001b[0m\u001b[0mpandas\u001b[0m\u001b[1;33m.\u001b[0m\u001b[0mSeries\u001b[0m\u001b[1;33m)\u001b[0m\u001b[1;33m\u001b[0m\u001b[0m\n",
       "\u001b[1;31mFile:\u001b[0m      c:\\users\\deathbeds\\idiomatic_pandas\\idiomatic_pandas\\statements.ipynb\n",
       "\u001b[1;31mType:\u001b[0m      function\n"
      ]
     },
     "metadata": {},
     "output_type": "display_data"
    }
   ],
   "source": [
    "    request??"
   ]
  },
  {
   "cell_type": "markdown",
   "metadata": {},
   "source": [
    "> Sometimes I use Python type annotations to indicate the input and output values of the functions."
   ]
  },
  {
   "cell_type": "code",
   "execution_count": 17,
   "metadata": {},
   "outputs": [
    {
     "data": {
      "text/markdown": [
       "    username = 'tonyfast'"
      ],
      "text/plain": [
       "<IPython.core.display.Markdown object>"
      ]
     },
     "metadata": {},
     "output_type": "display_data"
    }
   ],
   "source": [
    "    username = 'tonyfast'"
   ]
  },
  {
   "cell_type": "code",
   "execution_count": 18,
   "metadata": {},
   "outputs": [
    {
     "data": {
      "text/markdown": [
       "    info = await request(f\"https://api.github.com/users/%s\"%username); info.to_frame()"
      ],
      "text/plain": [
       "<IPython.core.display.Markdown object>"
      ]
     },
     "metadata": {},
     "output_type": "display_data"
    },
    {
     "data": {
      "text/html": [
       "<div>\n",
       "<style scoped>\n",
       "    .dataframe tbody tr th:only-of-type {\n",
       "        vertical-align: middle;\n",
       "    }\n",
       "\n",
       "    .dataframe tbody tr th {\n",
       "        vertical-align: top;\n",
       "    }\n",
       "\n",
       "    .dataframe thead th {\n",
       "        text-align: right;\n",
       "    }\n",
       "</style>\n",
       "<table border=\"1\" class=\"dataframe\">\n",
       "  <thead>\n",
       "    <tr style=\"text-align: right;\">\n",
       "      <th></th>\n",
       "      <th>0</th>\n",
       "    </tr>\n",
       "  </thead>\n",
       "  <tbody>\n",
       "    <tr>\n",
       "      <th>login</th>\n",
       "      <td>tonyfast</td>\n",
       "    </tr>\n",
       "    <tr>\n",
       "      <th>id</th>\n",
       "      <td>4236275</td>\n",
       "    </tr>\n",
       "    <tr>\n",
       "      <th>node_id</th>\n",
       "      <td>MDQ6VXNlcjQyMzYyNzU=</td>\n",
       "    </tr>\n",
       "    <tr>\n",
       "      <th>avatar_url</th>\n",
       "      <td>https://avatars3.githubusercontent.com/u/42362...</td>\n",
       "    </tr>\n",
       "    <tr>\n",
       "      <th>gravatar_id</th>\n",
       "      <td></td>\n",
       "    </tr>\n",
       "    <tr>\n",
       "      <th>url</th>\n",
       "      <td>https://api.github.com/users/tonyfast</td>\n",
       "    </tr>\n",
       "    <tr>\n",
       "      <th>html_url</th>\n",
       "      <td>https://github.com/tonyfast</td>\n",
       "    </tr>\n",
       "    <tr>\n",
       "      <th>followers_url</th>\n",
       "      <td>https://api.github.com/users/tonyfast/followers</td>\n",
       "    </tr>\n",
       "    <tr>\n",
       "      <th>following_url</th>\n",
       "      <td>https://api.github.com/users/tonyfast/followin...</td>\n",
       "    </tr>\n",
       "    <tr>\n",
       "      <th>gists_url</th>\n",
       "      <td>https://api.github.com/users/tonyfast/gists{/g...</td>\n",
       "    </tr>\n",
       "    <tr>\n",
       "      <th>starred_url</th>\n",
       "      <td>https://api.github.com/users/tonyfast/starred{...</td>\n",
       "    </tr>\n",
       "    <tr>\n",
       "      <th>subscriptions_url</th>\n",
       "      <td>https://api.github.com/users/tonyfast/subscrip...</td>\n",
       "    </tr>\n",
       "    <tr>\n",
       "      <th>organizations_url</th>\n",
       "      <td>https://api.github.com/users/tonyfast/orgs</td>\n",
       "    </tr>\n",
       "    <tr>\n",
       "      <th>repos_url</th>\n",
       "      <td>https://api.github.com/users/tonyfast/repos</td>\n",
       "    </tr>\n",
       "    <tr>\n",
       "      <th>events_url</th>\n",
       "      <td>https://api.github.com/users/tonyfast/events{/...</td>\n",
       "    </tr>\n",
       "    <tr>\n",
       "      <th>received_events_url</th>\n",
       "      <td>https://api.github.com/users/tonyfast/received...</td>\n",
       "    </tr>\n",
       "    <tr>\n",
       "      <th>type</th>\n",
       "      <td>User</td>\n",
       "    </tr>\n",
       "    <tr>\n",
       "      <th>site_admin</th>\n",
       "      <td>False</td>\n",
       "    </tr>\n",
       "    <tr>\n",
       "      <th>name</th>\n",
       "      <td>Tony Fast</td>\n",
       "    </tr>\n",
       "    <tr>\n",
       "      <th>company</th>\n",
       "      <td>...</td>\n",
       "    </tr>\n",
       "    <tr>\n",
       "      <th>blog</th>\n",
       "      <td>http://deathbeds.github.io</td>\n",
       "    </tr>\n",
       "    <tr>\n",
       "      <th>location</th>\n",
       "      <td>Atlanta</td>\n",
       "    </tr>\n",
       "    <tr>\n",
       "      <th>email</th>\n",
       "      <td>tony.fast@gmail.com</td>\n",
       "    </tr>\n",
       "    <tr>\n",
       "      <th>hireable</th>\n",
       "      <td>True</td>\n",
       "    </tr>\n",
       "    <tr>\n",
       "      <th>bio</th>\n",
       "      <td>None</td>\n",
       "    </tr>\n",
       "    <tr>\n",
       "      <th>public_repos</th>\n",
       "      <td>156</td>\n",
       "    </tr>\n",
       "    <tr>\n",
       "      <th>public_gists</th>\n",
       "      <td>513</td>\n",
       "    </tr>\n",
       "    <tr>\n",
       "      <th>followers</th>\n",
       "      <td>78</td>\n",
       "    </tr>\n",
       "    <tr>\n",
       "      <th>following</th>\n",
       "      <td>20</td>\n",
       "    </tr>\n",
       "    <tr>\n",
       "      <th>created_at</th>\n",
       "      <td>2013-04-23T15:17:05Z</td>\n",
       "    </tr>\n",
       "    <tr>\n",
       "      <th>updated_at</th>\n",
       "      <td>2018-10-01T17:36:42Z</td>\n",
       "    </tr>\n",
       "  </tbody>\n",
       "</table>\n",
       "</div>"
      ],
      "text/plain": [
       "                                                                     0\n",
       "login                                                         tonyfast\n",
       "id                                                             4236275\n",
       "node_id                                           MDQ6VXNlcjQyMzYyNzU=\n",
       "avatar_url           https://avatars3.githubusercontent.com/u/42362...\n",
       "gravatar_id                                                           \n",
       "url                              https://api.github.com/users/tonyfast\n",
       "html_url                                   https://github.com/tonyfast\n",
       "followers_url          https://api.github.com/users/tonyfast/followers\n",
       "following_url        https://api.github.com/users/tonyfast/followin...\n",
       "gists_url            https://api.github.com/users/tonyfast/gists{/g...\n",
       "starred_url          https://api.github.com/users/tonyfast/starred{...\n",
       "subscriptions_url    https://api.github.com/users/tonyfast/subscrip...\n",
       "organizations_url           https://api.github.com/users/tonyfast/orgs\n",
       "repos_url                  https://api.github.com/users/tonyfast/repos\n",
       "events_url           https://api.github.com/users/tonyfast/events{/...\n",
       "received_events_url  https://api.github.com/users/tonyfast/received...\n",
       "type                                                              User\n",
       "site_admin                                                       False\n",
       "name                                                         Tony Fast\n",
       "company                                                            ...\n",
       "blog                                        http://deathbeds.github.io\n",
       "location                                                       Atlanta\n",
       "email                                              tony.fast@gmail.com\n",
       "hireable                                                          True\n",
       "bio                                                               None\n",
       "public_repos                                                       156\n",
       "public_gists                                                       513\n",
       "followers                                                           78\n",
       "following                                                           20\n",
       "created_at                                        2013-04-23T15:17:05Z\n",
       "updated_at                                        2018-10-01T17:36:42Z"
      ]
     },
     "execution_count": 18,
     "metadata": {},
     "output_type": "execute_result"
    }
   ],
   "source": [
    "    info = await request(f\"https://api.github.com/users/%s\"%username); info.to_frame()"
   ]
  },
  {
   "cell_type": "markdown",
   "metadata": {},
   "source": [
    "## Some utitlity statements."
   ]
  },
  {
   "cell_type": "markdown",
   "metadata": {},
   "source": [
    "Accessing historical data in github requires pagination. https://developer.github.com/v3/guides/traversing-with-pagination/"
   ]
  },
  {
   "cell_type": "markdown",
   "metadata": {},
   "source": [
    "`paginate` appends `\"?page=%i\"` to the end of our Github API requests."
   ]
  },
  {
   "cell_type": "code",
   "execution_count": 19,
   "metadata": {},
   "outputs": [
    {
     "data": {
      "text/markdown": [
       "    def paginate(url: str, slice: slice=slice(1,3)) -> t.Generator:\n",
       "        return (f\"{url}?page={page}\" for page in range(slice.start, slice.stop+1))"
      ],
      "text/plain": [
       "<IPython.core.display.Markdown object>"
      ]
     },
     "metadata": {},
     "output_type": "display_data"
    }
   ],
   "source": [
    "    def paginate(url: str, slice: slice=slice(1,3)) -> t.Generator:\n",
    "        return (f\"{url}?page={page}\" for page in range(slice.start, slice.stop+1))"
   ]
  },
  {
   "cell_type": "markdown",
   "metadata": {},
   "source": [
    "I don't have `datetime` for composing timestamps so I use `pandas.to_datetime`"
   ]
  },
  {
   "cell_type": "code",
   "execution_count": 20,
   "metadata": {},
   "outputs": [
    {
     "data": {
      "text/markdown": [
       "    def timify(df):\n",
       "        at = [str for str in df.columns if str.endswith('_at')]\n",
       "        df[at] = df[at].apply(pandas.to_datetime)        \n",
       "        return df"
      ],
      "text/plain": [
       "<IPython.core.display.Markdown object>"
      ]
     },
     "metadata": {},
     "output_type": "display_data"
    }
   ],
   "source": [
    "    def timify(df):\n",
    "        at = [str for str in df.columns if str.endswith('_at')]\n",
    "        df[at] = df[at].apply(pandas.to_datetime)        \n",
    "        return df"
   ]
  },
  {
   "cell_type": "code",
   "execution_count": 23,
   "metadata": {},
   "outputs": [
    {
     "name": "stdout",
     "output_type": "stream",
     "text": [
      "------> pandas.to_timedelta\n"
     ]
    },
    {
     "data": {
      "text/plain": [
       "<function pandas.core.tools.timedeltas.to_timedelta(arg, unit='ns', box=True, errors='raise')>"
      ]
     },
     "metadata": {},
     "output_type": "display_data"
    }
   ],
   "source": [
    "`pandas.to_timedelta` helps with Δt."
   ]
  },
  {
   "cell_type": "code",
   "execution_count": 24,
   "metadata": {},
   "outputs": [
    {
     "data": {
      "text/markdown": [
       "    pandas.to_timedelta('1 days 10 seconds')"
      ],
      "text/plain": [
       "<IPython.core.display.Markdown object>"
      ]
     },
     "metadata": {},
     "output_type": "display_data"
    },
    {
     "data": {
      "text/plain": [
       "Timedelta('1 days 00:00:10')"
      ]
     },
     "execution_count": 24,
     "metadata": {},
     "output_type": "execute_result"
    }
   ],
   "source": [
    "    pandas.to_timedelta('1 days 10 seconds')"
   ]
  },
  {
   "cell_type": "code",
   "execution_count": 28,
   "metadata": {},
   "outputs": [
    {
     "data": {
      "text/markdown": [
       "and the difference between timestamps returns a time delta."
      ],
      "text/plain": [
       "'and the difference between timestamps returns a time delta.'"
      ]
     },
     "execution_count": 29,
     "metadata": {},
     "output_type": "execute_result"
    }
   ],
   "source": [
    "and the difference between timestamps returns a time delta."
   ]
  },
  {
   "cell_type": "code",
   "execution_count": 38,
   "metadata": {},
   "outputs": [
    {
     "data": {
      "text/markdown": [
       "    Δt = pandas.Series([info.created_at, info.updated_at]).pipe(pandas.to_datetime).diff().dropna(); Δt"
      ],
      "text/plain": [
       "<IPython.core.display.Markdown object>"
      ]
     },
     "metadata": {},
     "output_type": "display_data"
    },
    {
     "data": {
      "text/plain": [
       "1   1987 days 02:19:37\n",
       "dtype: timedelta64[ns]"
      ]
     },
     "execution_count": 38,
     "metadata": {},
     "output_type": "execute_result"
    }
   ],
   "source": [
    "    Δt = pandas.Series([info.created_at, info.updated_at]).pipe(pandas.to_datetime).diff().dropna(); Δt"
   ]
  },
  {
   "cell_type": "markdown",
   "metadata": {},
   "source": [
    "## Let's talk about me"
   ]
  },
  {
   "cell_type": "code",
   "execution_count": 49,
   "metadata": {},
   "outputs": [
    {
     "data": {
      "text/markdown": [
       "    repos = pandas.concat(\n",
       "        await asyncio.gather(*map(\n",
       "            request, paginate(info.repos_url, slice(1, info.public_repos//30+1))))\n",
       "    ).set_index('id').pipe(timify)\n",
       "    f\"\"\"I have __{len(repos)}__ repositories associated with my account after __>{Δt[1].days//365}__ years.\"\"\""
      ],
      "text/plain": [
       "<IPython.core.display.Markdown object>"
      ]
     },
     "metadata": {},
     "output_type": "display_data"
    },
    {
     "data": {
      "text/markdown": [
       "I have __156__ repositories associated with my account after __>5__ years."
      ],
      "text/plain": [
       "'I have __156__ repositories associated with my account after __>5__ years.'"
      ]
     },
     "execution_count": 49,
     "metadata": {},
     "output_type": "execute_result"
    }
   ],
   "source": [
    "    repos = pandas.concat(\n",
    "        await asyncio.gather(*map(\n",
    "            request, paginate(info.repos_url, slice(1, info.public_repos//30+1))))\n",
    "    ).set_index('id').pipe(timify)\n",
    "    f\"\"\"I have __{len(repos)}__ repositories associated with my account after __>{Δt[1].days//365}__ years.\"\"\""
   ]
  },
  {
   "cell_type": "code",
   "execution_count": 50,
   "metadata": {},
   "outputs": [
    {
     "data": {
      "text/markdown": [
       "    gists = pandas.concat(\n",
       "        await asyncio.gather(*map(\n",
       "            request, paginate(info.gists_url.format(**{'/gist_id': ''}), slice(1, info.public_gists//30+1))\n",
       "        ))\n",
       "    ).set_index('id').pipe(timify)\n",
       "    f\"\"\"I've made __{len(gists)}__ gists during that time.\"\"\""
      ],
      "text/plain": [
       "<IPython.core.display.Markdown object>"
      ]
     },
     "metadata": {},
     "output_type": "display_data"
    },
    {
     "data": {
      "text/markdown": [
       "I've made __513__ gists during that time."
      ],
      "text/plain": [
       "\"I've made __513__ gists during that time.\""
      ]
     },
     "execution_count": 50,
     "metadata": {},
     "output_type": "execute_result"
    }
   ],
   "source": [
    "    gists = pandas.concat(\n",
    "        await asyncio.gather(*map(\n",
    "            request, paginate(info.gists_url.format(**{'/gist_id': ''}), slice(1, info.public_gists//30+1))\n",
    "        ))\n",
    "    ).set_index('id').pipe(timify)\n",
    "    f\"\"\"I've made __{len(gists)}__ gists during that time.\"\"\""
   ]
  },
  {
   "cell_type": "code",
   "execution_count": 52,
   "metadata": {},
   "outputs": [
    {
     "data": {
      "text/markdown": [
       "    stars = pandas.concat(\n",
       "        await asyncio.gather(*map(\n",
       "            partial(request, headers={\n",
       "                'Accept': \"application/vnd.github.v3.star+json\"\n",
       "            }), paginate(\n",
       "                info.starred_url.format(**{'/owner': '', '/repo': ''}), slice(1, 700//30+1))\n",
       "        ))\n",
       "    ).pipe(\n",
       "        lambda df: pandas.concat([df.repo.apply(pandas.Series), df.starred_at], axis=1)\n",
       "    ).pipe(timify).set_index('id')\n",
       "    f\"\"\"I've starred __{len(stars)}__ repositories, too.\"\"\""
      ],
      "text/plain": [
       "<IPython.core.display.Markdown object>"
      ]
     },
     "metadata": {},
     "output_type": "display_data"
    },
    {
     "data": {
      "text/markdown": [
       "I've starred __700__ repositories, too."
      ],
      "text/plain": [
       "\"I've starred __700__ repositories, too.\""
      ]
     },
     "execution_count": 52,
     "metadata": {},
     "output_type": "execute_result"
    }
   ],
   "source": [
    "    stars = pandas.concat(\n",
    "        await asyncio.gather(*map(\n",
    "            partial(request, headers={\n",
    "                'Accept': \"application/vnd.github.v3.star+json\"\n",
    "            }), paginate(\n",
    "                info.starred_url.format(**{'/owner': '', '/repo': ''}), slice(1, 700//30+1))\n",
    "        ))\n",
    "    ).pipe(\n",
    "        lambda df: pandas.concat([df.repo.apply(pandas.Series), df.starred_at], axis=1)\n",
    "    ).pipe(timify).set_index('id')\n",
    "    f\"\"\"I've starred __{len(stars)}__ repositories, too.\"\"\""
   ]
  },
  {
   "cell_type": "code",
   "execution_count": 55,
   "metadata": {},
   "outputs": [
    {
     "data": {
      "text/markdown": [
       "    events = pandas.concat(\n",
       "        await asyncio.gather(*map(\n",
       "            request, paginate(info.events_url.format(**{'/privacy': ''}), slice(1, 10))))\n",
       "    ).set_index('id').pipe(timify)"
      ],
      "text/plain": [
       "<IPython.core.display.Markdown object>"
      ]
     },
     "metadata": {},
     "output_type": "display_data"
    }
   ],
   "source": [
    "    events = pandas.concat(\n",
    "        await asyncio.gather(*map(\n",
    "            request, paginate(info.events_url.format(**{'/privacy': ''}), slice(1, 10))))\n",
    "    ).set_index('id').pipe(timify)"
   ]
  },
  {
   "cell_type": "code",
   "execution_count": 59,
   "metadata": {},
   "outputs": [
    {
     "data": {
      "text/markdown": [
       "    %matplotlib inline"
      ],
      "text/plain": [
       "<IPython.core.display.Markdown object>"
      ]
     },
     "metadata": {},
     "output_type": "display_data"
    }
   ],
   "source": [
    "    %matplotlib inline"
   ]
  },
  {
   "cell_type": "code",
   "execution_count": 67,
   "metadata": {},
   "outputs": [
    {
     "data": {
      "text/markdown": [
       "    events.type.value_counts().plot.pie()\n",
       "    f\"\"\"A look at __{username}'s__ last __300__ events.'\"\"\""
      ],
      "text/plain": [
       "<IPython.core.display.Markdown object>"
      ]
     },
     "metadata": {},
     "output_type": "display_data"
    },
    {
     "data": {
      "text/markdown": [
       "A look at __tonyfast's__ last __300__ events.'"
      ],
      "text/plain": [
       "\"A look at __tonyfast's__ last __300__ events.'\""
      ]
     },
     "execution_count": 67,
     "metadata": {},
     "output_type": "execute_result"
    },
    {
     "data": {
      "image/png": "[encoded data removed]",
      "text/plain": [
       "<Figure size 432x288 with 1 Axes>"
      ]
     },
     "metadata": {},
     "output_type": "display_data"
    }
   ],
   "source": [
    "    events.type.value_counts().plot.pie()\n",
    "    f\"\"\"A look at __{username}'s__ last __300__ events.'\"\"\""
   ]
  },
  {
   "cell_type": "code",
   "execution_count": 75,
   "metadata": {},
   "outputs": [
    {
     "data": {
      "text/markdown": [
       "    from matplotlib_venn import *; from toolz.curried.operator import *"
      ],
      "text/plain": [
       "<IPython.core.display.Markdown object>"
      ]
     },
     "metadata": {},
     "output_type": "display_data"
    }
   ],
   "source": [
    "    from matplotlib_venn import *; from toolz.curried.operator import *"
   ]
  },
  {
   "cell_type": "code",
   "execution_count": 95,
   "metadata": {},
   "outputs": [
    {
     "data": {
      "text/markdown": [
       "    pipe((repos, gists, stars), map(attrgetter('columns')), map(set), list, \n",
       "         partial(venn3_unweighted, set_labels=('repos', 'gists', 'stars')))\n",
       "\n",
       "    intersections = set(repos.columns).intersection(gists.columns).intersection(stars.columns)\n",
       "    f\"The __{len(intersections)}__ overlapping columns are: __{', '.join(intersections)}__\""
      ],
      "text/plain": [
       "<IPython.core.display.Markdown object>"
      ]
     },
     "metadata": {},
     "output_type": "display_data"
    },
    {
     "data": {
      "text/markdown": [
       "The __10__ overlapping columns are: __updated_at, url, created_at, description, forks_url, html_url, comments_url, owner, node_id, commits_url__"
      ],
      "text/plain": [
       "'The __10__ overlapping columns are: __updated_at, url, created_at, description, forks_url, html_url, comments_url, owner, node_id, commits_url__'"
      ]
     },
     "execution_count": 95,
     "metadata": {},
     "output_type": "execute_result"
    },
    {
     "data": {
      "image/png": "[encoded data removed]",
      "text/plain": [
       "<Figure size 432x288 with 1 Axes>"
      ]
     },
     "metadata": {},
     "output_type": "display_data"
    }
   ],
   "source": [
    "    pipe((repos, gists, stars), map(attrgetter('columns')), map(set), list, \n",
    "         partial(venn3_unweighted, set_labels=('repos', 'gists', 'stars')))\n",
    "\n",
    "    intersections = set(repos.columns).intersection(gists.columns).intersection(stars.columns)\n",
    "    f\"The __{len(intersections)}__ overlapping columns are: __{', '.join(intersections)}__\""
   ]
  },
  {
   "cell_type": "markdown",
   "metadata": {},
   "source": [
    "## Aggregations\n",
    "\n",
    "`pandas.DataFrame.groupby` & `pandas.DataFrame.rolling` aggreations"
   ]
  },
  {
   "cell_type": "code",
   "execution_count": 156,
   "metadata": {},
   "outputs": [
    {
     "data": {
      "text/markdown": [
       "    monthly_actions = repos.set_index('created_at')[[]].join(\n",
       "        gists.set_index('created_at')[[]]\n",
       "    ).join(\n",
       "        stars.set_index('created_at')[[]]\n",
       "    ).sort_index().index.to_frame().groupby(\n",
       "        pandas.Grouper(freq='M')\n",
       "    ).count()['created_at'].rename('created')"
      ],
      "text/plain": [
       "<IPython.core.display.Markdown object>"
      ]
     },
     "metadata": {},
     "output_type": "display_data"
    }
   ],
   "source": [
    "    monthly_actions = repos.set_index('created_at')[[]].join(\n",
    "        gists.set_index('created_at')[[]]\n",
    "    ).join(\n",
    "        stars.set_index('created_at')[[]]\n",
    "    ).sort_index().index.to_frame().groupby(\n",
    "        pandas.Grouper(freq='M')\n",
    "    ).count()['created_at'].rename('created')"
   ]
  },
  {
   "cell_type": "code",
   "execution_count": 155,
   "metadata": {},
   "outputs": [
    {
     "data": {
      "text/markdown": [
       "    ax = monthly_actions.plot(title='Events per month', legend=True)\n",
       "\n",
       "    monthly_actions.rolling(3, center=True).mean().rename('rolling average').fillna(0).plot(ax=ax, legend=True, grid=True)"
      ],
      "text/plain": [
       "<IPython.core.display.Markdown object>"
      ]
     },
     "metadata": {},
     "output_type": "display_data"
    },
    {
     "data": {
      "text/plain": [
       "<matplotlib.axes._subplots.AxesSubplot at 0x1db59e57128>"
      ]
     },
     "execution_count": 155,
     "metadata": {},
     "output_type": "execute_result"
    },
    {
     "data": {
      "image/png": "[encoded data removed]",
      "text/plain": [
       "<Figure size 432x288 with 1 Axes>"
      ]
     },
     "metadata": {
      "needs_background": "light"
     },
     "output_type": "display_data"
    }
   ],
   "source": [
    "    ax = monthly_actions.plot(title='Events per month', legend=True)\n",
    "    monthly_actions.rolling(3, center=True).mean().rename('rolling average').fillna(0).plot(ax=ax, legend=True, grid=True)"
   ]
  },
  {
   "cell_type": "code",
   "execution_count": 154,
   "metadata": {},
   "outputs": [
    {
     "data": {
      "text/markdown": [
       "    this_years_actions = monthly_actions[monthly_actions.index > pandas.to_datetime('2018-04-01')]\n",
       "    ax = this_years_actions.plot(title='Events per month', legend=True, figsize=(24, 8), grid=True)\n",
       "    this_years_actions.rolling(3, center=True).mean().rename('rolling average').fillna(0).plot(ax=ax, legend=True)\n",
       "    events.set_index('created_at').index.to_frame().groupby(\n",
       "        pandas.Grouper(freq='1D')\n",
       "    ).count()['created_at'].rename('minor events').plot(ax=ax, legend=True, grid=True)"
      ],
      "text/plain": [
       "<IPython.core.display.Markdown object>"
      ]
     },
     "metadata": {},
     "output_type": "display_data"
    },
    {
     "data": {
      "text/plain": [
       "<matplotlib.axes._subplots.AxesSubplot at 0x1db58ff9c88>"
      ]
     },
     "execution_count": 154,
     "metadata": {},
     "output_type": "execute_result"
    },
    {
     "data": {
      "image/png": "[encoded data removed]",
      "text/plain": [
       "<Figure size 1728x576 with 1 Axes>"
      ]
     },
     "metadata": {
      "needs_background": "light"
     },
     "output_type": "display_data"
    }
   ],
   "source": [
    "    this_years_actions = monthly_actions[monthly_actions.index > pandas.to_datetime('2018-04-01')]\n",
    "    ax = this_years_actions.plot(title='Events per month', legend=True, figsize=(24, 8), grid=True)\n",
    "    this_years_actions.rolling(3, center=True).mean().rename('rolling average').fillna(0).plot(ax=ax, legend=True)\n",
    "    events.set_index('created_at').index.to_frame().groupby(\n",
    "        pandas.Grouper(freq='1D')\n",
    "    ).count()['created_at'].rename('minor events').plot(ax=ax, legend=True, grid=True)"
   ]
  },
  {
   "cell_type": "code",
   "execution_count": 11,
   "metadata": {},
   "outputs": [],
   "source": [
    "# ✋✋✋✋✋✋✋✋\n",
    "\n",
    "I'm [Tony Fast]().  I organize [PyData Atlanta]() and the [Jupyter User Group]().  I am currently interested in composing human readable programs\n",
    "using notebooks.\n",
    "\n",
    "I'm going to tell you a little bit about myself in data.  Then we will dissect my approach."
   ]
  },
  {
   "cell_type": "code",
   "execution_count": 1,
   "metadata": {},
   "outputs": [
    {
     "data": {
      "text/markdown": [
       "    from . import readme as ˣ"
      ],
      "text/plain": [
       "<IPython.core.display.Markdown object>"
      ]
     },
     "metadata": {},
     "output_type": "display_data"
    }
   ],
   "source": [
    "    from . import readme as ˣ"
   ]
  },
  {
   "cell_type": "code",
   "execution_count": 2,
   "metadata": {},
   "outputs": [
    {
     "data": {
      "text/markdown": [
       "    import pandas; \"Explicit is better than implicit.\";"
      ],
      "text/plain": [
       "<IPython.core.display.Markdown object>"
      ]
     },
     "metadata": {},
     "output_type": "display_data"
    }
   ],
   "source": [
    "    import pandas; \"Explicit is better than implicit.\";"
   ]
  },
  {
   "cell_type": "code",
   "execution_count": 3,
   "metadata": {},
   "outputs": [
    {
     "data": {
      "text/markdown": [
       "    import os; os.environ.get('gh'); params = {'access_token': os.environ.get('gh')}"
      ],
      "text/plain": [
       "<IPython.core.display.Markdown object>"
      ]
     },
     "metadata": {},
     "output_type": "display_data"
    }
   ],
   "source": [
    "    import os; os.environ.get('gh'); params = {'access_token': os.environ.get('gh')}"
   ]
  },
  {
   "cell_type": "code",
   "execution_count": 4,
   "metadata": {},
   "outputs": [
    {
     "data": {
      "text/markdown": [
       "    gh = f\"https://api.github.com/users/%s\""
      ],
      "text/plain": [
       "<IPython.core.display.Markdown object>"
      ]
     },
     "metadata": {},
     "output_type": "display_data"
    }
   ],
   "source": [
    "    gh = f\"https://api.github.com/users/%s\""
   ]
  },
  {
   "cell_type": "code",
   "execution_count": 5,
   "metadata": {},
   "outputs": [
    {
     "data": {
      "text/markdown": [
       "    info = pandas.read_json(gh%'tonyfast', typ=pandas.Series)"
      ],
      "text/plain": [
       "<IPython.core.display.Markdown object>"
      ]
     },
     "metadata": {},
     "output_type": "display_data"
    }
   ],
   "source": [
    "    info = pandas.read_json(gh%'tonyfast', typ=pandas.Series)"
   ]
  },
  {
   "cell_type": "code",
   "execution_count": 6,
   "metadata": {},
   "outputs": [
    {
     "data": {
      "text/markdown": [
       "    f\"![]({info.avatar_url})\""
      ],
      "text/plain": [
       "<IPython.core.display.Markdown object>"
      ]
     },
     "metadata": {},
     "output_type": "display_data"
    },
    {
     "data": {
      "text/markdown": [
       "![](https://avatars3.githubusercontent.com/u/4236275?v=4)"
      ],
      "text/plain": [
       "'![](https://avatars3.githubusercontent.com/u/4236275?v=4)'"
      ]
     },
     "execution_count": 6,
     "metadata": {},
     "output_type": "execute_result"
    }
   ],
   "source": [
    "    f\"![]({info.avatar_url})\""
   ]
  },
  {
   "cell_type": "code",
   "execution_count": 7,
   "metadata": {},
   "outputs": [
    {
     "data": {
      "text/markdown": [
       "    info.gists_url = info.gists_url.format(**{'/gist_id': '?page=%i'})\n",
       "    info.to_frame().T.set_index('login').T"
      ],
      "text/plain": [
       "<IPython.core.display.Markdown object>"
      ]
     },
     "metadata": {},
     "output_type": "display_data"
    },
    {
     "data": {
      "text/html": [
       "<div>\n",
       "<style scoped>\n",
       "    .dataframe tbody tr th:only-of-type {\n",
       "        vertical-align: middle;\n",
       "    }\n",
       "\n",
       "    .dataframe tbody tr th {\n",
       "        vertical-align: top;\n",
       "    }\n",
       "\n",
       "    .dataframe thead th {\n",
       "        text-align: right;\n",
       "    }\n",
       "</style>\n",
       "<table border=\"1\" class=\"dataframe\">\n",
       "  <thead>\n",
       "    <tr style=\"text-align: right;\">\n",
       "      <th>login</th>\n",
       "      <th>tonyfast</th>\n",
       "    </tr>\n",
       "  </thead>\n",
       "  <tbody>\n",
       "    <tr>\n",
       "      <th>id</th>\n",
       "      <td>4236275</td>\n",
       "    </tr>\n",
       "    <tr>\n",
       "      <th>node_id</th>\n",
       "      <td>MDQ6VXNlcjQyMzYyNzU=</td>\n",
       "    </tr>\n",
       "    <tr>\n",
       "      <th>avatar_url</th>\n",
       "      <td>https://avatars3.githubusercontent.com/u/42362...</td>\n",
       "    </tr>\n",
       "    <tr>\n",
       "      <th>gravatar_id</th>\n",
       "      <td></td>\n",
       "    </tr>\n",
       "    <tr>\n",
       "      <th>url</th>\n",
       "      <td>https://api.github.com/users/tonyfast</td>\n",
       "    </tr>\n",
       "    <tr>\n",
       "      <th>html_url</th>\n",
       "      <td>https://github.com/tonyfast</td>\n",
       "    </tr>\n",
       "    <tr>\n",
       "      <th>followers_url</th>\n",
       "      <td>https://api.github.com/users/tonyfast/followers</td>\n",
       "    </tr>\n",
       "    <tr>\n",
       "      <th>following_url</th>\n",
       "      <td>https://api.github.com/users/tonyfast/followin...</td>\n",
       "    </tr>\n",
       "    <tr>\n",
       "      <th>gists_url</th>\n",
       "      <td>https://api.github.com/users/tonyfast/gists?pa...</td>\n",
       "    </tr>\n",
       "    <tr>\n",
       "      <th>starred_url</th>\n",
       "      <td>https://api.github.com/users/tonyfast/starred{...</td>\n",
       "    </tr>\n",
       "    <tr>\n",
       "      <th>subscriptions_url</th>\n",
       "      <td>https://api.github.com/users/tonyfast/subscrip...</td>\n",
       "    </tr>\n",
       "    <tr>\n",
       "      <th>organizations_url</th>\n",
       "      <td>https://api.github.com/users/tonyfast/orgs</td>\n",
       "    </tr>\n",
       "    <tr>\n",
       "      <th>repos_url</th>\n",
       "      <td>https://api.github.com/users/tonyfast/repos</td>\n",
       "    </tr>\n",
       "    <tr>\n",
       "      <th>events_url</th>\n",
       "      <td>https://api.github.com/users/tonyfast/events{/...</td>\n",
       "    </tr>\n",
       "    <tr>\n",
       "      <th>received_events_url</th>\n",
       "      <td>https://api.github.com/users/tonyfast/received...</td>\n",
       "    </tr>\n",
       "    <tr>\n",
       "      <th>type</th>\n",
       "      <td>User</td>\n",
       "    </tr>\n",
       "    <tr>\n",
       "      <th>site_admin</th>\n",
       "      <td>False</td>\n",
       "    </tr>\n",
       "    <tr>\n",
       "      <th>name</th>\n",
       "      <td>Tony Fast</td>\n",
       "    </tr>\n",
       "    <tr>\n",
       "      <th>company</th>\n",
       "      <td>...</td>\n",
       "    </tr>\n",
       "    <tr>\n",
       "      <th>blog</th>\n",
       "      <td>http://anaconda.org/tonyfast</td>\n",
       "    </tr>\n",
       "    <tr>\n",
       "      <th>location</th>\n",
       "      <td>Atlanta</td>\n",
       "    </tr>\n",
       "    <tr>\n",
       "      <th>email</th>\n",
       "      <td>None</td>\n",
       "    </tr>\n",
       "    <tr>\n",
       "      <th>hireable</th>\n",
       "      <td>None</td>\n",
       "    </tr>\n",
       "    <tr>\n",
       "      <th>bio</th>\n",
       "      <td>None</td>\n",
       "    </tr>\n",
       "    <tr>\n",
       "      <th>public_repos</th>\n",
       "      <td>156</td>\n",
       "    </tr>\n",
       "    <tr>\n",
       "      <th>public_gists</th>\n",
       "      <td>513</td>\n",
       "    </tr>\n",
       "    <tr>\n",
       "      <th>followers</th>\n",
       "      <td>78</td>\n",
       "    </tr>\n",
       "    <tr>\n",
       "      <th>following</th>\n",
       "      <td>20</td>\n",
       "    </tr>\n",
       "    <tr>\n",
       "      <th>created_at</th>\n",
       "      <td>2013-04-23T15:17:05Z</td>\n",
       "    </tr>\n",
       "    <tr>\n",
       "      <th>updated_at</th>\n",
       "      <td>2018-08-19T00:02:51Z</td>\n",
       "    </tr>\n",
       "  </tbody>\n",
       "</table>\n",
       "</div>"
      ],
      "text/plain": [
       "login                                                         tonyfast\n",
       "id                                                             4236275\n",
       "node_id                                           MDQ6VXNlcjQyMzYyNzU=\n",
       "avatar_url           https://avatars3.githubusercontent.com/u/42362...\n",
       "gravatar_id                                                           \n",
       "url                              https://api.github.com/users/tonyfast\n",
       "html_url                                   https://github.com/tonyfast\n",
       "followers_url          https://api.github.com/users/tonyfast/followers\n",
       "following_url        https://api.github.com/users/tonyfast/followin...\n",
       "gists_url            https://api.github.com/users/tonyfast/gists?pa...\n",
       "starred_url          https://api.github.com/users/tonyfast/starred{...\n",
       "subscriptions_url    https://api.github.com/users/tonyfast/subscrip...\n",
       "organizations_url           https://api.github.com/users/tonyfast/orgs\n",
       "repos_url                  https://api.github.com/users/tonyfast/repos\n",
       "events_url           https://api.github.com/users/tonyfast/events{/...\n",
       "received_events_url  https://api.github.com/users/tonyfast/received...\n",
       "type                                                              User\n",
       "site_admin                                                       False\n",
       "name                                                         Tony Fast\n",
       "company                                                            ...\n",
       "blog                                      http://anaconda.org/tonyfast\n",
       "location                                                       Atlanta\n",
       "email                                                             None\n",
       "hireable                                                          None\n",
       "bio                                                               None\n",
       "public_repos                                                       156\n",
       "public_gists                                                       513\n",
       "followers                                                           78\n",
       "following                                                           20\n",
       "created_at                                        2013-04-23T15:17:05Z\n",
       "updated_at                                        2018-08-19T00:02:51Z"
      ]
     },
     "execution_count": 7,
     "metadata": {},
     "output_type": "execute_result"
    }
   ],
   "source": [
    "    info.gists_url = info.gists_url.format(**{'/gist_id': '?page=%i'})\n",
    "    info.to_frame().T.set_index('login').T"
   ]
  },
  {
   "cell_type": "code",
   "execution_count": 8,
   "metadata": {},
   "outputs": [
    {
     "data": {
      "text/markdown": [
       "    f\"\"\"There are {info.public_gists} gists.\"\"\""
      ],
      "text/plain": [
       "<IPython.core.display.Markdown object>"
      ]
     },
     "metadata": {},
     "output_type": "display_data"
    },
    {
     "data": {
      "text/markdown": [
       "There are 513 gists."
      ],
      "text/plain": [
       "'There are 513 gists.'"
      ]
     },
     "execution_count": 8,
     "metadata": {},
     "output_type": "execute_result"
    }
   ],
   "source": [
    "    f\"\"\"There are {info.public_gists} gists.\"\"\""
   ]
  },
  {
   "cell_type": "code",
   "execution_count": 10,
   "metadata": {},
   "outputs": [
    {
     "data": {
      "text/markdown": [
       "Let's grab one of them."
      ],
      "text/plain": [
       "\"Let's grab one of them.\""
      ]
     },
     "execution_count": 11,
     "metadata": {},
     "output_type": "execute_result"
    }
   ],
   "source": [
    "Let's grab one of them."
   ]
  },
  {
   "cell_type": "markdown",
   "metadata": {},
   "source": [
    "The gists have datetime values in them.  I prefer the `pandas.to_datetime` function over native datetime objects.  This approach saves effort in importing and using a different api.  "
   ]
  },
  {
   "cell_type": "code",
   "execution_count": 10,
   "metadata": {},
   "outputs": [
    {
     "data": {
      "text/markdown": [
       "    def timify(df):\n",
       "        at = [str for str in df.columns if str.endswith('_at')]\n",
       "        df[at] = df[at].apply(pandas.to_datetime)        \n",
       "        return df"
      ],
      "text/plain": [
       "<IPython.core.display.Markdown object>"
      ]
     },
     "metadata": {},
     "output_type": "display_data"
    }
   ],
   "source": [
    "    def timify(df):\n",
    "        at = [str for str in df.columns if str.endswith('_at')]\n",
    "        df[at] = df[at].apply(pandas.to_datetime)        \n",
    "        return df"
   ]
  },
  {
   "cell_type": "code",
   "execution_count": 12,
   "metadata": {},
   "outputs": [
    {
     "data": {
      "text/markdown": [
       "    %%time\n",
       "    gist = pandas.read_json(info.gists_url%1 + \"?access_token={os.environ['gh']}\").pipe(timify).set_index('id')"
      ],
      "text/plain": [
       "<IPython.core.display.Markdown object>"
      ]
     },
     "metadata": {},
     "output_type": "display_data"
    },
    {
     "name": "stdout",
     "output_type": "stream",
     "text": [
      "Wall time: 523 ms\n"
     ]
    }
   ],
   "source": [
    "    %%time\n",
    "    gist = pandas.read_json(info.gists_url%1 + \"?access_token={os.environ['gh']}\").pipe(timify).set_index('id')"
   ]
  },
  {
   "cell_type": "code",
   "execution_count": 13,
   "metadata": {},
   "outputs": [
    {
     "data": {
      "text/markdown": [
       "    f\"Each request returns {len(gist)} gists, but I have {info.public_gists} gists.\""
      ],
      "text/plain": [
       "<IPython.core.display.Markdown object>"
      ]
     },
     "metadata": {},
     "output_type": "display_data"
    },
    {
     "data": {
      "text/markdown": [
       "Each request returns 30 gists, but I have 513 gists."
      ],
      "text/plain": [
       "'Each request returns 30 gists, but I have 513 gists.'"
      ]
     },
     "execution_count": 13,
     "metadata": {},
     "output_type": "execute_result"
    }
   ],
   "source": [
    "    f\"Each request returns {len(gist)} gists, but I have {info.public_gists} gists.\""
   ]
  },
  {
   "cell_type": "markdown",
   "metadata": {},
   "source": [
    "## Caching\n",
    "\n",
    "Your research data should be local.  You should be able to work without the internet.  Caching decreases lag and entropy while experiencing a dataset."
   ]
  },
  {
   "cell_type": "markdown",
   "metadata": {},
   "source": [
    "[`requests_cache`](https://github.com/reclosedev/requests-cache)"
   ]
  },
  {
   "cell_type": "code",
   "execution_count": 135,
   "metadata": {},
   "outputs": [
    {
     "data": {
      "text/markdown": [
       "    import requests_cache, requests, asyncio; requests_cache.install_cache('idiomatic_pandas')"
      ],
      "text/plain": [
       "<IPython.core.display.Markdown object>"
      ]
     },
     "metadata": {},
     "output_type": "display_data"
    }
   ],
   "source": [
    "    import requests_cache, requests, asyncio; requests_cache.install_cache('idiomatic_pandas')"
   ]
  },
  {
   "cell_type": "code",
   "execution_count": 115,
   "metadata": {},
   "outputs": [
    {
     "data": {
      "text/markdown": [
       "    async def aget(url, **headers): return pandas.DataFrame(requests.get(url, params=params, headers=headers).json())"
      ],
      "text/plain": [
       "<IPython.core.display.Markdown object>"
      ]
     },
     "metadata": {},
     "output_type": "display_data"
    }
   ],
   "source": [
    "    async def aget(url, **headers): return pandas.DataFrame(requests.get(url, params=params, headers=headers).json())"
   ]
  },
  {
   "cell_type": "code",
   "execution_count": null,
   "metadata": {},
   "outputs": [],
   "source": [
    "    "
   ]
  },
  {
   "cell_type": "code",
   "execution_count": 116,
   "metadata": {},
   "outputs": [
    {
     "data": {
      "text/markdown": [
       "    df = pandas.concat(\n",
       "        await asyncio.gather(*(\n",
       "            aget(info.gists_url%int) \n",
       "            for int in range(1, (info.public_gists//30)+2)))).pipe(timify).set_index('id')\n",
       "    df.info()"
      ],
      "text/plain": [
       "<IPython.core.display.Markdown object>"
      ]
     },
     "metadata": {},
     "output_type": "display_data"
    },
    {
     "name": "stdout",
     "output_type": "stream",
     "text": [
      "<class 'pandas.core.frame.DataFrame'>\n",
      "Index: 513 entries, 06a797f15ad4c32ab9627a68af92f7f8 to 10420967\n",
      "Data columns (total 17 columns):\n",
      "comments        513 non-null int64\n",
      "comments_url    513 non-null object\n",
      "commits_url     513 non-null object\n",
      "created_at      513 non-null datetime64[ns]\n",
      "description     503 non-null object\n",
      "files           513 non-null object\n",
      "forks_url       513 non-null object\n",
      "git_pull_url    513 non-null object\n",
      "git_push_url    513 non-null object\n",
      "html_url        513 non-null object\n",
      "node_id         513 non-null object\n",
      "owner           513 non-null object\n",
      "public          513 non-null bool\n",
      "truncated       513 non-null bool\n",
      "updated_at      513 non-null datetime64[ns]\n",
      "url             513 non-null object\n",
      "user            0 non-null object\n",
      "dtypes: bool(2), datetime64[ns](2), int64(1), object(12)\n",
      "memory usage: 65.1+ KB\n"
     ]
    }
   ],
   "source": [
    "    df = pandas.concat(\n",
    "        await asyncio.gather(*(\n",
    "            aget(info.gists_url%int) \n",
    "            for int in range(1, (info.public_gists//30)+2)))).pipe(timify).set_index('id')\n",
    "    df.info()"
   ]
  },
  {
   "cell_type": "code",
   "execution_count": 117,
   "metadata": {},
   "outputs": [
    {
     "data": {
      "text/markdown": [
       "    files = (\n",
       "        df.files\n",
       "        .apply(pandas.Series)\n",
       "        .stack()\n",
       "        .apply(pandas.Series)\n",
       "        .reset_index(1, drop=True)\n",
       "    ).join(df)"
      ],
      "text/plain": [
       "<IPython.core.display.Markdown object>"
      ]
     },
     "metadata": {},
     "output_type": "display_data"
    }
   ],
   "source": [
    "    files = (\n",
    "        df.files\n",
    "        .apply(pandas.Series)\n",
    "        .stack()\n",
    "        .apply(pandas.Series)\n",
    "        .reset_index(1, drop=True)\n",
    "    ).join(df)"
   ]
  },
  {
   "cell_type": "code",
   "execution_count": 118,
   "metadata": {},
   "outputs": [
    {
     "data": {
      "text/markdown": [
       "    files.info()"
      ],
      "text/plain": [
       "<IPython.core.display.Markdown object>"
      ]
     },
     "metadata": {},
     "output_type": "display_data"
    },
    {
     "name": "stdout",
     "output_type": "stream",
     "text": [
      "<class 'pandas.core.frame.DataFrame'>\n",
      "Index: 714 entries, 008034d9bac504e33f7e2fe146de52f5 to ffef6679a86dfd89015f757d8537f7b1\n",
      "Data columns (total 22 columns):\n",
      "filename        714 non-null object\n",
      "type            714 non-null object\n",
      "language        673 non-null object\n",
      "raw_url         714 non-null object\n",
      "size            714 non-null int64\n",
      "comments        714 non-null int64\n",
      "comments_url    714 non-null object\n",
      "commits_url     714 non-null object\n",
      "created_at      714 non-null datetime64[ns]\n",
      "description     695 non-null object\n",
      "files           714 non-null object\n",
      "forks_url       714 non-null object\n",
      "git_pull_url    714 non-null object\n",
      "git_push_url    714 non-null object\n",
      "html_url        714 non-null object\n",
      "node_id         714 non-null object\n",
      "owner           714 non-null object\n",
      "public          714 non-null bool\n",
      "truncated       714 non-null bool\n",
      "updated_at      714 non-null datetime64[ns]\n",
      "url             714 non-null object\n",
      "user            0 non-null object\n",
      "dtypes: bool(2), datetime64[ns](2), int64(2), object(16)\n",
      "memory usage: 118.5+ KB\n"
     ]
    }
   ],
   "source": [
    "    files.info()"
   ]
  },
  {
   "cell_type": "code",
   "execution_count": 119,
   "metadata": {},
   "outputs": [
    {
     "data": {
      "text/markdown": [
       "    files.sample(2)"
      ],
      "text/plain": [
       "<IPython.core.display.Markdown object>"
      ]
     },
     "metadata": {},
     "output_type": "display_data"
    },
    {
     "data": {
      "text/html": [
       "<div>\n",
       "<style scoped>\n",
       "    .dataframe tbody tr th:only-of-type {\n",
       "        vertical-align: middle;\n",
       "    }\n",
       "\n",
       "    .dataframe tbody tr th {\n",
       "        vertical-align: top;\n",
       "    }\n",
       "\n",
       "    .dataframe thead th {\n",
       "        text-align: right;\n",
       "    }\n",
       "</style>\n",
       "<table border=\"1\" class=\"dataframe\">\n",
       "  <thead>\n",
       "    <tr style=\"text-align: right;\">\n",
       "      <th></th>\n",
       "      <th>filename</th>\n",
       "      <th>type</th>\n",
       "      <th>language</th>\n",
       "      <th>raw_url</th>\n",
       "      <th>size</th>\n",
       "      <th>comments</th>\n",
       "      <th>comments_url</th>\n",
       "      <th>commits_url</th>\n",
       "      <th>created_at</th>\n",
       "      <th>description</th>\n",
       "      <th>...</th>\n",
       "      <th>git_pull_url</th>\n",
       "      <th>git_push_url</th>\n",
       "      <th>html_url</th>\n",
       "      <th>node_id</th>\n",
       "      <th>owner</th>\n",
       "      <th>public</th>\n",
       "      <th>truncated</th>\n",
       "      <th>updated_at</th>\n",
       "      <th>url</th>\n",
       "      <th>user</th>\n",
       "    </tr>\n",
       "    <tr>\n",
       "      <th>id</th>\n",
       "      <th></th>\n",
       "      <th></th>\n",
       "      <th></th>\n",
       "      <th></th>\n",
       "      <th></th>\n",
       "      <th></th>\n",
       "      <th></th>\n",
       "      <th></th>\n",
       "      <th></th>\n",
       "      <th></th>\n",
       "      <th></th>\n",
       "      <th></th>\n",
       "      <th></th>\n",
       "      <th></th>\n",
       "      <th></th>\n",
       "      <th></th>\n",
       "      <th></th>\n",
       "      <th></th>\n",
       "      <th></th>\n",
       "      <th></th>\n",
       "      <th></th>\n",
       "    </tr>\n",
       "  </thead>\n",
       "  <tbody>\n",
       "    <tr>\n",
       "      <th>259be104bee24babb84104d0d615f3be</th>\n",
       "      <td>gistfile1.txt</td>\n",
       "      <td>text/plain</td>\n",
       "      <td>Text</td>\n",
       "      <td>https://gist.githubusercontent.com/tonyfast/25...</td>\n",
       "      <td>154</td>\n",
       "      <td>0</td>\n",
       "      <td>https://api.github.com/gists/259be104bee24babb...</td>\n",
       "      <td>https://api.github.com/gists/259be104bee24babb...</td>\n",
       "      <td>2018-04-30 04:16:42</td>\n",
       "      <td></td>\n",
       "      <td>...</td>\n",
       "      <td>https://gist.github.com/259be104bee24babb84104...</td>\n",
       "      <td>https://gist.github.com/259be104bee24babb84104...</td>\n",
       "      <td>https://gist.github.com/259be104bee24babb84104...</td>\n",
       "      <td>MDQ6R2lzdDI1OWJlMTA0YmVlMjRiYWJiODQxMDRkMGQ2MT...</td>\n",
       "      <td>{'login': 'tonyfast', 'id': 4236275, 'node_id'...</td>\n",
       "      <td>True</td>\n",
       "      <td>False</td>\n",
       "      <td>2018-04-30 04:16:42</td>\n",
       "      <td>https://api.github.com/gists/259be104bee24babb...</td>\n",
       "      <td>None</td>\n",
       "    </tr>\n",
       "    <tr>\n",
       "      <th>13c3690eb139b8b08fc8</th>\n",
       "      <td>conways-game-of-life.ipynb</td>\n",
       "      <td>text/plain</td>\n",
       "      <td>Jupyter Notebook</td>\n",
       "      <td>https://gist.githubusercontent.com/tonyfast/13...</td>\n",
       "      <td>21944</td>\n",
       "      <td>0</td>\n",
       "      <td>https://api.github.com/gists/13c3690eb139b8b08...</td>\n",
       "      <td>https://api.github.com/gists/13c3690eb139b8b08...</td>\n",
       "      <td>2015-11-04 02:28:48</td>\n",
       "      <td>Conways game of life code kata for PyAtl</td>\n",
       "      <td>...</td>\n",
       "      <td>https://gist.github.com/13c3690eb139b8b08fc8.git</td>\n",
       "      <td>https://gist.github.com/13c3690eb139b8b08fc8.git</td>\n",
       "      <td>https://gist.github.com/13c3690eb139b8b08fc8</td>\n",
       "      <td>MDQ6R2lzdDEzYzM2OTBlYjEzOWI4YjA4ZmM4</td>\n",
       "      <td>{'login': 'tonyfast', 'id': 4236275, 'node_id'...</td>\n",
       "      <td>True</td>\n",
       "      <td>False</td>\n",
       "      <td>2017-05-18 06:23:59</td>\n",
       "      <td>https://api.github.com/gists/13c3690eb139b8b08fc8</td>\n",
       "      <td>None</td>\n",
       "    </tr>\n",
       "  </tbody>\n",
       "</table>\n",
       "<p>2 rows × 22 columns</p>\n",
       "</div>"
      ],
      "text/plain": [
       "                                                    filename        type  \\\n",
       "id                                                                         \n",
       "259be104bee24babb84104d0d615f3be               gistfile1.txt  text/plain   \n",
       "13c3690eb139b8b08fc8              conways-game-of-life.ipynb  text/plain   \n",
       "\n",
       "                                          language  \\\n",
       "id                                                   \n",
       "259be104bee24babb84104d0d615f3be              Text   \n",
       "13c3690eb139b8b08fc8              Jupyter Notebook   \n",
       "\n",
       "                                                                            raw_url  \\\n",
       "id                                                                                    \n",
       "259be104bee24babb84104d0d615f3be  https://gist.githubusercontent.com/tonyfast/25...   \n",
       "13c3690eb139b8b08fc8              https://gist.githubusercontent.com/tonyfast/13...   \n",
       "\n",
       "                                   size  comments  \\\n",
       "id                                                  \n",
       "259be104bee24babb84104d0d615f3be    154         0   \n",
       "13c3690eb139b8b08fc8              21944         0   \n",
       "\n",
       "                                                                       comments_url  \\\n",
       "id                                                                                    \n",
       "259be104bee24babb84104d0d615f3be  https://api.github.com/gists/259be104bee24babb...   \n",
       "13c3690eb139b8b08fc8              https://api.github.com/gists/13c3690eb139b8b08...   \n",
       "\n",
       "                                                                        commits_url  \\\n",
       "id                                                                                    \n",
       "259be104bee24babb84104d0d615f3be  https://api.github.com/gists/259be104bee24babb...   \n",
       "13c3690eb139b8b08fc8              https://api.github.com/gists/13c3690eb139b8b08...   \n",
       "\n",
       "                                          created_at  \\\n",
       "id                                                     \n",
       "259be104bee24babb84104d0d615f3be 2018-04-30 04:16:42   \n",
       "13c3690eb139b8b08fc8             2015-11-04 02:28:48   \n",
       "\n",
       "                                                               description  \\\n",
       "id                                                                           \n",
       "259be104bee24babb84104d0d615f3be                                             \n",
       "13c3690eb139b8b08fc8              Conways game of life code kata for PyAtl   \n",
       "\n",
       "                                  ...   \\\n",
       "id                                ...    \n",
       "259be104bee24babb84104d0d615f3be  ...    \n",
       "13c3690eb139b8b08fc8              ...    \n",
       "\n",
       "                                                                       git_pull_url  \\\n",
       "id                                                                                    \n",
       "259be104bee24babb84104d0d615f3be  https://gist.github.com/259be104bee24babb84104...   \n",
       "13c3690eb139b8b08fc8               https://gist.github.com/13c3690eb139b8b08fc8.git   \n",
       "\n",
       "                                                                       git_push_url  \\\n",
       "id                                                                                    \n",
       "259be104bee24babb84104d0d615f3be  https://gist.github.com/259be104bee24babb84104...   \n",
       "13c3690eb139b8b08fc8               https://gist.github.com/13c3690eb139b8b08fc8.git   \n",
       "\n",
       "                                                                           html_url  \\\n",
       "id                                                                                    \n",
       "259be104bee24babb84104d0d615f3be  https://gist.github.com/259be104bee24babb84104...   \n",
       "13c3690eb139b8b08fc8                   https://gist.github.com/13c3690eb139b8b08fc8   \n",
       "\n",
       "                                                                            node_id  \\\n",
       "id                                                                                    \n",
       "259be104bee24babb84104d0d615f3be  MDQ6R2lzdDI1OWJlMTA0YmVlMjRiYWJiODQxMDRkMGQ2MT...   \n",
       "13c3690eb139b8b08fc8                           MDQ6R2lzdDEzYzM2OTBlYjEzOWI4YjA4ZmM4   \n",
       "\n",
       "                                                                              owner  \\\n",
       "id                                                                                    \n",
       "259be104bee24babb84104d0d615f3be  {'login': 'tonyfast', 'id': 4236275, 'node_id'...   \n",
       "13c3690eb139b8b08fc8              {'login': 'tonyfast', 'id': 4236275, 'node_id'...   \n",
       "\n",
       "                                 public truncated          updated_at  \\\n",
       "id                                                                      \n",
       "259be104bee24babb84104d0d615f3be   True     False 2018-04-30 04:16:42   \n",
       "13c3690eb139b8b08fc8               True     False 2017-05-18 06:23:59   \n",
       "\n",
       "                                                                                url  \\\n",
       "id                                                                                    \n",
       "259be104bee24babb84104d0d615f3be  https://api.github.com/gists/259be104bee24babb...   \n",
       "13c3690eb139b8b08fc8              https://api.github.com/gists/13c3690eb139b8b08fc8   \n",
       "\n",
       "                                  user  \n",
       "id                                      \n",
       "259be104bee24babb84104d0d615f3be  None  \n",
       "13c3690eb139b8b08fc8              None  \n",
       "\n",
       "[2 rows x 22 columns]"
      ]
     },
     "execution_count": 119,
     "metadata": {},
     "output_type": "execute_result"
    }
   ],
   "source": [
    "    files.sample(2)"
   ]
  },
  {
   "cell_type": "code",
   "execution_count": 120,
   "metadata": {},
   "outputs": [
    {
     "data": {
      "text/markdown": [
       "    languages = files.set_index('created_at').language.groupby(pandas.Grouper(freq='M')).value_counts().unstack().fillna(0)"
      ],
      "text/plain": [
       "<IPython.core.display.Markdown object>"
      ]
     },
     "metadata": {},
     "output_type": "display_data"
    }
   ],
   "source": [
    "    languages = files.set_index('created_at').language.groupby(pandas.Grouper(freq='M')).value_counts().unstack().fillna(0)"
   ]
  },
  {
   "cell_type": "markdown",
   "metadata": {},
   "source": [
    "## Ranking the orders"
   ]
  },
  {
   "cell_type": "code",
   "execution_count": 121,
   "metadata": {},
   "outputs": [
    {
     "data": {
      "text/markdown": [
       "    languages = languages[languages.sum().sort_values(ascending=False).index]"
      ],
      "text/plain": [
       "<IPython.core.display.Markdown object>"
      ]
     },
     "metadata": {},
     "output_type": "display_data"
    }
   ],
   "source": [
    "    languages = languages[languages.sum().sort_values(ascending=False).index]"
   ]
  },
  {
   "cell_type": "code",
   "execution_count": 121,
   "metadata": {},
   "outputs": [
    {
     "data": {
      "text/markdown": [
       "Plotting style is influenced by the structured of the dataframe"
      ],
      "text/plain": [
       "'Plotting style is influenced by the structured of the dataframe'"
      ]
     },
     "execution_count": 122,
     "metadata": {},
     "output_type": "execute_result"
    }
   ],
   "source": [
    "Plotting style is influenced by the structured of the dataframe"
   ]
  },
  {
   "cell_type": "code",
   "execution_count": 122,
   "metadata": {},
   "outputs": [
    {
     "data": {
      "text/markdown": [
       "    %matplotlib inline\n",
       "    montly = languages.iloc[:, :6].join(languages.iloc[:, 6:].sum(axis=1).rename('other'))\n",
       "    ax = montly.plot(figsize=(12,6))\n",
       "    montly.sum(axis=1).rename('total files').to_frame().plot(style='--', ax=ax);"
      ],
      "text/plain": [
       "<IPython.core.display.Markdown object>"
      ]
     },
     "metadata": {},
     "output_type": "display_data"
    },
    {
     "data": {
      "image/png": "[encoded data removed]",
      "text/plain": [
       "<Figure size 864x432 with 1 Axes>"
      ]
     },
     "metadata": {
      "needs_background": "light"
     },
     "output_type": "display_data"
    }
   ],
   "source": [
    "    %matplotlib inline\n",
    "    montly = languages.iloc[:, :6].join(languages.iloc[:, 6:].sum(axis=1).rename('other'))\n",
    "    ax = montly.plot(figsize=(12,6))\n",
    "    montly.sum(axis=1).rename('total files').to_frame().plot(style='--', ax=ax);"
   ]
  },
  {
   "cell_type": "code",
   "execution_count": 123,
   "metadata": {},
   "outputs": [
    {
     "data": {
      "text/markdown": [
       "    montly = languages.iloc[:, :6].join(languages.iloc[:, 6:].sum(axis=1).rename('other')).cumsum().plot(figsize=(12,6))"
      ],
      "text/plain": [
       "<IPython.core.display.Markdown object>"
      ]
     },
     "metadata": {},
     "output_type": "display_data"
    },
    {
     "data": {
      "image/png": "[encoded data removed]",
      "text/plain": [
       "<Figure size 864x432 with 1 Axes>"
      ]
     },
     "metadata": {
      "needs_background": "light"
     },
     "output_type": "display_data"
    }
   ],
   "source": [
    "    montly = languages.iloc[:, :6].join(languages.iloc[:, 6:].sum(axis=1).rename('other')).cumsum().plot(figsize=(12,6))"
   ]
  },
  {
   "cell_type": "code",
   "execution_count": 124,
   "metadata": {},
   "outputs": [
    {
     "data": {
      "text/markdown": [
       "    info.events_url = info.events_url.format(**{'/privacy': '?page=%i'})"
      ],
      "text/plain": [
       "<IPython.core.display.Markdown object>"
      ]
     },
     "metadata": {},
     "output_type": "display_data"
    }
   ],
   "source": [
    "    info.events_url = info.events_url.format(**{'/privacy': '?page=%i'})"
   ]
  },
  {
   "cell_type": "markdown",
   "metadata": {},
   "source": [
    "https://developer.github.com/v3/activity/events/"
   ]
  },
  {
   "cell_type": "markdown",
   "metadata": {},
   "source": [
    "https://developer.github.com/v3/activity/events/"
   ]
  },
  {
   "cell_type": "code",
   "execution_count": 127,
   "metadata": {},
   "outputs": [
    {
     "data": {
      "text/markdown": [
       "    events = pandas.concat(\n",
       "        await asyncio.gather(*(\n",
       "            aget(info.events_url%int) \n",
       "            for int in range(1, 11)))).pipe(timify).set_index('id')\n",
       "    events.info()"
      ],
      "text/plain": [
       "<IPython.core.display.Markdown object>"
      ]
     },
     "metadata": {},
     "output_type": "display_data"
    },
    {
     "name": "stdout",
     "output_type": "stream",
     "text": [
      "<class 'pandas.core.frame.DataFrame'>\n",
      "Index: 300 entries, 8344351425 to 8073658386\n",
      "Data columns (total 7 columns):\n",
      "actor         300 non-null object\n",
      "created_at    300 non-null datetime64[ns]\n",
      "org           275 non-null object\n",
      "payload       300 non-null object\n",
      "public        300 non-null bool\n",
      "repo          300 non-null object\n",
      "type          300 non-null object\n",
      "dtypes: bool(1), datetime64[ns](1), object(5)\n",
      "memory usage: 16.7+ KB\n"
     ]
    }
   ],
   "source": [
    "    events = pandas.concat(\n",
    "        await asyncio.gather(*(\n",
    "            aget(info.events_url%int) \n",
    "            for int in range(1, 11)))).pipe(timify).set_index('id')\n",
    "    events.info()"
   ]
  },
  {
   "cell_type": "code",
   "execution_count": 128,
   "metadata": {},
   "outputs": [
    {
     "data": {
      "text/markdown": [
       "    events.join(events.repo.apply(lambda x: x['name']).rename('target'));"
      ],
      "text/plain": [
       "<IPython.core.display.Markdown object>"
      ]
     },
     "metadata": {},
     "output_type": "display_data"
    }
   ],
   "source": [
    "    events.join(events.repo.apply(lambda x: x['name']).rename('target'));"
   ]
  },
  {
   "cell_type": "code",
   "execution_count": 129,
   "metadata": {},
   "outputs": [],
   "source": [
    "\n",
    "    info.starred_url = info.starred_url.format(**{'/owner': '?page=%i', '/repo': ''})"
   ]
  },
  {
   "cell_type": "code",
   "execution_count": 131,
   "metadata": {},
   "outputs": [
    {
     "data": {
      "text/markdown": [
       "    ls *.sqlite"
      ],
      "text/plain": [
       "<IPython.core.display.Markdown object>"
      ]
     },
     "metadata": {},
     "output_type": "display_data"
    },
    {
     "name": "stdout",
     "output_type": "stream",
     "text": [
      " Volume in drive C is Local Disk\n",
      " Volume Serial Number is B0F0-33DE\n",
      "\n",
      " Directory of C:\\Users\\deathbeds\\idiomatic_pandas\\idiomatic_pandas\n",
      "\n",
      "10/01/2018  01:02 PM         5,816,320 idiomatic_pandas.sqlite\n",
      "               1 File(s)      5,816,320 bytes\n",
      "               0 Dir(s)  175,370,022,912 bytes free\n"
     ]
    }
   ],
   "source": [
    "    ls *.sqlite"
   ]
  },
  {
   "cell_type": "code",
   "execution_count": 144,
   "metadata": {},
   "outputs": [
    {
     "data": {
      "text/markdown": [
       "    stars = pandas.concat(\n",
       "        await asyncio.gather(*(\n",
       "            aget(info.starred_url%int, Accept=\"application/vnd.github.v3.star+json\") \n",
       "            for int in range(1, (700//30)+2)))\n",
       "    ).pipe(timify).pipe(\n",
       "        lambda df: df.repo.apply(pandas.Series).join(df.starred_at)\n",
       "    )\n",
       "    stars.info()"
      ],
      "text/plain": [
       "<IPython.core.display.Markdown object>"
      ]
     },
     "metadata": {},
     "output_type": "display_data"
    },
    {
     "name": "stdout",
     "output_type": "stream",
     "text": [
      "<class 'pandas.core.frame.DataFrame'>\n",
      "Int64Index: 16340 entries, 0 to 29\n",
      "Data columns (total 74 columns):\n",
      "id                   16340 non-null int64\n",
      "node_id              16340 non-null object\n",
      "name                 16340 non-null object\n",
      "full_name            16340 non-null object\n",
      "private              16340 non-null bool\n",
      "owner                16340 non-null object\n",
      "html_url             16340 non-null object\n",
      "description          15869 non-null object\n",
      "fork                 16340 non-null bool\n",
      "url                  16340 non-null object\n",
      "forks_url            16340 non-null object\n",
      "keys_url             16340 non-null object\n",
      "collaborators_url    16340 non-null object\n",
      "teams_url            16340 non-null object\n",
      "hooks_url            16340 non-null object\n",
      "issue_events_url     16340 non-null object\n",
      "events_url           16340 non-null object\n",
      "assignees_url        16340 non-null object\n",
      "branches_url         16340 non-null object\n",
      "tags_url             16340 non-null object\n",
      "blobs_url            16340 non-null object\n",
      "git_tags_url         16340 non-null object\n",
      "git_refs_url         16340 non-null object\n",
      "trees_url            16340 non-null object\n",
      "statuses_url         16340 non-null object\n",
      "languages_url        16340 non-null object\n",
      "stargazers_url       16340 non-null object\n",
      "contributors_url     16340 non-null object\n",
      "subscribers_url      16340 non-null object\n",
      "subscription_url     16340 non-null object\n",
      "commits_url          16340 non-null object\n",
      "git_commits_url      16340 non-null object\n",
      "comments_url         16340 non-null object\n",
      "issue_comment_url    16340 non-null object\n",
      "contents_url         16340 non-null object\n",
      "compare_url          16340 non-null object\n",
      "merges_url           16340 non-null object\n",
      "archive_url          16340 non-null object\n",
      "downloads_url        16340 non-null object\n",
      "issues_url           16340 non-null object\n",
      "pulls_url            16340 non-null object\n",
      "milestones_url       16340 non-null object\n",
      "notifications_url    16340 non-null object\n",
      "labels_url           16340 non-null object\n",
      "releases_url         16340 non-null object\n",
      "deployments_url      16340 non-null object\n",
      "created_at           16340 non-null object\n",
      "updated_at           16340 non-null object\n",
      "pushed_at            16340 non-null object\n",
      "git_url              16340 non-null object\n",
      "ssh_url              16340 non-null object\n",
      "clone_url            16340 non-null object\n",
      "svn_url              16340 non-null object\n",
      "homepage             12152 non-null object\n",
      "size                 16340 non-null int64\n",
      "stargazers_count     16340 non-null int64\n",
      "watchers_count       16340 non-null int64\n",
      "language             15007 non-null object\n",
      "has_issues           16340 non-null bool\n",
      "has_projects         16340 non-null bool\n",
      "has_downloads        16340 non-null bool\n",
      "has_wiki             16340 non-null bool\n",
      "has_pages            16340 non-null bool\n",
      "forks_count          16340 non-null int64\n",
      "mirror_url           0 non-null object\n",
      "archived             16340 non-null bool\n",
      "open_issues_count    16340 non-null int64\n",
      "license              13087 non-null object\n",
      "forks                16340 non-null int64\n",
      "open_issues          16340 non-null int64\n",
      "watchers             16340 non-null int64\n",
      "default_branch       16340 non-null object\n",
      "permissions          16340 non-null object\n",
      "starred_at           16340 non-null datetime64[ns]\n",
      "dtypes: bool(8), datetime64[ns](1), int64(9), object(56)\n",
      "memory usage: 8.5+ MB\n"
     ]
    }
   ],
   "source": [
    "    stars = pandas.concat(\n",
    "        await asyncio.gather(*(\n",
    "            aget(info.starred_url%int, Accept=\"application/vnd.github.v3.star+json\") \n",
    "            for int in range(1, (700//30)+2)))\n",
    "    ).pipe(timify).pipe(\n",
    "        lambda df: df.repo.apply(pandas.Series).join(df.starred_at)\n",
    "    )\n",
    "    stars.info()"
   ]
  },
  {
   "cell_type": "code",
   "execution_count": 179,
   "metadata": {},
   "outputs": [
    {
     "data": {
      "text/markdown": [
       "    stars.set_index('starred_at')['language'].groupby(\n",
       "        pandas.Grouper(freq='3M')\n",
       "    ).value_counts().unstack().fillna(0).pipe(\n",
       "        lambda df: df[df.sum().sort_values(ascending=False).index]\n",
       "    ).pipe(\n",
       "        lambda df: pandas.concat([df.iloc[:, :10], df.iloc[:, 10:].sum(axis=1).rename('other')], axis=1)\n",
       "    ).plot()"
      ],
      "text/plain": [
       "<IPython.core.display.Markdown object>"
      ]
     },
     "metadata": {},
     "output_type": "display_data"
    },
    {
     "data": {
      "text/plain": [
       "<matplotlib.axes._subplots.AxesSubplot at 0x252b17f2898>"
      ]
     },
     "execution_count": 179,
     "metadata": {},
     "output_type": "execute_result"
    },
    {
     "data": {
      "image/png": "[encoded data removed]",
      "text/plain": [
       "<Figure size 432x288 with 1 Axes>"
      ]
     },
     "metadata": {
      "needs_background": "light"
     },
     "output_type": "display_data"
    }
   ],
   "source": [
    "    stars.set_index('starred_at')['language'].groupby(\n",
    "        pandas.Grouper(freq='3M')\n",
    "    ).value_counts().unstack().fillna(0).pipe(\n",
    "        lambda df: df[df.sum().sort_values(ascending=False).index]\n",
    "    ).pipe(\n",
    "        lambda df: pandas.concat([df.iloc[:, :10], df.iloc[:, 10:].sum(axis=1).rename('other')], axis=1)\n",
    "    ).plot()"
   ]
  },
  {
   "cell_type": "code",
   "execution_count": 183,
   "metadata": {},
   "outputs": [
    {
     "data": {
      "text/markdown": [
       "    stars.set_index('starred_at')['language'].groupby(\n",
       "        pandas.Grouper(freq='3M')\n",
       "    ).value_counts().unstack().fillna(0).pipe(\n",
       "        lambda df: df[df.sum().sort_values(ascending=False).index]\n",
       "    ).pipe(\n",
       "        lambda df: pandas.concat([df.iloc[:, :10], df.iloc[:, 10:].sum(axis=1).rename('other')], axis=1)\n",
       "    ).plot()"
      ],
      "text/plain": [
       "<IPython.core.display.Markdown object>"
      ]
     },
     "metadata": {},
     "output_type": "display_data"
    },
    {
     "data": {
      "text/plain": [
       "<matplotlib.axes._subplots.AxesSubplot at 0x252b06b0208>"
      ]
     },
     "execution_count": 183,
     "metadata": {},
     "output_type": "execute_result"
    },
    {
     "data": {
      "image/png": "[encoded data removed]",
      "text/plain": [
       "<Figure size 432x288 with 1 Axes>"
      ]
     },
     "metadata": {
      "needs_background": "light"
     },
     "output_type": "display_data"
    }
   ],
   "source": [
    "    stars.set_index('starred_at')['language'].groupby(\n",
    "        pandas.Grouper(freq='3M')\n",
    "    ).value_counts().unstack().fillna(0).pipe(\n",
    "        lambda df: df[df.sum().sort_values(ascending=False).index]\n",
    "    ).pipe(\n",
    "        lambda df: pandas.concat([df.iloc[:, :10], df.iloc[:, 10:].sum(axis=1).rename('other')], axis=1)\n",
    "    ).plot()"
   ]
  },
  {
   "cell_type": "code",
   "execution_count": null,
   "metadata": {},
   "outputs": [],
   "source": []
  }
 ],
 "metadata": {
  "kernelspec": {
   "display_name": "pidgin",
   "language": "",
   "name": "pidgin"
  },
  "language_info": {
   "argv": [
    "python",
    "-m",
    "pidgin.kernel",
    "-f",
    "{connection_file}"
   ],
   "codemirror_mode": {
    "name": "ipython",
    "version": 3
   },
   "display_name": "pidgin",
   "file_extension": ".md.ipynb",
   "mimetype": "text/x-python",
   "name": "pidgin",
   "nbconvert_exporter": "python",
   "pygments_lexer": "ipython3",
   "version": "3.6.6"
  }
 },
 "nbformat": 4,
 "nbformat_minor": 2
}
