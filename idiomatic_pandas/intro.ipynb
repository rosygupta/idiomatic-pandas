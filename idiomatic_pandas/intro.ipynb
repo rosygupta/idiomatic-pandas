{
 "cells": [
  {
   "cell_type": "markdown",
   "metadata": {},
   "source": [
    "Take away.  A lot can be done with just pandas."
   ]
  },
  {
   "cell_type": "markdown",
   "metadata": {},
   "source": [
    "The ubiquity of data means that combining datasets must scale better."
   ]
  },
  {
   "cell_type": "markdown",
   "metadata": {},
   "source": [
    "# ✋✋✋✋✋✋✋✋\n",
    "\n",
    "I'm [Tony Fast]().ipynb_checkpoints/  I organize [PyData Atlanta]() and the [Jupyter User Group]().  I am currently interested in composing human readable programs\n",
    "using notebooks.\n",
    "\n",
    "I'm going to tell you a little bit about myself in data.  Then we will dissect my approach."
   ]
  },
  {
   "cell_type": "code",
   "execution_count": 250,
   "metadata": {},
   "outputs": [
    {
     "data": {
      "text/markdown": [
       "    from .statements import get as request\n",
       "    import typing as t\n",
       "    import pandas, asyncio, ibis.sql.sqlite\n",
       "    from toolz.curried import *\n",
       "    %matplotlib inline\n",
       "    import datetime"
      ],
      "text/plain": [
       "<IPython.core.display.Markdown object>"
      ]
     },
     "metadata": {},
     "output_type": "display_data"
    }
   ],
   "source": [
    "    from .statements import get as request\n",
    "    import typing as t\n",
    "    import pandas, asyncio, ibis.sql.sqlite\n",
    "    from toolz.curried import *\n",
    "    %matplotlib inline\n",
    "    import datetime"
   ]
  },
  {
   "cell_type": "markdown",
   "metadata": {},
   "source": [
    "# Accessing data.\n",
    "\n",
    "Pandas has a bunch of read methods that you should fully take advantage of."
   ]
  },
  {
   "cell_type": "code",
   "execution_count": 13,
   "metadata": {},
   "outputs": [
    {
     "data": {
      "text/markdown": [
       "    pipe(pandas, dir, filter(flip(str.startswith)('read_')), list, pandas.DataFrame).T"
      ],
      "text/plain": [
       "<IPython.core.display.Markdown object>"
      ]
     },
     "metadata": {},
     "output_type": "display_data"
    },
    {
     "data": {
      "text/html": [
       "<div>\n",
       "<style scoped>\n",
       "    .dataframe tbody tr th:only-of-type {\n",
       "        vertical-align: middle;\n",
       "    }\n",
       "\n",
       "    .dataframe tbody tr th {\n",
       "        vertical-align: top;\n",
       "    }\n",
       "\n",
       "    .dataframe thead th {\n",
       "        text-align: right;\n",
       "    }\n",
       "</style>\n",
       "<table border=\"1\" class=\"dataframe\">\n",
       "  <thead>\n",
       "    <tr style=\"text-align: right;\">\n",
       "      <th></th>\n",
       "      <th>0</th>\n",
       "      <th>1</th>\n",
       "      <th>2</th>\n",
       "      <th>3</th>\n",
       "      <th>4</th>\n",
       "      <th>5</th>\n",
       "      <th>6</th>\n",
       "      <th>7</th>\n",
       "      <th>8</th>\n",
       "      <th>9</th>\n",
       "      <th>10</th>\n",
       "      <th>11</th>\n",
       "      <th>12</th>\n",
       "      <th>13</th>\n",
       "      <th>14</th>\n",
       "      <th>15</th>\n",
       "      <th>16</th>\n",
       "      <th>17</th>\n",
       "    </tr>\n",
       "  </thead>\n",
       "  <tbody>\n",
       "    <tr>\n",
       "      <th>0</th>\n",
       "      <td>read_clipboard</td>\n",
       "      <td>read_csv</td>\n",
       "      <td>read_excel</td>\n",
       "      <td>read_feather</td>\n",
       "      <td>read_fwf</td>\n",
       "      <td>read_gbq</td>\n",
       "      <td>read_hdf</td>\n",
       "      <td>read_html</td>\n",
       "      <td>read_json</td>\n",
       "      <td>read_msgpack</td>\n",
       "      <td>read_parquet</td>\n",
       "      <td>read_pickle</td>\n",
       "      <td>read_sas</td>\n",
       "      <td>read_sql</td>\n",
       "      <td>read_sql_query</td>\n",
       "      <td>read_sql_table</td>\n",
       "      <td>read_stata</td>\n",
       "      <td>read_table</td>\n",
       "    </tr>\n",
       "  </tbody>\n",
       "</table>\n",
       "</div>"
      ],
      "text/plain": [
       "               0         1           2             3         4         5   \\\n",
       "0  read_clipboard  read_csv  read_excel  read_feather  read_fwf  read_gbq   \n",
       "\n",
       "         6          7          8             9             10           11  \\\n",
       "0  read_hdf  read_html  read_json  read_msgpack  read_parquet  read_pickle   \n",
       "\n",
       "         12        13              14              15          16          17  \n",
       "0  read_sas  read_sql  read_sql_query  read_sql_table  read_stata  read_table  "
      ]
     },
     "execution_count": 13,
     "metadata": {},
     "output_type": "execute_result"
    }
   ],
   "source": [
    "    pipe(pandas, dir, filter(flip(str.startswith)('read_')), list, pandas.DataFrame).T"
   ]
  },
  {
   "cell_type": "code",
   "execution_count": 14,
   "metadata": {},
   "outputs": [
    {
     "data": {
      "text/markdown": [
       "    frames = pandas.read_html(\"https://en.wikipedia.org/wiki/List_of_physical_quantities\")\n",
       "    f\"There are __{len(frames)}__ tables in this webpage.\""
      ],
      "text/plain": [
       "<IPython.core.display.Markdown object>"
      ]
     },
     "metadata": {},
     "output_type": "display_data"
    },
    {
     "data": {
      "text/markdown": [
       "There are __2__ tables in this webpage."
      ],
      "text/plain": [
       "'There are __2__ tables in this webpage.'"
      ]
     },
     "execution_count": 14,
     "metadata": {},
     "output_type": "execute_result"
    }
   ],
   "source": [
    "    frames = pandas.read_html(\"https://en.wikipedia.org/wiki/List_of_physical_quantities\")\n",
    "    f\"There are __{len(frames)}__ tables in this webpage.\""
   ]
  },
  {
   "cell_type": "markdown",
   "metadata": {},
   "source": [
    "## Caching requests\n",
    "\n",
    "Caching our requests assures that our data remains local and we can work with out the internet."
   ]
  },
  {
   "cell_type": "code",
   "execution_count": 15,
   "metadata": {},
   "outputs": [
    {
     "data": {
      "text/markdown": [
       "    import requests_cache; requests_cache.install_cache('idiomatic_pandas')"
      ],
      "text/plain": [
       "<IPython.core.display.Markdown object>"
      ]
     },
     "metadata": {},
     "output_type": "display_data"
    }
   ],
   "source": [
    "    import requests_cache; requests_cache.install_cache('idiomatic_pandas')"
   ]
  },
  {
   "cell_type": "code",
   "execution_count": 16,
   "metadata": {},
   "outputs": [
    {
     "data": {
      "text/markdown": [
       "    request??"
      ],
      "text/plain": [
       "<IPython.core.display.Markdown object>"
      ]
     },
     "metadata": {},
     "output_type": "display_data"
    },
    {
     "data": {
      "text/plain": [
       "\u001b[1;31mSignature:\u001b[0m \u001b[0mrequest\u001b[0m\u001b[1;33m(\u001b[0m\u001b[0murl\u001b[0m\u001b[1;33m,\u001b[0m \u001b[0mparams\u001b[0m\u001b[1;33m=\u001b[0m\u001b[1;33m{\u001b[0m\u001b[1;33m}\u001b[0m\u001b[1;33m,\u001b[0m \u001b[0mheaders\u001b[0m\u001b[1;33m=\u001b[0m\u001b[1;33m{\u001b[0m\u001b[1;33m}\u001b[0m\u001b[1;33m)\u001b[0m \u001b[1;33m->\u001b[0m \u001b[0mUnion\u001b[0m\u001b[1;33m[\u001b[0m\u001b[0mpandas\u001b[0m\u001b[1;33m.\u001b[0m\u001b[0mcore\u001b[0m\u001b[1;33m.\u001b[0m\u001b[0mseries\u001b[0m\u001b[1;33m.\u001b[0m\u001b[0mSeries\u001b[0m\u001b[1;33m,\u001b[0m \u001b[0mpandas\u001b[0m\u001b[1;33m.\u001b[0m\u001b[0mcore\u001b[0m\u001b[1;33m.\u001b[0m\u001b[0mframe\u001b[0m\u001b[1;33m.\u001b[0m\u001b[0mDataFrame\u001b[0m\u001b[1;33m]\u001b[0m\u001b[1;33m\u001b[0m\u001b[0m\n",
       "\u001b[1;31mDocstring:\u001b[0m `get` is asynchronous allowing data to be downloaded concurrently.\n",
       "\u001b[1;31mSource:\u001b[0m   \n",
       "\u001b[1;33masync\u001b[0m \u001b[1;32mdef\u001b[0m \u001b[0mget\u001b[0m\u001b[1;33m(\u001b[0m\u001b[0murl\u001b[0m\u001b[1;33m,\u001b[0m \u001b[0mparams\u001b[0m\u001b[1;33m=\u001b[0m\u001b[1;33m{\u001b[0m\u001b[1;33m}\u001b[0m\u001b[1;33m,\u001b[0m \u001b[0mheaders\u001b[0m\u001b[1;33m=\u001b[0m\u001b[1;33m{\u001b[0m\u001b[1;33m}\u001b[0m\u001b[1;33m)\u001b[0m \u001b[1;33m->\u001b[0m \u001b[0mUnion\u001b[0m\u001b[1;33m[\u001b[0m\u001b[0mpandas\u001b[0m\u001b[1;33m.\u001b[0m\u001b[0mSeries\u001b[0m\u001b[1;33m,\u001b[0m \u001b[0mpandas\u001b[0m\u001b[1;33m.\u001b[0m\u001b[0mDataFrame\u001b[0m\u001b[1;33m]\u001b[0m\u001b[1;33m:\u001b[0m \u001b[1;33m\n",
       "\u001b[0m    \u001b[0mresult\u001b[0m \u001b[1;33m=\u001b[0m \u001b[0mrequests\u001b[0m\u001b[1;33m.\u001b[0m\u001b[0mget\u001b[0m\u001b[1;33m(\u001b[0m\u001b[0murl\u001b[0m\u001b[1;33m,\u001b[0m \u001b[0mparams\u001b[0m\u001b[1;33m=\u001b[0m\u001b[1;33m{\u001b[0m\u001b[1;33m\n",
       "\u001b[0m        \u001b[1;33m**\u001b[0m\u001b[0mparams\u001b[0m\u001b[1;33m,\u001b[0m \u001b[1;34m'access_token'\u001b[0m\u001b[1;33m:\u001b[0m \u001b[0mos\u001b[0m\u001b[1;33m.\u001b[0m\u001b[0menviron\u001b[0m\u001b[1;33m.\u001b[0m\u001b[0mget\u001b[0m\u001b[1;33m(\u001b[0m\u001b[1;34m'gh'\u001b[0m\u001b[1;33m)\u001b[0m\u001b[1;33m\n",
       "\u001b[0m    \u001b[1;33m}\u001b[0m\u001b[1;33m,\u001b[0m \u001b[0mheaders\u001b[0m\u001b[1;33m=\u001b[0m\u001b[0mheaders\u001b[0m\u001b[1;33m)\u001b[0m\u001b[1;33m.\u001b[0m\u001b[0mcontent\u001b[0m\u001b[1;33m\n",
       "\u001b[0m    \u001b[1;32mtry\u001b[0m\u001b[1;33m:\u001b[0m\u001b[1;33m\n",
       "\u001b[0m        \u001b[1;32mreturn\u001b[0m \u001b[0mpandas\u001b[0m\u001b[1;33m.\u001b[0m\u001b[0mread_json\u001b[0m\u001b[1;33m(\u001b[0m\u001b[0mresult\u001b[0m\u001b[1;33m)\u001b[0m\u001b[1;33m\n",
       "\u001b[0m    \u001b[1;32mexcept\u001b[0m \u001b[0mValueError\u001b[0m\u001b[1;33m:\u001b[0m \u001b[1;33m\n",
       "\u001b[0m        \u001b[1;32mreturn\u001b[0m \u001b[0mpandas\u001b[0m\u001b[1;33m.\u001b[0m\u001b[0mread_json\u001b[0m\u001b[1;33m(\u001b[0m\u001b[0mresult\u001b[0m\u001b[1;33m,\u001b[0m \u001b[0mtyp\u001b[0m\u001b[1;33m=\u001b[0m\u001b[0mpandas\u001b[0m\u001b[1;33m.\u001b[0m\u001b[0mSeries\u001b[0m\u001b[1;33m)\u001b[0m\u001b[1;33m\u001b[0m\u001b[0m\n",
       "\u001b[1;31mFile:\u001b[0m      c:\\users\\deathbeds\\idiomatic_pandas\\idiomatic_pandas\\statements.ipynb\n",
       "\u001b[1;31mType:\u001b[0m      function\n"
      ]
     },
     "metadata": {},
     "output_type": "display_data"
    }
   ],
   "source": [
    "    request??"
   ]
  },
  {
   "cell_type": "markdown",
   "metadata": {},
   "source": [
    "> Sometimes I use Python type annotations to indicate the input and output values of the functions."
   ]
  },
  {
   "cell_type": "code",
   "execution_count": 17,
   "metadata": {},
   "outputs": [
    {
     "data": {
      "text/markdown": [
       "    username = 'tonyfast'"
      ],
      "text/plain": [
       "<IPython.core.display.Markdown object>"
      ]
     },
     "metadata": {},
     "output_type": "display_data"
    }
   ],
   "source": [
    "    username = 'tonyfast'"
   ]
  },
  {
   "cell_type": "code",
   "execution_count": 18,
   "metadata": {},
   "outputs": [
    {
     "data": {
      "text/markdown": [
       "    info = await request(f\"https://api.github.com/users/%s\"%username); info.to_frame()"
      ],
      "text/plain": [
       "<IPython.core.display.Markdown object>"
      ]
     },
     "metadata": {},
     "output_type": "display_data"
    },
    {
     "data": {
      "text/html": [
       "<div>\n",
       "<style scoped>\n",
       "    .dataframe tbody tr th:only-of-type {\n",
       "        vertical-align: middle;\n",
       "    }\n",
       "\n",
       "    .dataframe tbody tr th {\n",
       "        vertical-align: top;\n",
       "    }\n",
       "\n",
       "    .dataframe thead th {\n",
       "        text-align: right;\n",
       "    }\n",
       "</style>\n",
       "<table border=\"1\" class=\"dataframe\">\n",
       "  <thead>\n",
       "    <tr style=\"text-align: right;\">\n",
       "      <th></th>\n",
       "      <th>0</th>\n",
       "    </tr>\n",
       "  </thead>\n",
       "  <tbody>\n",
       "    <tr>\n",
       "      <th>login</th>\n",
       "      <td>tonyfast</td>\n",
       "    </tr>\n",
       "    <tr>\n",
       "      <th>id</th>\n",
       "      <td>4236275</td>\n",
       "    </tr>\n",
       "    <tr>\n",
       "      <th>node_id</th>\n",
       "      <td>MDQ6VXNlcjQyMzYyNzU=</td>\n",
       "    </tr>\n",
       "    <tr>\n",
       "      <th>avatar_url</th>\n",
       "      <td>https://avatars3.githubusercontent.com/u/42362...</td>\n",
       "    </tr>\n",
       "    <tr>\n",
       "      <th>gravatar_id</th>\n",
       "      <td></td>\n",
       "    </tr>\n",
       "    <tr>\n",
       "      <th>url</th>\n",
       "      <td>https://api.github.com/users/tonyfast</td>\n",
       "    </tr>\n",
       "    <tr>\n",
       "      <th>html_url</th>\n",
       "      <td>https://github.com/tonyfast</td>\n",
       "    </tr>\n",
       "    <tr>\n",
       "      <th>followers_url</th>\n",
       "      <td>https://api.github.com/users/tonyfast/followers</td>\n",
       "    </tr>\n",
       "    <tr>\n",
       "      <th>following_url</th>\n",
       "      <td>https://api.github.com/users/tonyfast/followin...</td>\n",
       "    </tr>\n",
       "    <tr>\n",
       "      <th>gists_url</th>\n",
       "      <td>https://api.github.com/users/tonyfast/gists{/g...</td>\n",
       "    </tr>\n",
       "    <tr>\n",
       "      <th>starred_url</th>\n",
       "      <td>https://api.github.com/users/tonyfast/starred{...</td>\n",
       "    </tr>\n",
       "    <tr>\n",
       "      <th>subscriptions_url</th>\n",
       "      <td>https://api.github.com/users/tonyfast/subscrip...</td>\n",
       "    </tr>\n",
       "    <tr>\n",
       "      <th>organizations_url</th>\n",
       "      <td>https://api.github.com/users/tonyfast/orgs</td>\n",
       "    </tr>\n",
       "    <tr>\n",
       "      <th>repos_url</th>\n",
       "      <td>https://api.github.com/users/tonyfast/repos</td>\n",
       "    </tr>\n",
       "    <tr>\n",
       "      <th>events_url</th>\n",
       "      <td>https://api.github.com/users/tonyfast/events{/...</td>\n",
       "    </tr>\n",
       "    <tr>\n",
       "      <th>received_events_url</th>\n",
       "      <td>https://api.github.com/users/tonyfast/received...</td>\n",
       "    </tr>\n",
       "    <tr>\n",
       "      <th>type</th>\n",
       "      <td>User</td>\n",
       "    </tr>\n",
       "    <tr>\n",
       "      <th>site_admin</th>\n",
       "      <td>False</td>\n",
       "    </tr>\n",
       "    <tr>\n",
       "      <th>name</th>\n",
       "      <td>Tony Fast</td>\n",
       "    </tr>\n",
       "    <tr>\n",
       "      <th>company</th>\n",
       "      <td>...</td>\n",
       "    </tr>\n",
       "    <tr>\n",
       "      <th>blog</th>\n",
       "      <td>http://deathbeds.github.io</td>\n",
       "    </tr>\n",
       "    <tr>\n",
       "      <th>location</th>\n",
       "      <td>Atlanta</td>\n",
       "    </tr>\n",
       "    <tr>\n",
       "      <th>email</th>\n",
       "      <td>tony.fast@gmail.com</td>\n",
       "    </tr>\n",
       "    <tr>\n",
       "      <th>hireable</th>\n",
       "      <td>True</td>\n",
       "    </tr>\n",
       "    <tr>\n",
       "      <th>bio</th>\n",
       "      <td>None</td>\n",
       "    </tr>\n",
       "    <tr>\n",
       "      <th>public_repos</th>\n",
       "      <td>156</td>\n",
       "    </tr>\n",
       "    <tr>\n",
       "      <th>public_gists</th>\n",
       "      <td>513</td>\n",
       "    </tr>\n",
       "    <tr>\n",
       "      <th>followers</th>\n",
       "      <td>78</td>\n",
       "    </tr>\n",
       "    <tr>\n",
       "      <th>following</th>\n",
       "      <td>20</td>\n",
       "    </tr>\n",
       "    <tr>\n",
       "      <th>created_at</th>\n",
       "      <td>2013-04-23T15:17:05Z</td>\n",
       "    </tr>\n",
       "    <tr>\n",
       "      <th>updated_at</th>\n",
       "      <td>2018-10-01T17:36:42Z</td>\n",
       "    </tr>\n",
       "  </tbody>\n",
       "</table>\n",
       "</div>"
      ],
      "text/plain": [
       "                                                                     0\n",
       "login                                                         tonyfast\n",
       "id                                                             4236275\n",
       "node_id                                           MDQ6VXNlcjQyMzYyNzU=\n",
       "avatar_url           https://avatars3.githubusercontent.com/u/42362...\n",
       "gravatar_id                                                           \n",
       "url                              https://api.github.com/users/tonyfast\n",
       "html_url                                   https://github.com/tonyfast\n",
       "followers_url          https://api.github.com/users/tonyfast/followers\n",
       "following_url        https://api.github.com/users/tonyfast/followin...\n",
       "gists_url            https://api.github.com/users/tonyfast/gists{/g...\n",
       "starred_url          https://api.github.com/users/tonyfast/starred{...\n",
       "subscriptions_url    https://api.github.com/users/tonyfast/subscrip...\n",
       "organizations_url           https://api.github.com/users/tonyfast/orgs\n",
       "repos_url                  https://api.github.com/users/tonyfast/repos\n",
       "events_url           https://api.github.com/users/tonyfast/events{/...\n",
       "received_events_url  https://api.github.com/users/tonyfast/received...\n",
       "type                                                              User\n",
       "site_admin                                                       False\n",
       "name                                                         Tony Fast\n",
       "company                                                            ...\n",
       "blog                                        http://deathbeds.github.io\n",
       "location                                                       Atlanta\n",
       "email                                              tony.fast@gmail.com\n",
       "hireable                                                          True\n",
       "bio                                                               None\n",
       "public_repos                                                       156\n",
       "public_gists                                                       513\n",
       "followers                                                           78\n",
       "following                                                           20\n",
       "created_at                                        2013-04-23T15:17:05Z\n",
       "updated_at                                        2018-10-01T17:36:42Z"
      ]
     },
     "execution_count": 18,
     "metadata": {},
     "output_type": "execute_result"
    }
   ],
   "source": [
    "    info = await request(f\"https://api.github.com/users/%s\"%username); info.to_frame()"
   ]
  },
  {
   "cell_type": "code",
   "execution_count": 6,
   "metadata": {},
   "outputs": [
    {
     "data": {
      "text/markdown": [
       "    f\"![]({info.avatar_url})\""
      ],
      "text/plain": [
       "<IPython.core.display.Markdown object>"
      ]
     },
     "metadata": {},
     "output_type": "display_data"
    },
    {
     "data": {
      "text/markdown": [
       "![](https://avatars3.githubusercontent.com/u/4236275?v=4)"
      ],
      "text/plain": [
       "'![](https://avatars3.githubusercontent.com/u/4236275?v=4)'"
      ]
     },
     "execution_count": 6,
     "metadata": {},
     "output_type": "execute_result"
    }
   ],
   "source": [
    "    f\"![]({info.avatar_url})\""
   ]
  },
  {
   "cell_type": "markdown",
   "metadata": {},
   "source": [
    "## Some utitlity statements."
   ]
  },
  {
   "cell_type": "markdown",
   "metadata": {},
   "source": [
    "Accessing historical data in github requires pagination. https://developer.github.com/v3/guides/traversing-with-pagination/"
   ]
  },
  {
   "cell_type": "markdown",
   "metadata": {},
   "source": [
    "`paginate` appends `\"?page=%i\"` to the end of our Github API requests."
   ]
  },
  {
   "cell_type": "code",
   "execution_count": 19,
   "metadata": {},
   "outputs": [
    {
     "data": {
      "text/markdown": [
       "    def paginate(url: str, slice: slice=slice(1,3)) -> t.Generator:\n",
       "        return (f\"{url}?page={page}\" for page in range(slice.start, slice.stop+1))"
      ],
      "text/plain": [
       "<IPython.core.display.Markdown object>"
      ]
     },
     "metadata": {},
     "output_type": "display_data"
    }
   ],
   "source": [
    "    def paginate(url: str, slice: slice=slice(1,3)) -> t.Generator:\n",
    "        return (f\"{url}?page={page}\" for page in range(slice.start, slice.stop+1))"
   ]
  },
  {
   "cell_type": "markdown",
   "metadata": {},
   "source": [
    "I don't have `datetime` for composing timestamps so I use `pandas.to_datetime`"
   ]
  },
  {
   "cell_type": "code",
   "execution_count": 20,
   "metadata": {},
   "outputs": [
    {
     "data": {
      "text/markdown": [
       "    def timify(df):\n",
       "        at = [str for str in df.columns if str.endswith('_at')]\n",
       "        df[at] = df[at].apply(pandas.to_datetime)        \n",
       "        return df"
      ],
      "text/plain": [
       "<IPython.core.display.Markdown object>"
      ]
     },
     "metadata": {},
     "output_type": "display_data"
    }
   ],
   "source": [
    "    def timify(df):\n",
    "        at = [str for str in df.columns if str.endswith('_at')]\n",
    "        df[at] = df[at].apply(pandas.to_datetime)        \n",
    "        return df"
   ]
  },
  {
   "cell_type": "markdown",
   "metadata": {},
   "source": [
    "`pandas.to_timedelta` helps with Δt."
   ]
  },
  {
   "cell_type": "code",
   "execution_count": 24,
   "metadata": {},
   "outputs": [
    {
     "data": {
      "text/markdown": [
       "    pandas.to_timedelta('1 days 10 seconds')"
      ],
      "text/plain": [
       "<IPython.core.display.Markdown object>"
      ]
     },
     "metadata": {},
     "output_type": "display_data"
    },
    {
     "data": {
      "text/plain": [
       "Timedelta('1 days 00:00:10')"
      ]
     },
     "execution_count": 24,
     "metadata": {},
     "output_type": "execute_result"
    }
   ],
   "source": [
    "    pandas.to_timedelta('1 days 10 seconds')"
   ]
  },
  {
   "cell_type": "markdown",
   "metadata": {},
   "source": [
    "and the difference between timestamps returns a time delta."
   ]
  },
  {
   "cell_type": "code",
   "execution_count": 38,
   "metadata": {},
   "outputs": [
    {
     "data": {
      "text/markdown": [
       "    Δt = pandas.Series([info.created_at, info.updated_at]).pipe(pandas.to_datetime).diff().dropna(); Δt"
      ],
      "text/plain": [
       "<IPython.core.display.Markdown object>"
      ]
     },
     "metadata": {},
     "output_type": "display_data"
    },
    {
     "data": {
      "text/plain": [
       "1   1987 days 02:19:37\n",
       "dtype: timedelta64[ns]"
      ]
     },
     "execution_count": 38,
     "metadata": {},
     "output_type": "execute_result"
    }
   ],
   "source": [
    "    Δt = pandas.Series([info.created_at, info.updated_at]).pipe(pandas.to_datetime).diff().dropna(); Δt"
   ]
  },
  {
   "cell_type": "markdown",
   "metadata": {},
   "source": [
    "## Let's talk about me"
   ]
  },
  {
   "cell_type": "code",
   "execution_count": 49,
   "metadata": {},
   "outputs": [
    {
     "data": {
      "text/markdown": [
       "    repos = pandas.concat(\n",
       "        await asyncio.gather(*map(\n",
       "            request, paginate(info.repos_url, slice(1, info.public_repos//30+1))))\n",
       "    ).set_index('id').pipe(timify)\n",
       "    f\"\"\"I have __{len(repos)}__ repositories associated with my account after __>{Δt[1].days//365}__ years.\"\"\""
      ],
      "text/plain": [
       "<IPython.core.display.Markdown object>"
      ]
     },
     "metadata": {},
     "output_type": "display_data"
    },
    {
     "data": {
      "text/markdown": [
       "I have __156__ repositories associated with my account after __>5__ years."
      ],
      "text/plain": [
       "'I have __156__ repositories associated with my account after __>5__ years.'"
      ]
     },
     "execution_count": 49,
     "metadata": {},
     "output_type": "execute_result"
    }
   ],
   "source": [
    "    repos = pandas.concat(\n",
    "        await asyncio.gather(*map(\n",
    "            request, paginate(info.repos_url, slice(1, info.public_repos//30+1))))\n",
    "    ).set_index('id').pipe(timify)\n",
    "    f\"\"\"I have __{len(repos)}__ repositories associated with my account after __>{Δt[1].days//365}__ years.\"\"\""
   ]
  },
  {
   "cell_type": "code",
   "execution_count": 55,
   "metadata": {},
   "outputs": [
    {
     "data": {
      "text/markdown": [
       "    events = pandas.concat(\n",
       "        await asyncio.gather(*map(\n",
       "            request, paginate(info.events_url.format(**{'/privacy': ''}), slice(1, 10))))\n",
       "    ).set_index('id').pipe(timify)"
      ],
      "text/plain": [
       "<IPython.core.display.Markdown object>"
      ]
     },
     "metadata": {},
     "output_type": "display_data"
    }
   ],
   "source": [
    "    events = pandas.concat(\n",
    "        await asyncio.gather(*map(\n",
    "            request, paginate(info.events_url.format(**{'/privacy': ''}), slice(1, 10))))\n",
    "    ).set_index('id').pipe(timify)"
   ]
  },
  {
   "cell_type": "markdown",
   "metadata": {},
   "source": [
    ">  __🐼 + `async` + Caching = 💪__"
   ]
  },
  {
   "cell_type": "code",
   "execution_count": 50,
   "metadata": {},
   "outputs": [
    {
     "data": {
      "text/markdown": [
       "    gists = pandas.concat(\n",
       "        await asyncio.gather(*map(\n",
       "            request, paginate(info.gists_url.format(**{'/gist_id': ''}), slice(1, info.public_gists//30+1))\n",
       "        ))\n",
       "    ).set_index('id').pipe(timify)\n",
       "    f\"\"\"I've made __{len(gists)}__ gists during that time.\"\"\""
      ],
      "text/plain": [
       "<IPython.core.display.Markdown object>"
      ]
     },
     "metadata": {},
     "output_type": "display_data"
    },
    {
     "data": {
      "text/markdown": [
       "I've made __513__ gists during that time."
      ],
      "text/plain": [
       "\"I've made __513__ gists during that time.\""
      ]
     },
     "execution_count": 50,
     "metadata": {},
     "output_type": "execute_result"
    }
   ],
   "source": [
    "    gists = pandas.concat(\n",
    "        await asyncio.gather(*map(\n",
    "            request, paginate(info.gists_url.format(**{'/gist_id': ''}), slice(1, info.public_gists//30+1))\n",
    "        ))\n",
    "    ).set_index('id').pipe(timify)\n",
    "    f\"\"\"I've made __{len(gists)}__ gists during that time.\"\"\""
   ]
  },
  {
   "cell_type": "code",
   "execution_count": 52,
   "metadata": {},
   "outputs": [
    {
     "data": {
      "text/markdown": [
       "    stars = pandas.concat(\n",
       "        await asyncio.gather(*map(\n",
       "            partial(request, headers={\n",
       "                'Accept': \"application/vnd.github.v3.star+json\"\n",
       "            }), paginate(\n",
       "                info.starred_url.format(**{'/owner': '', '/repo': ''}), slice(1, 700//30+1))\n",
       "        ))\n",
       "    ).pipe(\n",
       "        lambda df: pandas.concat([df.repo.apply(pandas.Series), df.starred_at], axis=1)\n",
       "    ).pipe(timify).set_index('id')\n",
       "    f\"\"\"I've starred __{len(stars)}__ repositories, too.\"\"\""
      ],
      "text/plain": [
       "<IPython.core.display.Markdown object>"
      ]
     },
     "metadata": {},
     "output_type": "display_data"
    },
    {
     "data": {
      "text/markdown": [
       "I've starred __700__ repositories, too."
      ],
      "text/plain": [
       "\"I've starred __700__ repositories, too.\""
      ]
     },
     "execution_count": 52,
     "metadata": {},
     "output_type": "execute_result"
    }
   ],
   "source": [
    "    stars = pandas.concat(\n",
    "        await asyncio.gather(*map(\n",
    "            partial(request, headers={\n",
    "                'Accept': \"application/vnd.github.v3.star+json\"\n",
    "            }), paginate(\n",
    "                info.starred_url.format(**{'/owner': '', '/repo': ''}), slice(1, 700//30+1))\n",
    "        ))\n",
    "    ).pipe(\n",
    "        lambda df: pandas.concat([df.repo.apply(pandas.Series), df.starred_at], axis=1)\n",
    "    ).pipe(timify).set_index('id')\n",
    "    f\"\"\"I've starred __{len(stars)}__ repositories, too.\"\"\""
   ]
  },
  {
   "cell_type": "code",
   "execution_count": 161,
   "metadata": {},
   "outputs": [
    {
     "data": {
      "text/markdown": [
       "    pandas.Index.to_series, pandas.Index.to_frame, pandas.Index.to_native_types"
      ],
      "text/plain": [
       "<IPython.core.display.Markdown object>"
      ]
     },
     "metadata": {},
     "output_type": "display_data"
    },
    {
     "data": {
      "text/plain": [
       "(<function pandas.core.indexes.base.Index.to_series(self, index=None, name=None)>,\n",
       " <function pandas.core.indexes.base.Index.to_frame(self, index=True)>,\n",
       " <function pandas.core.indexes.base.Index.to_native_types(self, slicer=None, **kwargs)>)"
      ]
     },
     "execution_count": 161,
     "metadata": {},
     "output_type": "execute_result"
    }
   ],
   "source": [
    "    pandas.Index.to_series, pandas.Index.to_frame, pandas.Index.to_native_types"
   ]
  },
  {
   "cell_type": "code",
   "execution_count": 67,
   "metadata": {},
   "outputs": [
    {
     "data": {
      "text/markdown": [
       "    events.type.value_counts().plot.pie()\n",
       "    f\"\"\"A look at __{username}'s__ last __300__ events.'\"\"\""
      ],
      "text/plain": [
       "<IPython.core.display.Markdown object>"
      ]
     },
     "metadata": {},
     "output_type": "display_data"
    },
    {
     "data": {
      "text/markdown": [
       "A look at __tonyfast's__ last __300__ events.'"
      ],
      "text/plain": [
       "\"A look at __tonyfast's__ last __300__ events.'\""
      ]
     },
     "execution_count": 67,
     "metadata": {},
     "output_type": "execute_result"
    },
    {
     "data": {
      "image/png": "[encoded data removed]",
      "text/plain": [
       "<Figure size 432x288 with 1 Axes>"
      ]
     },
     "metadata": {},
     "output_type": "display_data"
    }
   ],
   "source": [
    "    events.type.value_counts().plot.pie()\n",
    "    f\"\"\"A look at __{username}'s__ last __300__ events.'\"\"\""
   ]
  },
  {
   "cell_type": "code",
   "execution_count": 75,
   "metadata": {},
   "outputs": [
    {
     "data": {
      "text/markdown": [
       "    from matplotlib_venn import *; from toolz.curried.operator import *"
      ],
      "text/plain": [
       "<IPython.core.display.Markdown object>"
      ]
     },
     "metadata": {},
     "output_type": "display_data"
    }
   ],
   "source": [
    "    from matplotlib_venn import *; from toolz.curried.operator import *"
   ]
  },
  {
   "cell_type": "code",
   "execution_count": 95,
   "metadata": {},
   "outputs": [
    {
     "data": {
      "text/markdown": [
       "    pipe((repos, gists, stars), map(attrgetter('columns')), map(set), list, \n",
       "         partial(venn3_unweighted, set_labels=('repos', 'gists', 'stars')))\n",
       "\n",
       "    intersections = set(repos.columns).intersection(gists.columns).intersection(stars.columns)\n",
       "    f\"The __{len(intersections)}__ overlapping columns are: __{', '.join(intersections)}__\""
      ],
      "text/plain": [
       "<IPython.core.display.Markdown object>"
      ]
     },
     "metadata": {},
     "output_type": "display_data"
    },
    {
     "data": {
      "text/markdown": [
       "The __10__ overlapping columns are: __updated_at, url, created_at, description, forks_url, html_url, comments_url, owner, node_id, commits_url__"
      ],
      "text/plain": [
       "'The __10__ overlapping columns are: __updated_at, url, created_at, description, forks_url, html_url, comments_url, owner, node_id, commits_url__'"
      ]
     },
     "execution_count": 95,
     "metadata": {},
     "output_type": "execute_result"
    },
    {
     "data": {
      "image/png": "[encoded data removed]",
      "text/plain": [
       "<Figure size 432x288 with 1 Axes>"
      ]
     },
     "metadata": {},
     "output_type": "display_data"
    }
   ],
   "source": [
    "    pipe((repos, gists, stars), map(attrgetter('columns')), map(set), list, \n",
    "         partial(venn3_unweighted, set_labels=('repos', 'gists', 'stars')))\n",
    "\n",
    "    intersections = set(repos.columns).intersection(gists.columns).intersection(stars.columns)\n",
    "    f\"The __{len(intersections)}__ overlapping columns are: __{', '.join(intersections)}__\""
   ]
  },
  {
   "cell_type": "markdown",
   "metadata": {},
   "source": [
    "## Aggregations\n",
    "\n",
    "`pandas.DataFrame.groupby` & `pandas.DataFrame.rolling` aggreations"
   ]
  },
  {
   "cell_type": "code",
   "execution_count": 156,
   "metadata": {},
   "outputs": [
    {
     "data": {
      "text/markdown": [
       "    monthly_actions = repos.set_index('created_at')[[]].join(\n",
       "        gists.set_index('created_at')[[]]\n",
       "    ).join(\n",
       "        stars.set_index('created_at')[[]]\n",
       "    ).sort_index().index.to_frame().groupby(\n",
       "        pandas.Grouper(freq='M')\n",
       "    ).count()['created_at'].rename('created')"
      ],
      "text/plain": [
       "<IPython.core.display.Markdown object>"
      ]
     },
     "metadata": {},
     "output_type": "display_data"
    }
   ],
   "source": [
    "    monthly_actions = repos.set_index('created_at')[[]].join(\n",
    "        gists.set_index('created_at')[[]]\n",
    "    ).join(\n",
    "        stars.set_index('created_at')[[]]\n",
    "    ).sort_index().index.to_frame().groupby(\n",
    "        pandas.Grouper(freq='M')\n",
    "    ).count()['created_at'].rename('created')"
   ]
  },
  {
   "cell_type": "code",
   "execution_count": 155,
   "metadata": {},
   "outputs": [
    {
     "data": {
      "text/markdown": [
       "    ax = monthly_actions.plot(title='Events per month', legend=True)\n",
       "\n",
       "    monthly_actions.rolling(3, center=True).mean().rename('rolling average').fillna(0).plot(ax=ax, legend=True, grid=True)"
      ],
      "text/plain": [
       "<IPython.core.display.Markdown object>"
      ]
     },
     "metadata": {},
     "output_type": "display_data"
    },
    {
     "data": {
      "text/plain": [
       "<matplotlib.axes._subplots.AxesSubplot at 0x1db59e57128>"
      ]
     },
     "execution_count": 155,
     "metadata": {},
     "output_type": "execute_result"
    },
    {
     "data": {
      "image/png": "[encoded data removed]",
      "text/plain": [
       "<Figure size 432x288 with 1 Axes>"
      ]
     },
     "metadata": {
      "needs_background": "light"
     },
     "output_type": "display_data"
    }
   ],
   "source": [
    "    ax = monthly_actions.plot(title='Events per month', legend=True)\n",
    "    monthly_actions.rolling(3, center=True).mean().rename('rolling average').fillna(0).plot(ax=ax, legend=True, grid=True)"
   ]
  },
  {
   "cell_type": "code",
   "execution_count": 154,
   "metadata": {},
   "outputs": [
    {
     "data": {
      "text/markdown": [
       "    this_years_actions = monthly_actions[monthly_actions.index > pandas.to_datetime('2018-04-01')]\n",
       "    ax = this_years_actions.plot(title='Events per month', legend=True, figsize=(24, 8), grid=True)\n",
       "    this_years_actions.rolling(3, center=True).mean().rename('rolling average').fillna(0).plot(ax=ax, legend=True)\n",
       "    events.set_index('created_at').index.to_frame().groupby(\n",
       "        pandas.Grouper(freq='1D')\n",
       "    ).count()['created_at'].rename('minor events').plot(ax=ax, legend=True, grid=True)"
      ],
      "text/plain": [
       "<IPython.core.display.Markdown object>"
      ]
     },
     "metadata": {},
     "output_type": "display_data"
    },
    {
     "data": {
      "text/plain": [
       "<matplotlib.axes._subplots.AxesSubplot at 0x1db58ff9c88>"
      ]
     },
     "execution_count": 154,
     "metadata": {},
     "output_type": "execute_result"
    },
    {
     "data": {
      "image/png": "[encoded data removed]",
      "text/plain": [
       "<Figure size 1728x576 with 1 Axes>"
      ]
     },
     "metadata": {
      "needs_background": "light"
     },
     "output_type": "display_data"
    }
   ],
   "source": [
    "    this_years_actions = monthly_actions[monthly_actions.index > pandas.to_datetime('2018-04-01')]\n",
    "    ax = this_years_actions.plot(title='Events per month', legend=True, figsize=(24, 8), grid=True)\n",
    "    this_years_actions.rolling(3, center=True).mean().rename('rolling average').fillna(0).plot(ax=ax, legend=True)\n",
    "    events.set_index('created_at').index.to_frame().groupby(\n",
    "        pandas.Grouper(freq='1D')\n",
    "    ).count()['created_at'].rename('minor events').plot(ax=ax, legend=True, grid=True)"
   ]
  },
  {
   "cell_type": "code",
   "execution_count": 168,
   "metadata": {},
   "outputs": [
    {
     "data": {
      "text/markdown": [
       "    gist = gists.files.apply(pandas.Series).stack(level=0).apply(pandas.Series).join(gists).reset_index(-1, drop=True)"
      ],
      "text/plain": [
       "<IPython.core.display.Markdown object>"
      ]
     },
     "metadata": {},
     "output_type": "display_data"
    }
   ],
   "source": [
    "    gist = gists.files.apply(pandas.Series).stack(level=0).apply(pandas.Series).join(gists).reset_index(-1, drop=True)"
   ]
  },
  {
   "cell_type": "code",
   "execution_count": 188,
   "metadata": {},
   "outputs": [
    {
     "data": {
      "text/markdown": [
       "    import matplotlib"
      ],
      "text/plain": [
       "<IPython.core.display.Markdown object>"
      ]
     },
     "metadata": {},
     "output_type": "display_data"
    }
   ],
   "source": [
    "    import matplotlib"
   ]
  },
  {
   "cell_type": "markdown",
   "metadata": {},
   "source": [
    "Method chaingm"
   ]
  },
  {
   "cell_type": "code",
   "execution_count": 366,
   "metadata": {},
   "outputs": [
    {
     "data": {
      "text/markdown": [
       "    languages = gist.set_index('created_at').language.groupby(pandas.Grouper(freq='1Y')).value_counts().unstack().pipe(\n",
       "        lambda df: languages.set_index(df.index.year))\n",
       "    subplots = pandas.Series(matplotlib.pyplot.subplots(1, len(languages), figsize=(24, 5))[1], languages.index)\n",
       "    \n",
       "    languages.apply(\n",
       "        lambda s: s.dropna().plot.bar(title=s.name, ax=subplots.loc[s.name], grid=True), axis=1)\n",
       "    matplotlib.pyplot.show()\n",
       "    gist.language.value_counts().plot.bar(title='total', grid=True, figsize=(24, 5));"
      ],
      "text/plain": [
       "<IPython.core.display.Markdown object>"
      ]
     },
     "metadata": {},
     "output_type": "display_data"
    },
    {
     "data": {
      "image/png": "[encoded data removed]",
      "text/plain": [
       "<Figure size 1728x360 with 5 Axes>"
      ]
     },
     "metadata": {
      "needs_background": "light"
     },
     "output_type": "display_data"
    },
    {
     "data": {
      "image/png": "[encoded data removed]",
      "text/plain": [
       "<Figure size 1728x360 with 1 Axes>"
      ]
     },
     "metadata": {
      "needs_background": "light"
     },
     "output_type": "display_data"
    }
   ],
   "source": [
    "    languages = gist.set_index('created_at').language.groupby(pandas.Grouper(freq='1Y')).value_counts().unstack().pipe(\n",
    "        lambda df: languages.set_index(df.index.year))\n",
    "    subplots = pandas.Series(matplotlib.pyplot.subplots(1, len(languages), figsize=(24, 5))[1], languages.index)\n",
    "    \n",
    "    languages.apply(\n",
    "        lambda s: s.dropna().plot.bar(title=s.name, ax=subplots.loc[s.name], grid=True), axis=1)\n",
    "    matplotlib.pyplot.show()\n",
    "    gist.language.value_counts().plot.bar(title='total', grid=True, figsize=(24, 5));"
   ]
  },
  {
   "cell_type": "markdown",
   "metadata": {},
   "source": [
    "    from . import readme as ˣ"
   ]
  },
  {
   "cell_type": "code",
   "execution_count": 252,
   "metadata": {},
   "outputs": [
    {
     "data": {
      "text/markdown": [
       "    import pandas; \"Explicit is better than implicit.\";"
      ],
      "text/plain": [
       "<IPython.core.display.Markdown object>"
      ]
     },
     "metadata": {},
     "output_type": "display_data"
    }
   ],
   "source": [
    "    import pandas; \"Explicit is better than implicit.\";"
   ]
  },
  {
   "cell_type": "code",
   "execution_count": 253,
   "metadata": {},
   "outputs": [
    {
     "data": {
      "text/markdown": [
       "    import os; os.environ.get('gh'); params = {'access_token': os.environ.get('gh')}"
      ],
      "text/plain": [
       "<IPython.core.display.Markdown object>"
      ]
     },
     "metadata": {},
     "output_type": "display_data"
    }
   ],
   "source": [
    "    import os; os.environ.get('gh'); params = {'access_token': os.environ.get('gh')}"
   ]
  },
  {
   "cell_type": "code",
   "execution_count": 4,
   "metadata": {},
   "outputs": [
    {
     "data": {
      "text/markdown": [
       "    gh = f\"https://api.github.com/users/%s\""
      ],
      "text/plain": [
       "<IPython.core.display.Markdown object>"
      ]
     },
     "metadata": {},
     "output_type": "display_data"
    }
   ],
   "source": [
    "    gh = f\"https://api.github.com/users/%s\""
   ]
  },
  {
   "cell_type": "code",
   "execution_count": 5,
   "metadata": {},
   "outputs": [
    {
     "data": {
      "text/markdown": [
       "    info = pandas.read_json(gh%'tonyfast', typ=pandas.Series)"
      ],
      "text/plain": [
       "<IPython.core.display.Markdown object>"
      ]
     },
     "metadata": {},
     "output_type": "display_data"
    }
   ],
   "source": [
    "    info = pandas.read_json(gh%'tonyfast', typ=pandas.Series)"
   ]
  },
  {
   "cell_type": "code",
   "execution_count": 254,
   "metadata": {},
   "outputs": [],
   "source": [
    "    import ast\n",
    "    import nbconvert"
   ]
  },
  {
   "cell_type": "code",
   "execution_count": 361,
   "metadata": {},
   "outputs": [
    {
     "data": {
      "text/markdown": [
       "    attributes = pandas.Series()\n",
       "    class FindAttributes(ast.NodeVisitor):\n",
       "        def visit_Attribute(self, node):   self.attributes[-1].append(node.attr) or super().generic_visit(node)\n",
       "                        \n",
       "        def visit_Name(self, node):  \n",
       "            value = globals().get(node.id, None)\n",
       "            self.attributes[-1].append(\n",
       "                type(value).__name__ if isinstance(value, (pandas.DataFrame, pandas.Series)) else node.id\n",
       "            ) or super().generic_visit(node)\n",
       "\n",
       "        def __call__(self, str):\n",
       "            self.attributes = list()\n",
       "            for body in ast.parse(str).body:\n",
       "                self.attributes.append([])\n",
       "                self.visit(body)\n",
       "                self.attributes[-1] = ', '.join(reversed(self.attributes[-1]))\n",
       "            return pandas.Series(self.attributes).pipe(lambda s: s[s.apply(bool)])\n",
       "    actions = FindAttributes()(nbconvert.get_exporter('python')().from_filename(filename='intro.ipynb')[0].replace('await ', ''))"
      ],
      "text/plain": [
       "<IPython.core.display.Markdown object>"
      ]
     },
     "metadata": {},
     "output_type": "display_data"
    }
   ],
   "source": [
    "    attributes = pandas.Series()\n",
    "    class FindAttributes(ast.NodeVisitor):\n",
    "        def visit_Attribute(self, node):   self.attributes[-1].append(node.attr) or super().generic_visit(node)\n",
    "                        \n",
    "        def visit_Name(self, node):  \n",
    "            value = globals().get(node.id, None)\n",
    "            self.attributes[-1].append(\n",
    "                type(value).__name__ if isinstance(value, (pandas.DataFrame, pandas.Series)) else node.id\n",
    "            ) or super().generic_visit(node)\n",
    "\n",
    "        def __call__(self, str):\n",
    "            self.attributes = list()\n",
    "            for body in ast.parse(str).body:\n",
    "                self.attributes.append([])\n",
    "                self.visit(body)\n",
    "                self.attributes[-1] = ', '.join(reversed(self.attributes[-1]))\n",
    "            return pandas.Series(self.attributes).pipe(lambda s: s[s.apply(bool)])\n",
    "    actions = FindAttributes()(nbconvert.get_exporter('python')().from_filename(filename='intro.ipynb')[0].replace('await ', ''))"
   ]
  },
  {
   "cell_type": "markdown",
   "metadata": {},
   "source": [
    "A back of the envelope use of attributes."
   ]
  },
  {
   "cell_type": "code",
   "execution_count": 362,
   "metadata": {},
   "outputs": [
    {
     "data": {
      "text/markdown": [
       "    actions.str.split(\n",
       "        ',', expand=True\n",
       "    ).stack().str.strip().value_counts().T"
      ],
      "text/plain": [
       "<IPython.core.display.Markdown object>"
      ]
     },
     "metadata": {},
     "output_type": "display_data"
    },
    {
     "data": {
      "text/plain": [
       "Series              41\n",
       "pandas              30\n",
       "DataFrame           30\n",
       "df                  11\n",
       "set_index           11\n",
       "str                 11\n",
       "pipe                10\n",
       "self                 8\n",
       "plot                 8\n",
       "slice                8\n",
       "apply                7\n",
       "attributes           7\n",
       "at                   6\n",
       "len                  6\n",
       "map                  6\n",
       "s                    5\n",
       "columns              5\n",
       "ax                   5\n",
       "join                 5\n",
       "to_frame             5\n",
       "node                 5\n",
       "request              5\n",
       "concat               5\n",
       "index                5\n",
       "to_datetime          4\n",
       "timify               4\n",
       "format               4\n",
       "gather               4\n",
       "rename               4\n",
       "T                    4\n",
       "                    ..\n",
       "reset_index          1\n",
       "range                1\n",
       "get_exporter         1\n",
       "to_timedelta         1\n",
       "filter               1\n",
       "files                1\n",
       "start                1\n",
       "visit                1\n",
       "subplots             1\n",
       "sort_index           1\n",
       "attrgetter           1\n",
       "repo                 1\n",
       "isinstance           1\n",
       "nbconvert            1\n",
       "FindAttributes       1\n",
       "attr                 1\n",
       "venn3_unweighted     1\n",
       "show                 1\n",
       "url                  1\n",
       "read_html            1\n",
       "events_url           1\n",
       "startswith           1\n",
       "diff                 1\n",
       "requests_cache       1\n",
       "Generator            1\n",
       "created_at           1\n",
       "__name__             1\n",
       "year                 1\n",
       "stop                 1\n",
       "read_json            1\n",
       "Length: 127, dtype: int64"
      ]
     },
     "execution_count": 362,
     "metadata": {},
     "output_type": "execute_result"
    }
   ],
   "source": [
    "    actions.str.split(\n",
    "        ',', expand=True\n",
    "    ).stack().str.strip().value_counts().T"
   ]
  },
  {
   "cell_type": "code",
   "execution_count": 363,
   "metadata": {},
   "outputs": [
    {
     "data": {
      "text/markdown": [
       "    pandas.DataFrame.applymap, pandas.DataFrame.apply, pandas.DataFrame.pipe\n",
       "    pandas.Series.apply, pandas.Series.pipe\n",
       "    pandas.Index.map, pandas.Index.to_series, pandas.Index.to_frame"
      ],
      "text/plain": [
       "<IPython.core.display.Markdown object>"
      ]
     },
     "metadata": {},
     "output_type": "display_data"
    },
    {
     "data": {
      "text/plain": [
       "(<function pandas.core.indexes.base.Index.map(self, mapper, na_action=None)>,\n",
       " <function pandas.core.indexes.base.Index.to_series(self, index=None, name=None)>,\n",
       " <function pandas.core.indexes.base.Index.to_frame(self, index=True)>)"
      ]
     },
     "execution_count": 363,
     "metadata": {},
     "output_type": "execute_result"
    }
   ],
   "source": [
    "    pandas.DataFrame.applymap, pandas.DataFrame.apply, pandas.DataFrame.pipe\n",
    "    pandas.Series.apply, pandas.Series.pipe\n",
    "    pandas.Index.map, pandas.Index.to_series, pandas.Index.to_frame"
   ]
  },
  {
   "cell_type": "code",
   "execution_count": 367,
   "metadata": {},
   "outputs": [
    {
     "data": {
      "text/markdown": [
       "    df = pandas.DataFrame({'A': {0: 'a', 1: 'b', 2: 'c'},\n",
       "                        'B': {0: 1, 1: 3, 2: 5},\n",
       "                        'C': {0: 2, 1: 4, 2: 6}})\n",
       "    pandas.melt(df, id_vars=['A'], value_vars=['B'])"
      ],
      "text/plain": [
       "<IPython.core.display.Markdown object>"
      ]
     },
     "metadata": {},
     "output_type": "display_data"
    },
    {
     "data": {
      "text/html": [
       "<div>\n",
       "<style scoped>\n",
       "    .dataframe tbody tr th:only-of-type {\n",
       "        vertical-align: middle;\n",
       "    }\n",
       "\n",
       "    .dataframe tbody tr th {\n",
       "        vertical-align: top;\n",
       "    }\n",
       "\n",
       "    .dataframe thead th {\n",
       "        text-align: right;\n",
       "    }\n",
       "</style>\n",
       "<table border=\"1\" class=\"dataframe\">\n",
       "  <thead>\n",
       "    <tr style=\"text-align: right;\">\n",
       "      <th></th>\n",
       "      <th>A</th>\n",
       "      <th>variable</th>\n",
       "      <th>value</th>\n",
       "    </tr>\n",
       "  </thead>\n",
       "  <tbody>\n",
       "    <tr>\n",
       "      <th>0</th>\n",
       "      <td>a</td>\n",
       "      <td>B</td>\n",
       "      <td>1</td>\n",
       "    </tr>\n",
       "    <tr>\n",
       "      <th>1</th>\n",
       "      <td>b</td>\n",
       "      <td>B</td>\n",
       "      <td>3</td>\n",
       "    </tr>\n",
       "    <tr>\n",
       "      <th>2</th>\n",
       "      <td>c</td>\n",
       "      <td>B</td>\n",
       "      <td>5</td>\n",
       "    </tr>\n",
       "  </tbody>\n",
       "</table>\n",
       "</div>"
      ],
      "text/plain": [
       "   A variable  value\n",
       "0  a        B      1\n",
       "1  b        B      3\n",
       "2  c        B      5"
      ]
     },
     "execution_count": 367,
     "metadata": {},
     "output_type": "execute_result"
    }
   ],
   "source": [
    "    df = pandas.DataFrame({'A': {0: 'a', 1: 'b', 2: 'c'},\n",
    "                        'B': {0: 1, 1: 3, 2: 5},\n",
    "                        'C': {0: 2, 1: 4, 2: 6}})\n",
    "    pandas.melt(df, id_vars=['A'], value_vars=['B'])"
   ]
  },
  {
   "cell_type": "code",
   "execution_count": 371,
   "metadata": {},
   "outputs": [
    {
     "data": {
      "text/markdown": [
       "    df.set_index('A').unstack()"
      ],
      "text/plain": [
       "<IPython.core.display.Markdown object>"
      ]
     },
     "metadata": {},
     "output_type": "display_data"
    },
    {
     "data": {
      "text/plain": [
       "   A\n",
       "B  a    1\n",
       "   b    3\n",
       "   c    5\n",
       "C  a    2\n",
       "   b    4\n",
       "   c    6\n",
       "dtype: int64"
      ]
     },
     "execution_count": 371,
     "metadata": {},
     "output_type": "execute_result"
    }
   ],
   "source": [
    "    df.set_index('A').unstack()"
   ]
  },
  {
   "cell_type": "code",
   "execution_count": null,
   "metadata": {},
   "outputs": [],
   "source": []
  }
 ],
 "metadata": {
  "kernelspec": {
   "display_name": "pidgin",
   "language": "",
   "name": "pidgin"
  },
  "language_info": {
   "argv": [
    "python",
    "-m",
    "pidgin.kernel",
    "-f",
    "{connection_file}"
   ],
   "codemirror_mode": {
    "name": "ipython",
    "version": 3
   },
   "display_name": "pidgin",
   "file_extension": ".md.ipynb",
   "mimetype": "text/x-python",
   "name": "pidgin",
   "nbconvert_exporter": "python",
   "pygments_lexer": "ipython3",
   "version": "3.6.6"
  }
 },
 "nbformat": 4,
 "nbformat_minor": 2
}
