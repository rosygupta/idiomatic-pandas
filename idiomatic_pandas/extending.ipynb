{
 "cells": [
  {
   "cell_type": "markdown",
   "metadata": {},
   "source": [
    "# Extending `pandas` to other ecosystems"
   ]
  },
  {
   "cell_type": "code",
   "execution_count": 1,
   "metadata": {},
   "outputs": [],
   "source": [
    "    import pandas"
   ]
  },
  {
   "cell_type": "code",
   "execution_count": 7,
   "metadata": {},
   "outputs": [],
   "source": [
    "    import sklearn.datasets, sklearn.discriminant_analysis, sklearn.model_selection, sklearn.metrics, sklearn.tree\n",
    "    from toolz.curried import *; from toolz.curried.operator import *"
   ]
  },
  {
   "cell_type": "markdown",
   "metadata": {},
   "source": [
    "Let's use the iris example.  _I'm sorry 😳._"
   ]
  },
  {
   "cell_type": "code",
   "execution_count": 3,
   "metadata": {},
   "outputs": [],
   "source": [
    "    iris = sklearn.datasets.load_iris()"
   ]
  },
  {
   "cell_type": "markdown",
   "metadata": {},
   "source": [
    "Create a tidy dataframe with testing and training indexes."
   ]
  },
  {
   "cell_type": "code",
   "execution_count": 4,
   "metadata": {},
   "outputs": [
    {
     "data": {
      "text/html": [
       "<div>\n",
       "<style scoped>\n",
       "    .dataframe tbody tr th:only-of-type {\n",
       "        vertical-align: middle;\n",
       "    }\n",
       "\n",
       "    .dataframe tbody tr th {\n",
       "        vertical-align: top;\n",
       "    }\n",
       "\n",
       "    .dataframe thead th {\n",
       "        text-align: right;\n",
       "    }\n",
       "</style>\n",
       "<table border=\"1\" class=\"dataframe\">\n",
       "  <thead>\n",
       "    <tr style=\"text-align: right;\">\n",
       "      <th></th>\n",
       "      <th></th>\n",
       "      <th>sepal length (cm)</th>\n",
       "      <th>sepal width (cm)</th>\n",
       "      <th>petal length (cm)</th>\n",
       "      <th>petal width (cm)</th>\n",
       "    </tr>\n",
       "    <tr>\n",
       "      <th></th>\n",
       "      <th>targets</th>\n",
       "      <th></th>\n",
       "      <th></th>\n",
       "      <th></th>\n",
       "      <th></th>\n",
       "    </tr>\n",
       "  </thead>\n",
       "  <tbody>\n",
       "    <tr>\n",
       "      <th>train</th>\n",
       "      <th>virginica</th>\n",
       "      <td>5.8</td>\n",
       "      <td>2.7</td>\n",
       "      <td>5.1</td>\n",
       "      <td>1.9</td>\n",
       "    </tr>\n",
       "    <tr>\n",
       "      <th>test</th>\n",
       "      <th>versicolor</th>\n",
       "      <td>5.9</td>\n",
       "      <td>3.0</td>\n",
       "      <td>4.2</td>\n",
       "      <td>1.5</td>\n",
       "    </tr>\n",
       "  </tbody>\n",
       "</table>\n",
       "</div>"
      ],
      "text/plain": [
       "                  sepal length (cm)  sepal width (cm)  petal length (cm)  \\\n",
       "      targets                                                              \n",
       "train virginica                 5.8               2.7                5.1   \n",
       "test  versicolor                5.9               3.0                4.2   \n",
       "\n",
       "                  petal width (cm)  \n",
       "      targets                       \n",
       "train virginica                1.9  \n",
       "test  versicolor               1.5  "
      ]
     },
     "execution_count": 4,
     "metadata": {},
     "output_type": "execute_result"
    }
   ],
   "source": [
    "    df = pandas.DataFrame(\n",
    "        iris['data'],\n",
    "        pandas.CategoricalIndex(\n",
    "            pandas.Index(iris['target']).map(\n",
    "                iris['target_names'].__getitem__\n",
    "            ), iris['target_names'], name='targets'),\n",
    "        iris['feature_names']\n",
    "    ).pipe(\n",
    "        lambda df: pandas.concat(dict(zip(('train', 'test'), sklearn.model_selection.train_test_split(df))))\n",
    "    )\n",
    "    df.sample(2)"
   ]
  },
  {
   "cell_type": "markdown",
   "metadata": {},
   "source": [
    "Let's initialize some models."
   ]
  },
  {
   "cell_type": "code",
   "execution_count": 8,
   "metadata": {},
   "outputs": [],
   "source": [
    "    tree = sklearn.tree.DecisionTreeClassifier()\n",
    "    lda = sklearn.discriminant_analysis.LinearDiscriminantAnalysis()"
   ]
  },
  {
   "cell_type": "markdown",
   "metadata": {},
   "source": [
    "Train and predict the classes."
   ]
  },
  {
   "cell_type": "code",
   "execution_count": 54,
   "metadata": {},
   "outputs": [],
   "source": [
    "    df = df.pipe(\n",
    "        do(lambda df: lda.fit(df.loc['train'], df.loc['train'].index))\n",
    "    ).pipe(\n",
    "        do(lambda df: tree.fit(df.loc['train'], df.loc['train'].index))\n",
    "    ).pipe(\n",
    "        lambda df: df\n",
    "        .set_index(pandas.Index(tree.predict(df), name=tree), append=True)\n",
    "        .set_index(pandas.Index(lda.predict(df), name=lda), append=True)\n",
    "    )"
   ]
  },
  {
   "cell_type": "code",
   "execution_count": 59,
   "metadata": {},
   "outputs": [],
   "source": [
    "    import IPython"
   ]
  },
  {
   "cell_type": "code",
   "execution_count": 61,
   "metadata": {},
   "outputs": [
    {
     "name": "stdout",
     "output_type": "stream",
     "text": [
      "DecisionTreeClassifier(class_weight=None, criterion='gini', max_depth=None,\n",
      "            max_features=None, max_leaf_nodes=None,\n",
      "            min_impurity_decrease=0.0, min_impurity_split=None,\n",
      "            min_samples_leaf=1, min_samples_split=2,\n",
      "            min_weight_fraction_leaf=0.0, presort=False, random_state=None,\n",
      "            splitter='best')\n"
     ]
    },
    {
     "data": {
      "text/html": [
       "<div>\n",
       "<style scoped>\n",
       "    .dataframe tbody tr th:only-of-type {\n",
       "        vertical-align: middle;\n",
       "    }\n",
       "\n",
       "    .dataframe tbody tr th {\n",
       "        vertical-align: top;\n",
       "    }\n",
       "\n",
       "    .dataframe thead th {\n",
       "        text-align: right;\n",
       "    }\n",
       "</style>\n",
       "<table border=\"1\" class=\"dataframe\">\n",
       "  <thead>\n",
       "    <tr style=\"text-align: right;\">\n",
       "      <th></th>\n",
       "      <th>setosa</th>\n",
       "      <th>versicolor</th>\n",
       "      <th>virginica</th>\n",
       "    </tr>\n",
       "  </thead>\n",
       "  <tbody>\n",
       "    <tr>\n",
       "      <th>setosa</th>\n",
       "      <td>17</td>\n",
       "      <td>0</td>\n",
       "      <td>0</td>\n",
       "    </tr>\n",
       "    <tr>\n",
       "      <th>versicolor</th>\n",
       "      <td>0</td>\n",
       "      <td>10</td>\n",
       "      <td>1</td>\n",
       "    </tr>\n",
       "    <tr>\n",
       "      <th>virginica</th>\n",
       "      <td>0</td>\n",
       "      <td>1</td>\n",
       "      <td>9</td>\n",
       "    </tr>\n",
       "  </tbody>\n",
       "</table>\n",
       "</div>"
      ],
      "text/plain": [
       "            setosa  versicolor  virginica\n",
       "setosa          17           0          0\n",
       "versicolor       0          10          1\n",
       "virginica        0           1          9"
      ]
     },
     "metadata": {},
     "output_type": "display_data"
    },
    {
     "name": "stdout",
     "output_type": "stream",
     "text": [
      "LinearDiscriminantAnalysis(n_components=None, priors=None, shrinkage=None,\n",
      "              solver='svd', store_covariance=False, tol=0.0001)\n"
     ]
    },
    {
     "data": {
      "text/html": [
       "<div>\n",
       "<style scoped>\n",
       "    .dataframe tbody tr th:only-of-type {\n",
       "        vertical-align: middle;\n",
       "    }\n",
       "\n",
       "    .dataframe tbody tr th {\n",
       "        vertical-align: top;\n",
       "    }\n",
       "\n",
       "    .dataframe thead th {\n",
       "        text-align: right;\n",
       "    }\n",
       "</style>\n",
       "<table border=\"1\" class=\"dataframe\">\n",
       "  <thead>\n",
       "    <tr style=\"text-align: right;\">\n",
       "      <th></th>\n",
       "      <th>setosa</th>\n",
       "      <th>versicolor</th>\n",
       "      <th>virginica</th>\n",
       "    </tr>\n",
       "  </thead>\n",
       "  <tbody>\n",
       "    <tr>\n",
       "      <th>setosa</th>\n",
       "      <td>17</td>\n",
       "      <td>0</td>\n",
       "      <td>0</td>\n",
       "    </tr>\n",
       "    <tr>\n",
       "      <th>versicolor</th>\n",
       "      <td>0</td>\n",
       "      <td>10</td>\n",
       "      <td>1</td>\n",
       "    </tr>\n",
       "    <tr>\n",
       "      <th>virginica</th>\n",
       "      <td>0</td>\n",
       "      <td>0</td>\n",
       "      <td>10</td>\n",
       "    </tr>\n",
       "  </tbody>\n",
       "</table>\n",
       "</div>"
      ],
      "text/plain": [
       "            setosa  versicolor  virginica\n",
       "setosa          17           0          0\n",
       "versicolor       0          10          1\n",
       "virginica        0           0         10"
      ]
     },
     "metadata": {},
     "output_type": "display_data"
    }
   ],
   "source": [
    "    for model in (tree, lda):\n",
    "        print(model)\n",
    "        df.loc['test'].index.to_frame().pipe(\n",
    "            lambda df: pandas.DataFrame(\n",
    "                sklearn.metrics.confusion_matrix(df['targets'], df[model]),\n",
    "                iris['target_names'], iris['target_names']\n",
    "            )\n",
    "        ).pipe(IPython.display.display)"
   ]
  },
  {
   "cell_type": "markdown",
   "metadata": {},
   "source": [
    "Using ipwidgets to make your code interactive."
   ]
  },
  {
   "cell_type": "code",
   "execution_count": 9,
   "metadata": {},
   "outputs": [],
   "source": [
    "    from ipywidgets import interact"
   ]
  },
  {
   "cell_type": "code",
   "execution_count": 72,
   "metadata": {},
   "outputs": [
    {
     "data": {
      "application/vnd.jupyter.widget-view+json": {
       "model_id": "a856dffe5e684a519a83b4984c18b2fb",
       "version_major": 2,
       "version_minor": 0
      },
      "text/plain": [
       "interactive(children=(Dropdown(description='model', options=('tree', 'lda'), value='tree'), Dropdown(descripti…"
      ]
     },
     "metadata": {},
     "output_type": "display_data"
    }
   ],
   "source": [
    "    @interact\n",
    "    def _(model=['tree','lda'], type=['test', 'train']):\n",
    "        model = globals().get(model)\n",
    "        df.loc[type].index.to_frame().pipe(\n",
    "            lambda df: pandas.DataFrame(\n",
    "                sklearn.metrics.confusion_matrix(df['targets'], df[model]),\n",
    "                iris['target_names'], iris['target_names']\n",
    "            )\n",
    "        ).pipe(IPython.display.display)"
   ]
  },
  {
   "cell_type": "code",
   "execution_count": 73,
   "metadata": {},
   "outputs": [],
   "source": [
    "    import pandas"
   ]
  },
  {
   "cell_type": "code",
   "execution_count": 77,
   "metadata": {},
   "outputs": [
    {
     "data": {
      "text/html": [
       "<div>\n",
       "<style scoped>\n",
       "    .dataframe tbody tr th:only-of-type {\n",
       "        vertical-align: middle;\n",
       "    }\n",
       "\n",
       "    .dataframe tbody tr th {\n",
       "        vertical-align: top;\n",
       "    }\n",
       "\n",
       "    .dataframe thead th {\n",
       "        text-align: right;\n",
       "    }\n",
       "</style>\n",
       "<table border=\"1\" class=\"dataframe\">\n",
       "  <thead>\n",
       "    <tr style=\"text-align: right;\">\n",
       "      <th></th>\n",
       "      <th>A</th>\n",
       "      <th>B</th>\n",
       "      <th>C</th>\n",
       "      <th>D</th>\n",
       "    </tr>\n",
       "  </thead>\n",
       "  <tbody>\n",
       "    <tr>\n",
       "      <th>URMVvHzTA6</th>\n",
       "      <td>1.265084</td>\n",
       "      <td>0.722351</td>\n",
       "      <td>-0.586344</td>\n",
       "      <td>-0.603416</td>\n",
       "    </tr>\n",
       "    <tr>\n",
       "      <th>6XtCOmUfOt</th>\n",
       "      <td>-1.481678</td>\n",
       "      <td>1.260293</td>\n",
       "      <td>-0.595652</td>\n",
       "      <td>-0.372425</td>\n",
       "    </tr>\n",
       "    <tr>\n",
       "      <th>cu0fBbN14A</th>\n",
       "      <td>-0.310017</td>\n",
       "      <td>0.824252</td>\n",
       "      <td>-0.059986</td>\n",
       "      <td>1.242138</td>\n",
       "    </tr>\n",
       "    <tr>\n",
       "      <th>DIfzzttFNA</th>\n",
       "      <td>-0.303413</td>\n",
       "      <td>-0.056332</td>\n",
       "      <td>-0.382758</td>\n",
       "      <td>-2.030718</td>\n",
       "    </tr>\n",
       "    <tr>\n",
       "      <th>W9Xmr5MKbO</th>\n",
       "      <td>-0.414613</td>\n",
       "      <td>0.671362</td>\n",
       "      <td>0.197046</td>\n",
       "      <td>0.503501</td>\n",
       "    </tr>\n",
       "    <tr>\n",
       "      <th>50z2kFRn6v</th>\n",
       "      <td>-0.617809</td>\n",
       "      <td>-0.359157</td>\n",
       "      <td>1.695765</td>\n",
       "      <td>0.393641</td>\n",
       "    </tr>\n",
       "    <tr>\n",
       "      <th>rkGXRAXn6r</th>\n",
       "      <td>-0.987923</td>\n",
       "      <td>1.091318</td>\n",
       "      <td>-1.280359</td>\n",
       "      <td>-0.509785</td>\n",
       "    </tr>\n",
       "    <tr>\n",
       "      <th>Bf6WytpGpf</th>\n",
       "      <td>0.068635</td>\n",
       "      <td>-0.085423</td>\n",
       "      <td>0.087884</td>\n",
       "      <td>-0.702358</td>\n",
       "    </tr>\n",
       "    <tr>\n",
       "      <th>vUAGFDBvUa</th>\n",
       "      <td>1.093728</td>\n",
       "      <td>-0.219484</td>\n",
       "      <td>1.169825</td>\n",
       "      <td>-0.197037</td>\n",
       "    </tr>\n",
       "    <tr>\n",
       "      <th>UhkijDe1QB</th>\n",
       "      <td>0.765616</td>\n",
       "      <td>0.041184</td>\n",
       "      <td>1.055348</td>\n",
       "      <td>0.503691</td>\n",
       "    </tr>\n",
       "    <tr>\n",
       "      <th>syZ5Fm0OpO</th>\n",
       "      <td>0.554164</td>\n",
       "      <td>-1.236251</td>\n",
       "      <td>0.255755</td>\n",
       "      <td>1.757333</td>\n",
       "    </tr>\n",
       "    <tr>\n",
       "      <th>EFYAwWLEZg</th>\n",
       "      <td>-0.044405</td>\n",
       "      <td>2.544793</td>\n",
       "      <td>0.230792</td>\n",
       "      <td>-2.093238</td>\n",
       "    </tr>\n",
       "    <tr>\n",
       "      <th>cIygH1qcvK</th>\n",
       "      <td>-1.086577</td>\n",
       "      <td>-0.222166</td>\n",
       "      <td>1.312289</td>\n",
       "      <td>1.119763</td>\n",
       "    </tr>\n",
       "    <tr>\n",
       "      <th>ex3k3x7DYy</th>\n",
       "      <td>0.260771</td>\n",
       "      <td>-0.240598</td>\n",
       "      <td>0.673713</td>\n",
       "      <td>1.401118</td>\n",
       "    </tr>\n",
       "    <tr>\n",
       "      <th>msPCAURTTc</th>\n",
       "      <td>1.434318</td>\n",
       "      <td>-0.075712</td>\n",
       "      <td>-2.151299</td>\n",
       "      <td>1.980540</td>\n",
       "    </tr>\n",
       "    <tr>\n",
       "      <th>mdZf5rbuqm</th>\n",
       "      <td>0.903259</td>\n",
       "      <td>0.529590</td>\n",
       "      <td>0.765867</td>\n",
       "      <td>1.617866</td>\n",
       "    </tr>\n",
       "    <tr>\n",
       "      <th>2UbzcD3fRP</th>\n",
       "      <td>-1.272637</td>\n",
       "      <td>0.709142</td>\n",
       "      <td>-0.683505</td>\n",
       "      <td>0.792901</td>\n",
       "    </tr>\n",
       "    <tr>\n",
       "      <th>3dWSMS3tML</th>\n",
       "      <td>0.673577</td>\n",
       "      <td>-0.452175</td>\n",
       "      <td>-0.301319</td>\n",
       "      <td>-0.388727</td>\n",
       "    </tr>\n",
       "    <tr>\n",
       "      <th>aH0nrZygJx</th>\n",
       "      <td>-0.209439</td>\n",
       "      <td>1.638700</td>\n",
       "      <td>0.019523</td>\n",
       "      <td>1.707670</td>\n",
       "    </tr>\n",
       "    <tr>\n",
       "      <th>o4kqTUYspq</th>\n",
       "      <td>-0.329088</td>\n",
       "      <td>-0.027999</td>\n",
       "      <td>0.787722</td>\n",
       "      <td>-0.998205</td>\n",
       "    </tr>\n",
       "    <tr>\n",
       "      <th>9uKmpgFlIC</th>\n",
       "      <td>-0.569465</td>\n",
       "      <td>0.231117</td>\n",
       "      <td>-0.624150</td>\n",
       "      <td>-1.888552</td>\n",
       "    </tr>\n",
       "    <tr>\n",
       "      <th>LU7C4KoTNp</th>\n",
       "      <td>1.833157</td>\n",
       "      <td>-2.529643</td>\n",
       "      <td>-0.418020</td>\n",
       "      <td>0.250608</td>\n",
       "    </tr>\n",
       "    <tr>\n",
       "      <th>3MrYA0NeLn</th>\n",
       "      <td>-0.598238</td>\n",
       "      <td>0.988273</td>\n",
       "      <td>-0.819362</td>\n",
       "      <td>0.899106</td>\n",
       "    </tr>\n",
       "    <tr>\n",
       "      <th>LWhAqWwLIt</th>\n",
       "      <td>-0.506015</td>\n",
       "      <td>0.343316</td>\n",
       "      <td>-0.898574</td>\n",
       "      <td>1.248340</td>\n",
       "    </tr>\n",
       "    <tr>\n",
       "      <th>72NrwTwl7O</th>\n",
       "      <td>0.829369</td>\n",
       "      <td>-0.063367</td>\n",
       "      <td>-0.459781</td>\n",
       "      <td>2.116464</td>\n",
       "    </tr>\n",
       "    <tr>\n",
       "      <th>Jw6cURK8kA</th>\n",
       "      <td>0.318024</td>\n",
       "      <td>0.989978</td>\n",
       "      <td>0.709822</td>\n",
       "      <td>-0.539058</td>\n",
       "    </tr>\n",
       "    <tr>\n",
       "      <th>2jHScykpqY</th>\n",
       "      <td>-1.017518</td>\n",
       "      <td>-0.584288</td>\n",
       "      <td>-0.440094</td>\n",
       "      <td>1.094003</td>\n",
       "    </tr>\n",
       "    <tr>\n",
       "      <th>rBSRU6gbSc</th>\n",
       "      <td>0.407701</td>\n",
       "      <td>0.760808</td>\n",
       "      <td>-2.253596</td>\n",
       "      <td>0.211154</td>\n",
       "    </tr>\n",
       "    <tr>\n",
       "      <th>lUXZwGsFAy</th>\n",
       "      <td>-0.165089</td>\n",
       "      <td>0.392473</td>\n",
       "      <td>-1.302272</td>\n",
       "      <td>0.476070</td>\n",
       "    </tr>\n",
       "    <tr>\n",
       "      <th>z3OmfwI25u</th>\n",
       "      <td>0.625549</td>\n",
       "      <td>-1.514077</td>\n",
       "      <td>1.661781</td>\n",
       "      <td>0.825406</td>\n",
       "    </tr>\n",
       "  </tbody>\n",
       "</table>\n",
       "</div>"
      ],
      "text/plain": [
       "                   A         B         C         D\n",
       "URMVvHzTA6  1.265084  0.722351 -0.586344 -0.603416\n",
       "6XtCOmUfOt -1.481678  1.260293 -0.595652 -0.372425\n",
       "cu0fBbN14A -0.310017  0.824252 -0.059986  1.242138\n",
       "DIfzzttFNA -0.303413 -0.056332 -0.382758 -2.030718\n",
       "W9Xmr5MKbO -0.414613  0.671362  0.197046  0.503501\n",
       "50z2kFRn6v -0.617809 -0.359157  1.695765  0.393641\n",
       "rkGXRAXn6r -0.987923  1.091318 -1.280359 -0.509785\n",
       "Bf6WytpGpf  0.068635 -0.085423  0.087884 -0.702358\n",
       "vUAGFDBvUa  1.093728 -0.219484  1.169825 -0.197037\n",
       "UhkijDe1QB  0.765616  0.041184  1.055348  0.503691\n",
       "syZ5Fm0OpO  0.554164 -1.236251  0.255755  1.757333\n",
       "EFYAwWLEZg -0.044405  2.544793  0.230792 -2.093238\n",
       "cIygH1qcvK -1.086577 -0.222166  1.312289  1.119763\n",
       "ex3k3x7DYy  0.260771 -0.240598  0.673713  1.401118\n",
       "msPCAURTTc  1.434318 -0.075712 -2.151299  1.980540\n",
       "mdZf5rbuqm  0.903259  0.529590  0.765867  1.617866\n",
       "2UbzcD3fRP -1.272637  0.709142 -0.683505  0.792901\n",
       "3dWSMS3tML  0.673577 -0.452175 -0.301319 -0.388727\n",
       "aH0nrZygJx -0.209439  1.638700  0.019523  1.707670\n",
       "o4kqTUYspq -0.329088 -0.027999  0.787722 -0.998205\n",
       "9uKmpgFlIC -0.569465  0.231117 -0.624150 -1.888552\n",
       "LU7C4KoTNp  1.833157 -2.529643 -0.418020  0.250608\n",
       "3MrYA0NeLn -0.598238  0.988273 -0.819362  0.899106\n",
       "LWhAqWwLIt -0.506015  0.343316 -0.898574  1.248340\n",
       "72NrwTwl7O  0.829369 -0.063367 -0.459781  2.116464\n",
       "Jw6cURK8kA  0.318024  0.989978  0.709822 -0.539058\n",
       "2jHScykpqY -1.017518 -0.584288 -0.440094  1.094003\n",
       "rBSRU6gbSc  0.407701  0.760808 -2.253596  0.211154\n",
       "lUXZwGsFAy -0.165089  0.392473 -1.302272  0.476070\n",
       "z3OmfwI25u  0.625549 -1.514077  1.661781  0.825406"
      ]
     },
     "execution_count": 77,
     "metadata": {},
     "output_type": "execute_result"
    }
   ],
   "source": [
    "    pandas.util.testing.makeDataFrame()"
   ]
  },
  {
   "cell_type": "code",
   "execution_count": 79,
   "metadata": {},
   "outputs": [],
   "source": [
    "    random_data = pandas.concat([pandas.util.testing.makeDataFrame() for _ in range(10)])"
   ]
  },
  {
   "cell_type": "code",
   "execution_count": 84,
   "metadata": {},
   "outputs": [],
   "source": [
    "    import scipy.spatial.distance"
   ]
  },
  {
   "cell_type": "code",
   "execution_count": null,
   "metadata": {},
   "outputs": [],
   "source": [
    "    D = pandas.DataFrame(\n",
    "        scipy.spatial.distance.squareform(scipy.spatial.distance.pdist(random_data)),\n",
    "        random_data.index, random_data.index\n",
    "    )"
   ]
  },
  {
   "cell_type": "code",
   "execution_count": null,
   "metadata": {},
   "outputs": [],
   "source": [
    "    D.stack().hist()"
   ]
  },
  {
   "cell_type": "code",
   "execution_count": null,
   "metadata": {},
   "outputs": [],
   "source": []
  },
  {
   "cell_type": "code",
   "execution_count": 82,
   "metadata": {},
   "outputs": [
    {
     "data": {
      "text/plain": [
       "0FNzMw7Ify  A   NaN\n",
       "            B   NaN\n",
       "            C   NaN\n",
       "            D   NaN\n",
       "0Z2UvcjZhv  A   NaN\n",
       "            B   NaN\n",
       "            C   NaN\n",
       "            D   NaN\n",
       "0Z4vQ908jm  A   NaN\n",
       "            B   NaN\n",
       "            C   NaN\n",
       "            D   NaN\n",
       "0eIe9BHTHr  A   NaN\n",
       "            B   NaN\n",
       "            C   NaN\n",
       "            D   NaN\n",
       "0jXrfjE8xO  A   NaN\n",
       "            B   NaN\n",
       "            C   NaN\n",
       "            D   NaN\n",
       "0juxdBnTXx  A   NaN\n",
       "            B   NaN\n",
       "            C   NaN\n",
       "            D   NaN\n",
       "0s0Am2Q7TM  A   NaN\n",
       "            B   NaN\n",
       "            C   NaN\n",
       "            D   NaN\n",
       "1IYmooa0lo  A   NaN\n",
       "            B   NaN\n",
       "                 ..\n",
       "xY8wH3lWfh  C   NaN\n",
       "            D   NaN\n",
       "yFf7dVblyx  A   NaN\n",
       "            B   NaN\n",
       "            C   NaN\n",
       "            D   NaN\n",
       "yIEM5G6QQh  A   NaN\n",
       "            B   NaN\n",
       "            C   NaN\n",
       "            D   NaN\n",
       "yo1Je2ut3n  A   NaN\n",
       "            B   NaN\n",
       "            C   NaN\n",
       "            D   NaN\n",
       "yqmmr3wzsL  A   NaN\n",
       "            B   NaN\n",
       "            C   NaN\n",
       "            D   NaN\n",
       "z3kkTGLjl7  A   NaN\n",
       "            B   NaN\n",
       "            C   NaN\n",
       "            D   NaN\n",
       "zsDP4j2IEI  A   NaN\n",
       "            B   NaN\n",
       "            C   NaN\n",
       "            D   NaN\n",
       "zyx3U6Jvr6  A   NaN\n",
       "            B   NaN\n",
       "            C   NaN\n",
       "            D   NaN\n",
       "Length: 2400, dtype: float64"
      ]
     },
     "execution_count": 82,
     "metadata": {},
     "output_type": "execute_result"
    }
   ],
   "source": [
    "    random_data.stack() - random_data.unstack()"
   ]
  },
  {
   "cell_type": "code",
   "execution_count": 8,
   "metadata": {},
   "outputs": [
    {
     "name": "stderr",
     "output_type": "stream",
     "text": [
      "C:\\Anaconda3\\lib\\site-packages\\ibis\\sql\\postgres\\compiler.py:223: UserWarning: locale specific date formats (%c, %x, %X) are not yet implemented for Windows\n",
      "  'for %s' % platform.system()\n"
     ]
    },
    {
     "data": {
      "text/plain": [
       "0    1e796e69aee7d5caaa8302de99522689d773d858bdc425...\n",
       "1    ac00bfb030a3bb94b6bcb6b4e57cc7025d644a6673d15c...\n",
       "2    f69c4ed7f42635e24d8b0d6e7cf4e15bd2edd8dc46c647...\n",
       "Name: key, dtype: object"
      ]
     },
     "execution_count": 8,
     "metadata": {},
     "output_type": "execute_result"
    }
   ],
   "source": [
    "    import ibis\n",
    "\n",
    "    db = ibis.sqlite.connect('idiomatic_pandas.sqlite')\n",
    "\n",
    "    db.list_tables()\n",
    "    db.table('urls')['value'].execute()\n",
    "    db.table('responses')['key'].execute()a\n",
    "        "
   ]
  },
  {
   "cell_type": "code",
   "execution_count": null,
   "metadata": {},
   "outputs": [],
   "source": []
  }
 ],
 "metadata": {
  "kernelspec": {
   "display_name": "Python 3",
   "language": "python",
   "name": "python3"
  },
  "language_info": {
   "codemirror_mode": {
    "name": "ipython",
    "version": 3
   },
   "file_extension": ".py",
   "mimetype": "text/x-python",
   "name": "python",
   "nbconvert_exporter": "python",
   "pygments_lexer": "ipython3",
   "version": "3.6.6"
  }
 },
 "nbformat": 4,
 "nbformat_minor": 2
}
