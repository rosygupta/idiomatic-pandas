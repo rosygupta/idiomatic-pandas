{
 "cells": [
  {
   "cell_type": "code",
   "execution_count": 1,
   "metadata": {},
   "outputs": [
    {
     "data": {
      "text/markdown": [
       "    import pandas; \"Explicit is better than implicit.\";"
      ],
      "text/plain": [
       "<IPython.core.display.Markdown object>"
      ]
     },
     "metadata": {},
     "output_type": "display_data"
    }
   ],
   "source": [
    "    import pandas; \"Explicit is better than implicit.\";"
   ]
  },
  {
   "cell_type": "code",
   "execution_count": 5,
   "metadata": {},
   "outputs": [
    {
     "data": {
      "text/markdown": [
       "    import os; os.environ.get('gh');"
      ],
      "text/plain": [
       "<IPython.core.display.Markdown object>"
      ]
     },
     "metadata": {},
     "output_type": "display_data"
    }
   ],
   "source": [
    "    import os; os.environ.get('gh');"
   ]
  },
  {
   "cell_type": "code",
   "execution_count": 6,
   "metadata": {},
   "outputs": [
    {
     "data": {
      "text/markdown": [
       "    def timify(df):\n",
       "        at = [str for str in df.columns if str.endswith('_at')]\n",
       "        df[at] = df[at].apply(pandas.to_datetime)        \n",
       "        return df"
      ],
      "text/plain": [
       "<IPython.core.display.Markdown object>"
      ]
     },
     "metadata": {},
     "output_type": "display_data"
    }
   ],
   "source": [
    "    def timify(df):\n",
    "        at = [str for str in df.columns if str.endswith('_at')]\n",
    "        df[at] = df[at].apply(pandas.to_datetime)        \n",
    "        return df"
   ]
  },
  {
   "cell_type": "code",
   "execution_count": 3,
   "metadata": {},
   "outputs": [
    {
     "data": {
      "text/markdown": [
       "    import requests_cache, requests, asyncio; requests_cache.install_cache('idiomatic_pandas')"
      ],
      "text/plain": [
       "<IPython.core.display.Markdown object>"
      ]
     },
     "metadata": {},
     "output_type": "display_data"
    }
   ],
   "source": [
    "    import requests_cache, requests, asyncio; requests_cache.install_cache('idiomatic_pandas')"
   ]
  },
  {
   "cell_type": "code",
   "execution_count": 27,
   "metadata": {},
   "outputs": [
    {
     "data": {
      "text/markdown": [
       "    from typing import *"
      ],
      "text/plain": [
       "<IPython.core.display.Markdown object>"
      ]
     },
     "metadata": {},
     "output_type": "display_data"
    }
   ],
   "source": [
    "    from typing import *"
   ]
  },
  {
   "cell_type": "markdown",
   "metadata": {},
   "source": [
    "`get` is asynchronous allowing data to be downloaded concurrently."
   ]
  },
  {
   "cell_type": "code",
   "execution_count": 30,
   "metadata": {},
   "outputs": [
    {
     "data": {
      "text/markdown": [
       "    async def get(url, params={}, headers={}) -> Union[pandas.Series, pandas.DataFrame]: \n",
       "        result = requests.get(url, params={\n",
       "            **params, 'access_token': os.environ.get('gh')\n",
       "        }, headers=headers).content\n",
       "        try:\n",
       "            return pandas.read_json(result)\n",
       "        except ValueError: \n",
       "            return pandas.read_json(result, typ=pandas.Series)"
      ],
      "text/plain": [
       "<IPython.core.display.Markdown object>"
      ]
     },
     "metadata": {},
     "output_type": "display_data"
    }
   ],
   "source": [
    "    async def get(url, params={}, headers={}) -> Union[pandas.Series, pandas.DataFrame]: \n",
    "        result = requests.get(url, params={\n",
    "            **params, 'access_token': os.environ.get('gh')\n",
    "        }, headers=headers).content\n",
    "        try:\n",
    "            return pandas.read_json(result)\n",
    "        except ValueError: \n",
    "            return pandas.read_json(result, typ=pandas.Series)"
   ]
  },
  {
   "cell_type": "code",
   "execution_count": null,
   "metadata": {},
   "outputs": [],
   "source": []
  }
 ],
 "metadata": {
  "kernelspec": {
   "display_name": "pidgin",
   "language": "",
   "name": "pidgin"
  },
  "language_info": {
   "argv": [
    "python",
    "-m",
    "pidgin.kernel",
    "-f",
    "{connection_file}"
   ],
   "codemirror_mode": {
    "name": "ipython",
    "version": 3
   },
   "display_name": "pidgin",
   "file_extension": ".md.ipynb",
   "mimetype": "text/x-python",
   "name": "pidgin",
   "nbconvert_exporter": "python",
   "pygments_lexer": "ipython3",
   "version": "3.6.6"
  }
 },
 "nbformat": 4,
 "nbformat_minor": 2
}
